{
 "cells": [
  {
   "cell_type": "code",
   "execution_count": 1,
   "metadata": {},
   "outputs": [],
   "source": [
    "import polars as pl\n",
    "import plotly.express as px\n",
    "import pandas as pd\n",
    "from polars_visualization import pl_config as config\n",
    "from freqSevEda import FreqSevEDA"
   ]
  },
  {
   "cell_type": "markdown",
   "metadata": {},
   "source": [
    "# Data overview\n",
    "\n",
    "- We have 1580 entries. Grouping by Loc ID and Año Póliza we saw that each policy is annual."
   ]
  },
  {
   "cell_type": "code",
   "execution_count": 2,
   "metadata": {},
   "outputs": [
    {
     "name": "stdout",
     "output_type": "stream",
     "text": [
      "shape: (1_580, 24)\n",
      "| Loc ID | Año Póliza | Exposicion | Suma Asegurada | Prima   | Evento ID | Numero Siniestros | Mes  | Duración de la inundación (día… | Severidad de la inundación (es… | Precipitación (mm) | Incremento del Nivel del Río (… | Monto de siniestro | Latitud | Longitud | Ciudad        | Pais         | Codigo pais | Continente | Sub continente     | Rango_SA_mill | Rango_prima_miles | Rango_Precipitacion | Rango_Increment_Rio |\n",
      "|--------|------------|------------|----------------|---------|-----------|-------------------|------|---------------------------------|---------------------------------|--------------------|---------------------------------|--------------------|---------|----------|---------------|--------------|-------------|------------|--------------------|---------------|-------------------|---------------------|---------------------|\n",
      "| loc001 | 2,014      | 1          | 87,223,100     | 659,145 | null      | 0                 | null | null                            | null                            | null               | null                            | 0                  | -33.907 | 18.416   | Cape Town     | South Africa | ZAF         | Africa     | Sub-Saharan Africa | 84-172        | 550.53-9872       | null                | null                |\n",
      "| loc001 | 2,015      | 1          | 89,011,170     | 672,330 | null      | 0                 | null | null                            | null                            | null               | null                            | 0                  | -33.907 | 18.416   | Cape Town     | South Africa | ZAF         | Africa     | Sub-Saharan Africa | 84-172        | 550.53-9872       | null                | null                |\n",
      "| loc001 | 2,016      | 1          | 90,444,250     | 685,780 | null      | 0                 | null | null                            | null                            | null               | null                            | 0                  | -33.907 | 18.416   | Cape Town     | South Africa | ZAF         | Africa     | Sub-Saharan Africa | 84-172        | 550.53-9872       | null                | null                |\n",
      "| loc001 | 2,017      | 1          | 92,596,820     | 699,500 | null      | 0                 | null | null                            | null                            | null               | null                            | 0                  | -33.907 | 18.416   | Cape Town     | South Africa | ZAF         | Africa     | Sub-Saharan Africa | 84-172        | 550.53-9872       | null                | null                |\n",
      "| loc001 | 2,018      | 1          | 94,439,500     | 713,490 | null      | 0                 | null | null                            | null                            | null               | null                            | 0                  | -33.907 | 18.416   | Cape Town     | South Africa | ZAF         | Africa     | Sub-Saharan Africa | 84-172        | 550.53-9872       | null                | null                |\n",
      "| …      | …          | …          | …              | …       | …         | …                 | …    | …                               | …                               | …                  | …                               | …                  | …       | …        | …             | …            | …           | …          | …                  | …             | …                 | …                   | …                   |\n",
      "| loc200 | 2,019      | 1          | 56,113,940     | 566,220 | null      | 0                 | null | null                            | null                            | null               | null                            | 0                  | -25.887 | 28.128   | Rooihuiskraal | South Africa | ZAF         | Africa     | Sub-Saharan Africa | 49-84         | 550.53-9872       | null                | null                |\n",
      "| loc200 | 2,020      | 1          | 57,283,920     | 577,540 | null      | 0                 | null | null                            | null                            | null               | null                            | 0                  | -25.887 | 28.128   | Rooihuiskraal | South Africa | ZAF         | Africa     | Sub-Saharan Africa | 49-84         | 550.53-9872       | null                | null                |\n",
      "| loc200 | 2,021      | 1          | 58,561,350     | 589,090 | null      | 0                 | null | null                            | null                            | null               | null                            | 0                  | -25.887 | 28.128   | Rooihuiskraal | South Africa | ZAF         | Africa     | Sub-Saharan Africa | 49-84         | 550.53-9872       | null                | null                |\n",
      "| loc200 | 2,022      | 1          | 59,627,170     | 600,870 | null      | 0                 | null | null                            | null                            | null               | null                            | 0                  | -25.887 | 28.128   | Rooihuiskraal | South Africa | ZAF         | Africa     | Sub-Saharan Africa | 49-84         | 550.53-9872       | null                | null                |\n",
      "| loc200 | 2,023      | 1          | 60,825,680     | 612,890 | null      | 0                 | null | null                            | null                            | null               | null                            | 0                  | -25.887 | 28.128   | Rooihuiskraal | South Africa | ZAF         | Africa     | Sub-Saharan Africa | 49-84         | 550.53-9872       | null                | null                |\n"
     ]
    }
   ],
   "source": [
    "#path = r\"C:\\Users\\abrah\\OneDrive\\Desktop\\casoCAS\\archivo\\data\\final-dataset.xlsx\"\n",
    "path2 = r\"C:\\Users\\abrah\\OneDrive\\Desktop\\final-dataset_rangos_V4.xlsx\"\n",
    "df = pl.read_excel(path2, sheet_name=\"Sheet 1\")\n",
    "\n",
    "with config():\n",
    "    print(df)"
   ]
  },
  {
   "cell_type": "code",
   "execution_count": 3,
   "metadata": {},
   "outputs": [
    {
     "data": {
      "application/vnd.jupyter.widget-view+json": {
       "model_id": "8372b27d32cd4664ac4efaf1b7c8eb51",
       "version_major": 2,
       "version_minor": 0
      },
      "text/plain": [
       "Dropdown(description='Columns:', options=('-', 'Loc ID', 'Año Póliza', 'Exposicion', 'Suma Asegurada', 'Prima'…"
      ]
     },
     "metadata": {},
     "output_type": "display_data"
    },
    {
     "data": {
      "application/vnd.jupyter.widget-view+json": {
       "model_id": "24573afc96f443b2a116fa7aeaf23ce8",
       "version_major": 2,
       "version_minor": 0
      },
      "text/plain": [
       "Output()"
      ]
     },
     "metadata": {},
     "output_type": "display_data"
    },
    {
     "data": {
      "application/vnd.plotly.v1+json": {
       "config": {
        "plotlyServerURL": "https://plot.ly"
       },
       "data": [
        {
         "name": "Exposicion",
         "type": "bar",
         "visible": true,
         "x": [
          "Abuja",
          "Adelaide",
          "Alejandría",
          "Amsterdam",
          "Arroyomolinos",
          "Auckland",
          "Aventura",
          "Barcelona",
          "Beckenham",
          "Belle Chasse",
          "Berlin",
          "Bogotá",
          "Bologna",
          "Brisbane",
          "Brisbane City",
          "Buenos Aires",
          "Burnaby",
          "Canberra",
          "Cape Town",
          "City of Westminster",
          "Ciudad de México",
          "Concepción",
          "Córdoba",
          "Daca",
          "Daerah Khusus ibukota Jakarta",
          "Dhaka",
          "Dongcheng",
          "Doral",
          "El cairo",
          "Germiston",
          "Guadalajara",
          "Gurgaon",
          "Houston",
          "Johannesburgo",
          "Joondalup",
          "Lagos",
          "Lima Metropolitana",
          "Lo Barnechea",
          "London",
          "Lower Hutt",
          "Lyon",
          "Madrid",
          "Makati",
          "Mar_1",
          "Mar_2",
          "Maungakiekie-Tāmaki",
          "Mazarambroz",
          "Melbourne",
          "Metairie",
          "Miami",
          "Mombasa",
          "Mumbai City",
          "Mumbai Suburban",
          "Nairobi",
          "New Orleans",
          "Nueva Delhi",
          "Old Toronto",
          "Osaka",
          "Paris",
          "Pasay",
          "Pekin",
          "Perth",
          "Perímetro Urbano Medellín",
          "Queensland",
          "Rio de Janeiro",
          "Roma",
          "Rooihuiskraal",
          "Sandton",
          "Santiago",
          "Sheikh Zayed",
          "Surabaya",
          "Sydney",
          "São Paulo",
          "Tokio",
          "Toronto",
          "Tudor ward",
          "Upper Harbour",
          "Valparaíso",
          "Vancouver",
          "Viña del Mar",
          "Wellington",
          "Wuham",
          "Wuhan",
          "Yaguas",
          "Zapopan",
          "Ōrākei"
         ],
         "xaxis": "x",
         "y": [
          30,
          30,
          10,
          30,
          10,
          10,
          10,
          20,
          10,
          10,
          30,
          30,
          20,
          10,
          10,
          40,
          10,
          30,
          40,
          10,
          30,
          10,
          30,
          10,
          20,
          30,
          20,
          10,
          20,
          10,
          20,
          10,
          20,
          10,
          10,
          30,
          20,
          10,
          20,
          10,
          40,
          30,
          10,
          10,
          10,
          10,
          10,
          20,
          10,
          10,
          20,
          10,
          30,
          40,
          20,
          10,
          10,
          20,
          20,
          10,
          20,
          20,
          20,
          10,
          40,
          40,
          10,
          10,
          20,
          10,
          30,
          20,
          30,
          20,
          20,
          10,
          10,
          10,
          20,
          10,
          30,
          10,
          20,
          10,
          20,
          10
         ],
         "yaxis": "y"
        },
        {
         "name": "marginalFreq",
         "type": "scatter",
         "visible": true,
         "x": [
          "Abuja",
          "Adelaide",
          "Alejandría",
          "Amsterdam",
          "Arroyomolinos",
          "Auckland",
          "Aventura",
          "Barcelona",
          "Beckenham",
          "Belle Chasse",
          "Berlin",
          "Bogotá",
          "Bologna",
          "Brisbane",
          "Brisbane City",
          "Buenos Aires",
          "Burnaby",
          "Canberra",
          "Cape Town",
          "City of Westminster",
          "Ciudad de México",
          "Concepción",
          "Córdoba",
          "Daca",
          "Daerah Khusus ibukota Jakarta",
          "Dhaka",
          "Dongcheng",
          "Doral",
          "El cairo",
          "Germiston",
          "Guadalajara",
          "Gurgaon",
          "Houston",
          "Johannesburgo",
          "Joondalup",
          "Lagos",
          "Lima Metropolitana",
          "Lo Barnechea",
          "London",
          "Lower Hutt",
          "Lyon",
          "Madrid",
          "Makati",
          "Mar_1",
          "Mar_2",
          "Maungakiekie-Tāmaki",
          "Mazarambroz",
          "Melbourne",
          "Metairie",
          "Miami",
          "Mombasa",
          "Mumbai City",
          "Mumbai Suburban",
          "Nairobi",
          "New Orleans",
          "Nueva Delhi",
          "Old Toronto",
          "Osaka",
          "Paris",
          "Pasay",
          "Pekin",
          "Perth",
          "Perímetro Urbano Medellín",
          "Queensland",
          "Rio de Janeiro",
          "Roma",
          "Rooihuiskraal",
          "Sandton",
          "Santiago",
          "Sheikh Zayed",
          "Surabaya",
          "Sydney",
          "São Paulo",
          "Tokio",
          "Toronto",
          "Tudor ward",
          "Upper Harbour",
          "Valparaíso",
          "Vancouver",
          "Viña del Mar",
          "Wellington",
          "Wuham",
          "Wuhan",
          "Yaguas",
          "Zapopan",
          "Ōrākei"
         ],
         "xaxis": "x",
         "y": [
          0.1,
          0.1,
          0.1,
          0.1,
          0.1,
          0.1,
          0.2,
          0.1,
          0.2,
          0.1,
          0.2,
          0.1,
          0.1,
          0.1,
          0.1,
          0.1,
          0.1,
          0.1,
          0.1,
          0.1,
          0.1,
          0.1,
          0.1,
          0.1,
          0.1,
          0.1,
          0.1,
          0.2,
          0.1,
          0.1,
          0.1,
          0.1,
          0.2,
          0.1,
          0.2,
          0.2,
          0.2,
          0.1,
          0.1,
          0.1,
          0.1,
          0.1,
          0.1,
          0.1,
          0.1,
          0.1,
          0.2,
          0.2,
          0.1,
          0.2,
          0.2,
          0.1,
          0.1,
          0.2,
          0.1,
          0.1,
          0.2,
          0.1,
          0.1,
          0.1,
          0.1,
          0.2,
          0.1,
          0.1,
          0.1,
          0.1,
          0.1,
          0.1,
          0.1,
          0.1,
          0.1,
          0.1,
          0.1,
          0.1,
          0.2,
          0.2,
          0.1,
          0.1,
          0.1,
          0.1,
          0.1,
          0.1,
          0.1,
          0.1,
          0.1,
          0.1
         ],
         "yaxis": "y2"
        },
        {
         "name": "portFreq",
         "type": "scatter",
         "visible": true,
         "x": [
          "Abuja",
          "Adelaide",
          "Alejandría",
          "Amsterdam",
          "Arroyomolinos",
          "Auckland",
          "Aventura",
          "Barcelona",
          "Beckenham",
          "Belle Chasse",
          "Berlin",
          "Bogotá",
          "Bologna",
          "Brisbane",
          "Brisbane City",
          "Buenos Aires",
          "Burnaby",
          "Canberra",
          "Cape Town",
          "City of Westminster",
          "Ciudad de México",
          "Concepción",
          "Córdoba",
          "Daca",
          "Daerah Khusus ibukota Jakarta",
          "Dhaka",
          "Dongcheng",
          "Doral",
          "El cairo",
          "Germiston",
          "Guadalajara",
          "Gurgaon",
          "Houston",
          "Johannesburgo",
          "Joondalup",
          "Lagos",
          "Lima Metropolitana",
          "Lo Barnechea",
          "London",
          "Lower Hutt",
          "Lyon",
          "Madrid",
          "Makati",
          "Mar_1",
          "Mar_2",
          "Maungakiekie-Tāmaki",
          "Mazarambroz",
          "Melbourne",
          "Metairie",
          "Miami",
          "Mombasa",
          "Mumbai City",
          "Mumbai Suburban",
          "Nairobi",
          "New Orleans",
          "Nueva Delhi",
          "Old Toronto",
          "Osaka",
          "Paris",
          "Pasay",
          "Pekin",
          "Perth",
          "Perímetro Urbano Medellín",
          "Queensland",
          "Rio de Janeiro",
          "Roma",
          "Rooihuiskraal",
          "Sandton",
          "Santiago",
          "Sheikh Zayed",
          "Surabaya",
          "Sydney",
          "São Paulo",
          "Tokio",
          "Toronto",
          "Tudor ward",
          "Upper Harbour",
          "Valparaíso",
          "Vancouver",
          "Viña del Mar",
          "Wellington",
          "Wuham",
          "Wuhan",
          "Yaguas",
          "Zapopan",
          "Ōrākei"
         ],
         "xaxis": "x",
         "y": [
          0.1189873417721519,
          0.1189873417721519,
          0.1189873417721519,
          0.1189873417721519,
          0.1189873417721519,
          0.1189873417721519,
          0.1189873417721519,
          0.1189873417721519,
          0.1189873417721519,
          0.1189873417721519,
          0.1189873417721519,
          0.1189873417721519,
          0.1189873417721519,
          0.1189873417721519,
          0.1189873417721519,
          0.1189873417721519,
          0.1189873417721519,
          0.1189873417721519,
          0.1189873417721519,
          0.1189873417721519,
          0.1189873417721519,
          0.1189873417721519,
          0.1189873417721519,
          0.1189873417721519,
          0.1189873417721519,
          0.1189873417721519,
          0.1189873417721519,
          0.1189873417721519,
          0.1189873417721519,
          0.1189873417721519,
          0.1189873417721519,
          0.1189873417721519,
          0.1189873417721519,
          0.1189873417721519,
          0.1189873417721519,
          0.1189873417721519,
          0.1189873417721519,
          0.1189873417721519,
          0.1189873417721519,
          0.1189873417721519,
          0.1189873417721519,
          0.1189873417721519,
          0.1189873417721519,
          0.1189873417721519,
          0.1189873417721519,
          0.1189873417721519,
          0.1189873417721519,
          0.1189873417721519,
          0.1189873417721519,
          0.1189873417721519,
          0.1189873417721519,
          0.1189873417721519,
          0.1189873417721519,
          0.1189873417721519,
          0.1189873417721519,
          0.1189873417721519,
          0.1189873417721519,
          0.1189873417721519,
          0.1189873417721519,
          0.1189873417721519,
          0.1189873417721519,
          0.1189873417721519,
          0.1189873417721519,
          0.1189873417721519,
          0.1189873417721519,
          0.1189873417721519,
          0.1189873417721519,
          0.1189873417721519,
          0.1189873417721519,
          0.1189873417721519,
          0.1189873417721519,
          0.1189873417721519,
          0.1189873417721519,
          0.1189873417721519,
          0.1189873417721519,
          0.1189873417721519,
          0.1189873417721519,
          0.1189873417721519,
          0.1189873417721519,
          0.1189873417721519,
          0.1189873417721519,
          0.1189873417721519,
          0.1189873417721519,
          0.1189873417721519,
          0.1189873417721519,
          0.1189873417721519
         ],
         "yaxis": "y2"
        },
        {
         "name": "Numero Siniestros",
         "type": "bar",
         "visible": false,
         "x": [
          "Abuja",
          "Adelaide",
          "Alejandría",
          "Amsterdam",
          "Arroyomolinos",
          "Auckland",
          "Aventura",
          "Barcelona",
          "Beckenham",
          "Belle Chasse",
          "Berlin",
          "Bogotá",
          "Bologna",
          "Brisbane",
          "Brisbane City",
          "Buenos Aires",
          "Burnaby",
          "Canberra",
          "Cape Town",
          "City of Westminster",
          "Ciudad de México",
          "Concepción",
          "Córdoba",
          "Daca",
          "Daerah Khusus ibukota Jakarta",
          "Dhaka",
          "Dongcheng",
          "Doral",
          "El cairo",
          "Germiston",
          "Guadalajara",
          "Gurgaon",
          "Houston",
          "Johannesburgo",
          "Joondalup",
          "Lagos",
          "Lima Metropolitana",
          "Lo Barnechea",
          "London",
          "Lower Hutt",
          "Lyon",
          "Madrid",
          "Makati",
          "Mar_1",
          "Mar_2",
          "Maungakiekie-Tāmaki",
          "Mazarambroz",
          "Melbourne",
          "Metairie",
          "Miami",
          "Mombasa",
          "Mumbai City",
          "Mumbai Suburban",
          "Nairobi",
          "New Orleans",
          "Nueva Delhi",
          "Old Toronto",
          "Osaka",
          "Paris",
          "Pasay",
          "Pekin",
          "Perth",
          "Perímetro Urbano Medellín",
          "Queensland",
          "Rio de Janeiro",
          "Roma",
          "Rooihuiskraal",
          "Sandton",
          "Santiago",
          "Sheikh Zayed",
          "Surabaya",
          "Sydney",
          "São Paulo",
          "Tokio",
          "Toronto",
          "Tudor ward",
          "Upper Harbour",
          "Valparaíso",
          "Vancouver",
          "Viña del Mar",
          "Wellington",
          "Wuham",
          "Wuhan",
          "Yaguas",
          "Zapopan",
          "Ōrākei"
         ],
         "xaxis": "x",
         "y": [
          3,
          3,
          1,
          3,
          1,
          1,
          2,
          2,
          2,
          1,
          6,
          3,
          2,
          1,
          1,
          4,
          1,
          3,
          4,
          1,
          3,
          1,
          3,
          1,
          2,
          3,
          2,
          2,
          2,
          1,
          2,
          1,
          4,
          1,
          2,
          6,
          4,
          1,
          2,
          1,
          4,
          3,
          1,
          1,
          1,
          1,
          2,
          4,
          1,
          2,
          4,
          1,
          3,
          8,
          2,
          1,
          2,
          2,
          2,
          1,
          2,
          4,
          2,
          1,
          4,
          4,
          1,
          1,
          2,
          1,
          3,
          2,
          3,
          2,
          4,
          2,
          1,
          1,
          2,
          1,
          3,
          1,
          2,
          1,
          2,
          1
         ],
         "yaxis": "y"
        },
        {
         "name": "marginalSeve",
         "type": "scatter",
         "visible": false,
         "x": [
          "Abuja",
          "Adelaide",
          "Alejandría",
          "Amsterdam",
          "Arroyomolinos",
          "Auckland",
          "Aventura",
          "Barcelona",
          "Beckenham",
          "Belle Chasse",
          "Berlin",
          "Bogotá",
          "Bologna",
          "Brisbane",
          "Brisbane City",
          "Buenos Aires",
          "Burnaby",
          "Canberra",
          "Cape Town",
          "City of Westminster",
          "Ciudad de México",
          "Concepción",
          "Córdoba",
          "Daca",
          "Daerah Khusus ibukota Jakarta",
          "Dhaka",
          "Dongcheng",
          "Doral",
          "El cairo",
          "Germiston",
          "Guadalajara",
          "Gurgaon",
          "Houston",
          "Johannesburgo",
          "Joondalup",
          "Lagos",
          "Lima Metropolitana",
          "Lo Barnechea",
          "London",
          "Lower Hutt",
          "Lyon",
          "Madrid",
          "Makati",
          "Mar_1",
          "Mar_2",
          "Maungakiekie-Tāmaki",
          "Mazarambroz",
          "Melbourne",
          "Metairie",
          "Miami",
          "Mombasa",
          "Mumbai City",
          "Mumbai Suburban",
          "Nairobi",
          "New Orleans",
          "Nueva Delhi",
          "Old Toronto",
          "Osaka",
          "Paris",
          "Pasay",
          "Pekin",
          "Perth",
          "Perímetro Urbano Medellín",
          "Queensland",
          "Rio de Janeiro",
          "Roma",
          "Rooihuiskraal",
          "Sandton",
          "Santiago",
          "Sheikh Zayed",
          "Surabaya",
          "Sydney",
          "São Paulo",
          "Tokio",
          "Toronto",
          "Tudor ward",
          "Upper Harbour",
          "Valparaíso",
          "Vancouver",
          "Viña del Mar",
          "Wellington",
          "Wuham",
          "Wuhan",
          "Yaguas",
          "Zapopan",
          "Ōrākei"
         ],
         "xaxis": "x",
         "y": [
          370000,
          170000,
          290000,
          453333.3333333333,
          150000,
          470000,
          780000,
          1000000,
          335000,
          100000,
          848333.3333333334,
          266666.6666666667,
          1100000,
          450000,
          290000,
          77500,
          600000,
          500000,
          232500,
          1540000,
          476666.6666666667,
          350000,
          306666.6666666667,
          1990000,
          2500000,
          1170000,
          1285000,
          1070000,
          185000,
          220000,
          360000,
          2510000,
          600000,
          220000,
          360000,
          275000,
          400000,
          90000,
          735000,
          260000,
          325000,
          480000,
          2150000,
          200000,
          650000,
          80000,
          25000,
          762500,
          380000,
          1150000,
          45000,
          900000,
          866666.6666666666,
          150000,
          285000,
          2490000,
          615000,
          2000000,
          375000,
          2350000,
          715000,
          185000,
          400000,
          1260000,
          200000,
          300000,
          220000,
          70000,
          65000,
          250000,
          1833333.3333333333,
          1000000,
          200000,
          1250000,
          545000,
          90000,
          200000,
          370000,
          600000,
          380000,
          190000,
          1010000,
          1240000,
          90000,
          340000,
          100000
         ],
         "yaxis": "y2"
        },
        {
         "name": "portSeve",
         "type": "scatter",
         "visible": false,
         "x": [
          "Abuja",
          "Adelaide",
          "Alejandría",
          "Amsterdam",
          "Arroyomolinos",
          "Auckland",
          "Aventura",
          "Barcelona",
          "Beckenham",
          "Belle Chasse",
          "Berlin",
          "Bogotá",
          "Bologna",
          "Brisbane",
          "Brisbane City",
          "Buenos Aires",
          "Burnaby",
          "Canberra",
          "Cape Town",
          "City of Westminster",
          "Ciudad de México",
          "Concepción",
          "Córdoba",
          "Daca",
          "Daerah Khusus ibukota Jakarta",
          "Dhaka",
          "Dongcheng",
          "Doral",
          "El cairo",
          "Germiston",
          "Guadalajara",
          "Gurgaon",
          "Houston",
          "Johannesburgo",
          "Joondalup",
          "Lagos",
          "Lima Metropolitana",
          "Lo Barnechea",
          "London",
          "Lower Hutt",
          "Lyon",
          "Madrid",
          "Makati",
          "Mar_1",
          "Mar_2",
          "Maungakiekie-Tāmaki",
          "Mazarambroz",
          "Melbourne",
          "Metairie",
          "Miami",
          "Mombasa",
          "Mumbai City",
          "Mumbai Suburban",
          "Nairobi",
          "New Orleans",
          "Nueva Delhi",
          "Old Toronto",
          "Osaka",
          "Paris",
          "Pasay",
          "Pekin",
          "Perth",
          "Perímetro Urbano Medellín",
          "Queensland",
          "Rio de Janeiro",
          "Roma",
          "Rooihuiskraal",
          "Sandton",
          "Santiago",
          "Sheikh Zayed",
          "Surabaya",
          "Sydney",
          "São Paulo",
          "Tokio",
          "Toronto",
          "Tudor ward",
          "Upper Harbour",
          "Valparaíso",
          "Vancouver",
          "Viña del Mar",
          "Wellington",
          "Wuham",
          "Wuhan",
          "Yaguas",
          "Zapopan",
          "Ōrākei"
         ],
         "xaxis": "x",
         "y": [
          568510.6382978724,
          568510.6382978724,
          568510.6382978724,
          568510.6382978724,
          568510.6382978724,
          568510.6382978724,
          568510.6382978724,
          568510.6382978724,
          568510.6382978724,
          568510.6382978724,
          568510.6382978724,
          568510.6382978724,
          568510.6382978724,
          568510.6382978724,
          568510.6382978724,
          568510.6382978724,
          568510.6382978724,
          568510.6382978724,
          568510.6382978724,
          568510.6382978724,
          568510.6382978724,
          568510.6382978724,
          568510.6382978724,
          568510.6382978724,
          568510.6382978724,
          568510.6382978724,
          568510.6382978724,
          568510.6382978724,
          568510.6382978724,
          568510.6382978724,
          568510.6382978724,
          568510.6382978724,
          568510.6382978724,
          568510.6382978724,
          568510.6382978724,
          568510.6382978724,
          568510.6382978724,
          568510.6382978724,
          568510.6382978724,
          568510.6382978724,
          568510.6382978724,
          568510.6382978724,
          568510.6382978724,
          568510.6382978724,
          568510.6382978724,
          568510.6382978724,
          568510.6382978724,
          568510.6382978724,
          568510.6382978724,
          568510.6382978724,
          568510.6382978724,
          568510.6382978724,
          568510.6382978724,
          568510.6382978724,
          568510.6382978724,
          568510.6382978724,
          568510.6382978724,
          568510.6382978724,
          568510.6382978724,
          568510.6382978724,
          568510.6382978724,
          568510.6382978724,
          568510.6382978724,
          568510.6382978724,
          568510.6382978724,
          568510.6382978724,
          568510.6382978724,
          568510.6382978724,
          568510.6382978724,
          568510.6382978724,
          568510.6382978724,
          568510.6382978724,
          568510.6382978724,
          568510.6382978724,
          568510.6382978724,
          568510.6382978724,
          568510.6382978724,
          568510.6382978724,
          568510.6382978724,
          568510.6382978724,
          568510.6382978724,
          568510.6382978724,
          568510.6382978724,
          568510.6382978724,
          568510.6382978724,
          568510.6382978724
         ],
         "yaxis": "y2"
        }
       ],
       "layout": {
        "height": 400,
        "template": {
         "data": {
          "bar": [
           {
            "error_x": {
             "color": "#2a3f5f"
            },
            "error_y": {
             "color": "#2a3f5f"
            },
            "marker": {
             "line": {
              "color": "white",
              "width": 0.5
             },
             "pattern": {
              "fillmode": "overlay",
              "size": 10,
              "solidity": 0.2
             }
            },
            "type": "bar"
           }
          ],
          "barpolar": [
           {
            "marker": {
             "line": {
              "color": "white",
              "width": 0.5
             },
             "pattern": {
              "fillmode": "overlay",
              "size": 10,
              "solidity": 0.2
             }
            },
            "type": "barpolar"
           }
          ],
          "carpet": [
           {
            "aaxis": {
             "endlinecolor": "#2a3f5f",
             "gridcolor": "#C8D4E3",
             "linecolor": "#C8D4E3",
             "minorgridcolor": "#C8D4E3",
             "startlinecolor": "#2a3f5f"
            },
            "baxis": {
             "endlinecolor": "#2a3f5f",
             "gridcolor": "#C8D4E3",
             "linecolor": "#C8D4E3",
             "minorgridcolor": "#C8D4E3",
             "startlinecolor": "#2a3f5f"
            },
            "type": "carpet"
           }
          ],
          "choropleth": [
           {
            "colorbar": {
             "outlinewidth": 0,
             "ticks": ""
            },
            "type": "choropleth"
           }
          ],
          "contour": [
           {
            "colorbar": {
             "outlinewidth": 0,
             "ticks": ""
            },
            "colorscale": [
             [
              0,
              "#0d0887"
             ],
             [
              0.1111111111111111,
              "#46039f"
             ],
             [
              0.2222222222222222,
              "#7201a8"
             ],
             [
              0.3333333333333333,
              "#9c179e"
             ],
             [
              0.4444444444444444,
              "#bd3786"
             ],
             [
              0.5555555555555556,
              "#d8576b"
             ],
             [
              0.6666666666666666,
              "#ed7953"
             ],
             [
              0.7777777777777778,
              "#fb9f3a"
             ],
             [
              0.8888888888888888,
              "#fdca26"
             ],
             [
              1,
              "#f0f921"
             ]
            ],
            "type": "contour"
           }
          ],
          "contourcarpet": [
           {
            "colorbar": {
             "outlinewidth": 0,
             "ticks": ""
            },
            "type": "contourcarpet"
           }
          ],
          "heatmap": [
           {
            "colorbar": {
             "outlinewidth": 0,
             "ticks": ""
            },
            "colorscale": [
             [
              0,
              "#0d0887"
             ],
             [
              0.1111111111111111,
              "#46039f"
             ],
             [
              0.2222222222222222,
              "#7201a8"
             ],
             [
              0.3333333333333333,
              "#9c179e"
             ],
             [
              0.4444444444444444,
              "#bd3786"
             ],
             [
              0.5555555555555556,
              "#d8576b"
             ],
             [
              0.6666666666666666,
              "#ed7953"
             ],
             [
              0.7777777777777778,
              "#fb9f3a"
             ],
             [
              0.8888888888888888,
              "#fdca26"
             ],
             [
              1,
              "#f0f921"
             ]
            ],
            "type": "heatmap"
           }
          ],
          "heatmapgl": [
           {
            "colorbar": {
             "outlinewidth": 0,
             "ticks": ""
            },
            "colorscale": [
             [
              0,
              "#0d0887"
             ],
             [
              0.1111111111111111,
              "#46039f"
             ],
             [
              0.2222222222222222,
              "#7201a8"
             ],
             [
              0.3333333333333333,
              "#9c179e"
             ],
             [
              0.4444444444444444,
              "#bd3786"
             ],
             [
              0.5555555555555556,
              "#d8576b"
             ],
             [
              0.6666666666666666,
              "#ed7953"
             ],
             [
              0.7777777777777778,
              "#fb9f3a"
             ],
             [
              0.8888888888888888,
              "#fdca26"
             ],
             [
              1,
              "#f0f921"
             ]
            ],
            "type": "heatmapgl"
           }
          ],
          "histogram": [
           {
            "marker": {
             "pattern": {
              "fillmode": "overlay",
              "size": 10,
              "solidity": 0.2
             }
            },
            "type": "histogram"
           }
          ],
          "histogram2d": [
           {
            "colorbar": {
             "outlinewidth": 0,
             "ticks": ""
            },
            "colorscale": [
             [
              0,
              "#0d0887"
             ],
             [
              0.1111111111111111,
              "#46039f"
             ],
             [
              0.2222222222222222,
              "#7201a8"
             ],
             [
              0.3333333333333333,
              "#9c179e"
             ],
             [
              0.4444444444444444,
              "#bd3786"
             ],
             [
              0.5555555555555556,
              "#d8576b"
             ],
             [
              0.6666666666666666,
              "#ed7953"
             ],
             [
              0.7777777777777778,
              "#fb9f3a"
             ],
             [
              0.8888888888888888,
              "#fdca26"
             ],
             [
              1,
              "#f0f921"
             ]
            ],
            "type": "histogram2d"
           }
          ],
          "histogram2dcontour": [
           {
            "colorbar": {
             "outlinewidth": 0,
             "ticks": ""
            },
            "colorscale": [
             [
              0,
              "#0d0887"
             ],
             [
              0.1111111111111111,
              "#46039f"
             ],
             [
              0.2222222222222222,
              "#7201a8"
             ],
             [
              0.3333333333333333,
              "#9c179e"
             ],
             [
              0.4444444444444444,
              "#bd3786"
             ],
             [
              0.5555555555555556,
              "#d8576b"
             ],
             [
              0.6666666666666666,
              "#ed7953"
             ],
             [
              0.7777777777777778,
              "#fb9f3a"
             ],
             [
              0.8888888888888888,
              "#fdca26"
             ],
             [
              1,
              "#f0f921"
             ]
            ],
            "type": "histogram2dcontour"
           }
          ],
          "mesh3d": [
           {
            "colorbar": {
             "outlinewidth": 0,
             "ticks": ""
            },
            "type": "mesh3d"
           }
          ],
          "parcoords": [
           {
            "line": {
             "colorbar": {
              "outlinewidth": 0,
              "ticks": ""
             }
            },
            "type": "parcoords"
           }
          ],
          "pie": [
           {
            "automargin": true,
            "type": "pie"
           }
          ],
          "scatter": [
           {
            "fillpattern": {
             "fillmode": "overlay",
             "size": 10,
             "solidity": 0.2
            },
            "type": "scatter"
           }
          ],
          "scatter3d": [
           {
            "line": {
             "colorbar": {
              "outlinewidth": 0,
              "ticks": ""
             }
            },
            "marker": {
             "colorbar": {
              "outlinewidth": 0,
              "ticks": ""
             }
            },
            "type": "scatter3d"
           }
          ],
          "scattercarpet": [
           {
            "marker": {
             "colorbar": {
              "outlinewidth": 0,
              "ticks": ""
             }
            },
            "type": "scattercarpet"
           }
          ],
          "scattergeo": [
           {
            "marker": {
             "colorbar": {
              "outlinewidth": 0,
              "ticks": ""
             }
            },
            "type": "scattergeo"
           }
          ],
          "scattergl": [
           {
            "marker": {
             "colorbar": {
              "outlinewidth": 0,
              "ticks": ""
             }
            },
            "type": "scattergl"
           }
          ],
          "scattermapbox": [
           {
            "marker": {
             "colorbar": {
              "outlinewidth": 0,
              "ticks": ""
             }
            },
            "type": "scattermapbox"
           }
          ],
          "scatterpolar": [
           {
            "marker": {
             "colorbar": {
              "outlinewidth": 0,
              "ticks": ""
             }
            },
            "type": "scatterpolar"
           }
          ],
          "scatterpolargl": [
           {
            "marker": {
             "colorbar": {
              "outlinewidth": 0,
              "ticks": ""
             }
            },
            "type": "scatterpolargl"
           }
          ],
          "scatterternary": [
           {
            "marker": {
             "colorbar": {
              "outlinewidth": 0,
              "ticks": ""
             }
            },
            "type": "scatterternary"
           }
          ],
          "surface": [
           {
            "colorbar": {
             "outlinewidth": 0,
             "ticks": ""
            },
            "colorscale": [
             [
              0,
              "#0d0887"
             ],
             [
              0.1111111111111111,
              "#46039f"
             ],
             [
              0.2222222222222222,
              "#7201a8"
             ],
             [
              0.3333333333333333,
              "#9c179e"
             ],
             [
              0.4444444444444444,
              "#bd3786"
             ],
             [
              0.5555555555555556,
              "#d8576b"
             ],
             [
              0.6666666666666666,
              "#ed7953"
             ],
             [
              0.7777777777777778,
              "#fb9f3a"
             ],
             [
              0.8888888888888888,
              "#fdca26"
             ],
             [
              1,
              "#f0f921"
             ]
            ],
            "type": "surface"
           }
          ],
          "table": [
           {
            "cells": {
             "fill": {
              "color": "#EBF0F8"
             },
             "line": {
              "color": "white"
             }
            },
            "header": {
             "fill": {
              "color": "#C8D4E3"
             },
             "line": {
              "color": "white"
             }
            },
            "type": "table"
           }
          ]
         },
         "layout": {
          "annotationdefaults": {
           "arrowcolor": "#2a3f5f",
           "arrowhead": 0,
           "arrowwidth": 1
          },
          "autotypenumbers": "strict",
          "coloraxis": {
           "colorbar": {
            "outlinewidth": 0,
            "ticks": ""
           }
          },
          "colorscale": {
           "diverging": [
            [
             0,
             "#8e0152"
            ],
            [
             0.1,
             "#c51b7d"
            ],
            [
             0.2,
             "#de77ae"
            ],
            [
             0.3,
             "#f1b6da"
            ],
            [
             0.4,
             "#fde0ef"
            ],
            [
             0.5,
             "#f7f7f7"
            ],
            [
             0.6,
             "#e6f5d0"
            ],
            [
             0.7,
             "#b8e186"
            ],
            [
             0.8,
             "#7fbc41"
            ],
            [
             0.9,
             "#4d9221"
            ],
            [
             1,
             "#276419"
            ]
           ],
           "sequential": [
            [
             0,
             "#0d0887"
            ],
            [
             0.1111111111111111,
             "#46039f"
            ],
            [
             0.2222222222222222,
             "#7201a8"
            ],
            [
             0.3333333333333333,
             "#9c179e"
            ],
            [
             0.4444444444444444,
             "#bd3786"
            ],
            [
             0.5555555555555556,
             "#d8576b"
            ],
            [
             0.6666666666666666,
             "#ed7953"
            ],
            [
             0.7777777777777778,
             "#fb9f3a"
            ],
            [
             0.8888888888888888,
             "#fdca26"
            ],
            [
             1,
             "#f0f921"
            ]
           ],
           "sequentialminus": [
            [
             0,
             "#0d0887"
            ],
            [
             0.1111111111111111,
             "#46039f"
            ],
            [
             0.2222222222222222,
             "#7201a8"
            ],
            [
             0.3333333333333333,
             "#9c179e"
            ],
            [
             0.4444444444444444,
             "#bd3786"
            ],
            [
             0.5555555555555556,
             "#d8576b"
            ],
            [
             0.6666666666666666,
             "#ed7953"
            ],
            [
             0.7777777777777778,
             "#fb9f3a"
            ],
            [
             0.8888888888888888,
             "#fdca26"
            ],
            [
             1,
             "#f0f921"
            ]
           ]
          },
          "colorway": [
           "#636efa",
           "#EF553B",
           "#00cc96",
           "#ab63fa",
           "#FFA15A",
           "#19d3f3",
           "#FF6692",
           "#B6E880",
           "#FF97FF",
           "#FECB52"
          ],
          "font": {
           "color": "#2a3f5f"
          },
          "geo": {
           "bgcolor": "white",
           "lakecolor": "white",
           "landcolor": "white",
           "showlakes": true,
           "showland": true,
           "subunitcolor": "#C8D4E3"
          },
          "hoverlabel": {
           "align": "left"
          },
          "hovermode": "closest",
          "mapbox": {
           "style": "light"
          },
          "paper_bgcolor": "white",
          "plot_bgcolor": "white",
          "polar": {
           "angularaxis": {
            "gridcolor": "#EBF0F8",
            "linecolor": "#EBF0F8",
            "ticks": ""
           },
           "bgcolor": "white",
           "radialaxis": {
            "gridcolor": "#EBF0F8",
            "linecolor": "#EBF0F8",
            "ticks": ""
           }
          },
          "scene": {
           "xaxis": {
            "backgroundcolor": "white",
            "gridcolor": "#DFE8F3",
            "gridwidth": 2,
            "linecolor": "#EBF0F8",
            "showbackground": true,
            "ticks": "",
            "zerolinecolor": "#EBF0F8"
           },
           "yaxis": {
            "backgroundcolor": "white",
            "gridcolor": "#DFE8F3",
            "gridwidth": 2,
            "linecolor": "#EBF0F8",
            "showbackground": true,
            "ticks": "",
            "zerolinecolor": "#EBF0F8"
           },
           "zaxis": {
            "backgroundcolor": "white",
            "gridcolor": "#DFE8F3",
            "gridwidth": 2,
            "linecolor": "#EBF0F8",
            "showbackground": true,
            "ticks": "",
            "zerolinecolor": "#EBF0F8"
           }
          },
          "shapedefaults": {
           "line": {
            "color": "#2a3f5f"
           }
          },
          "ternary": {
           "aaxis": {
            "gridcolor": "#DFE8F3",
            "linecolor": "#A2B1C6",
            "ticks": ""
           },
           "baxis": {
            "gridcolor": "#DFE8F3",
            "linecolor": "#A2B1C6",
            "ticks": ""
           },
           "bgcolor": "white",
           "caxis": {
            "gridcolor": "#DFE8F3",
            "linecolor": "#A2B1C6",
            "ticks": ""
           }
          },
          "title": {
           "x": 0.05
          },
          "xaxis": {
           "automargin": true,
           "gridcolor": "#EBF0F8",
           "linecolor": "#EBF0F8",
           "ticks": "",
           "title": {
            "standoff": 15
           },
           "zerolinecolor": "#EBF0F8",
           "zerolinewidth": 2
          },
          "yaxis": {
           "automargin": true,
           "gridcolor": "#EBF0F8",
           "linecolor": "#EBF0F8",
           "ticks": "",
           "title": {
            "standoff": 15
           },
           "zerolinecolor": "#EBF0F8",
           "zerolinewidth": 2
          }
         }
        },
        "title": {
         "font": {
          "size": 30
         },
         "text": "marginalFreq vs Exposure"
        },
        "updatemenus": [
         {
          "buttons": [
           {
            "args": [
             {
              "visible": [
               true,
               true,
               true,
               false,
               false,
               false
              ]
             },
             {
              "title": {
               "font": {
                "size": 30
               },
               "text": "marginalFreq vs Exposure"
              },
              "yaxis": {
               "title": {
                "side": "left",
                "text": "Exposicion"
               }
              },
              "yaxis2": {
               "overlaying": "y",
               "side": "right",
               "tickmode": "sync",
               "title": {
                "text": "marginalFreq"
               }
              }
             }
            ],
            "label": "marginalFreq",
            "method": "update"
           },
           {
            "args": [
             {
              "visible": [
               false,
               false,
               false,
               true,
               true,
               true
              ]
             },
             {
              "title": {
               "font": {
                "size": 30
               },
               "text": "marginalSeve vs Claim Number"
              },
              "yaxis": {
               "title": {
                "side": "left",
                "text": "Numero Siniestros"
               }
              },
              "yaxis2": {
               "overlaying": "y",
               "side": "right",
               "tickmode": "sync",
               "title": {
                "text": "marginalSeve"
               }
              }
             }
            ],
            "label": "marginalSeve",
            "method": "update"
           }
          ],
          "type": "buttons",
          "x": 1.4,
          "y": 0.5
         }
        ],
        "xaxis": {
         "anchor": "y",
         "domain": [
          0,
          0.94
         ]
        },
        "yaxis": {
         "anchor": "x",
         "domain": [
          0,
          1
         ],
         "side": "left",
         "title": {
          "text": "Exposicion"
         }
        },
        "yaxis2": {
         "anchor": "x",
         "overlaying": "y",
         "side": "right",
         "title": {
          "text": "marginalFreq"
         }
        }
       }
      }
     },
     "metadata": {},
     "output_type": "display_data"
    }
   ],
   "source": [
    "eda = FreqSevEDA(df, exposure=\"Exposicion\", claimNb=\"Numero Siniestros\", claimAmount=\"Monto de siniestro\")\n",
    "eda.interactive_graph()"
   ]
  },
  {
   "cell_type": "code",
   "execution_count": 6,
   "metadata": {},
   "outputs": [
    {
     "name": "stderr",
     "output_type": "stream",
     "text": [
      "c:\\Users\\abrah\\anaconda3\\Lib\\site-packages\\sklearn\\cluster\\_kmeans.py:870: FutureWarning:\n",
      "\n",
      "The default value of `n_init` will change from 10 to 'auto' in 1.4. Set the value of `n_init` explicitly to suppress the warning\n",
      "\n",
      "c:\\Users\\abrah\\anaconda3\\Lib\\site-packages\\sklearn\\cluster\\_kmeans.py:1382: UserWarning:\n",
      "\n",
      "KMeans is known to have a memory leak on Windows with MKL, when there are less chunks than available threads. You can avoid it by setting the environment variable OMP_NUM_THREADS=1.\n",
      "\n"
     ]
    },
    {
     "data": {
      "image/png": "[encoded data removed]",
      "text/plain": [
       "<Figure size 1000x500 with 2 Axes>"
      ]
     },
     "metadata": {},
     "output_type": "display_data"
    }
   ],
   "source": [
    "eda.show_clusters(\"Ciudad\",4,show_labels= False, style = \"severity\")"
   ]
  },
  {
   "cell_type": "markdown",
   "metadata": {},
   "source": [
    "# Description by columns\n",
    "\n",
    "- We have negative values for TIV (Is this a mistake?) how should we deal with those values? We have only one location with negative TIV loc068. In this case we will take absolute value of the TIV column, in that way we don't lose information.\n",
    "- Information between years 2014 and 2023\n",
    "- Is premium in USD dolars?\n",
    "- Duration floods between 4 and 10 days\n",
    "- Severity value between 2 and 5. Why we don't have value 1?\n",
    "- Precipitation between 100 mm and 310 mm\n",
    "- Raising of river between 1.2 M and 4.5 M"
   ]
  },
  {
   "cell_type": "code",
   "execution_count": null,
   "metadata": {},
   "outputs": [],
   "source": [
    "with config():\n",
    "    print(df.describe())\n",
    "\n",
    "#lets fix TIV values \n",
    "\n",
    "df = df.with_columns(pl.col(\"Suma Asegurada\").abs())\n"
   ]
  },
  {
   "cell_type": "markdown",
   "metadata": {},
   "source": [
    "# Information against Año Póliza\n",
    "\n",
    "- Precipitación Promedio per years tends to increase"
   ]
  },
  {
   "cell_type": "code",
   "execution_count": 13,
   "metadata": {},
   "outputs": [
    {
     "data": {
      "text/html": [
       "<div><style>\n",
       ".dataframe > thead > tr,\n",
       ".dataframe > tbody > tr {\n",
       "  text-align: right;\n",
       "  white-space: pre-wrap;\n",
       "}\n",
       "</style>\n",
       "<small>shape: (5, 18)</small><table border=\"1\" class=\"dataframe\"><thead><tr><th>Continente</th><th>Exposicion</th><th>Suma Asegurada</th><th>Prima Ganada</th><th>Número Eventos</th><th>Numero Siniestros</th><th>Duración Promedio</th><th>Magnitud Inundaciones Promedio</th><th>Precipitación Promedio</th><th>Incremento Promedio</th><th>Incurrido</th><th>Indice de Siniestralidad</th><th>Tasa por Mil</th><th>TPR</th><th>Frecuencia</th><th>Severidad</th><th>Prima Pura</th><th>proportion</th></tr><tr><td>str</td><td>i64</td><td>i64</td><td>i64</td><td>u32</td><td>i64</td><td>f64</td><td>f64</td><td>f64</td><td>f64</td><td>i64</td><td>f64</td><td>f64</td><td>f64</td><td>f64</td><td>f64</td><td>f64</td><td>f64</td></tr></thead><tbody><tr><td>&quot;Africa&quot;</td><td>250</td><td>25862436150</td><td>147605322</td><td>10</td><td>35</td><td>5.514286</td><td>3.228571</td><td>154.571429</td><td>1.908571</td><td>6890000</td><td>0.046679</td><td>5.707325</td><td>0.000266</td><td>0.14</td><td>196857.142857</td><td>27560.0</td><td>0.000187</td></tr><tr><td>&quot;Americas&quot;</td><td>500</td><td>74477247970</td><td>440317884</td><td>20</td><td>60</td><td>5.75</td><td>3.266667</td><td>173.666667</td><td>2.215</td><td>24730000</td><td>0.056164</td><td>5.912113</td><td>0.000332</td><td>0.12</td><td>412166.666667</td><td>49460.0</td><td>0.000112</td></tr><tr><td>&quot;Oceania&quot;</td><td>250</td><td>55085584211</td><td>303895922</td><td>10</td><td>31</td><td>5.83871</td><td>3.290323</td><td>181.612903</td><td>2.251613</td><td>12870000</td><td>0.04235</td><td>5.516796</td><td>0.000234</td><td>0.124</td><td>415161.290323</td><td>51480.0</td><td>0.000169</td></tr><tr><td>&quot;Europe&quot;</td><td>300</td><td>67309035570</td><td>393485471</td><td>13</td><td>34</td><td>7.147059</td><td>3.823529</td><td>201.470588</td><td>2.623529</td><td>19400000</td><td>0.049303</td><td>5.845953</td><td>0.000288</td><td>0.113333</td><td>570588.235294</td><td>64666.666667</td><td>0.000164</td></tr><tr><td>&quot;Asia&quot;</td><td>280</td><td>118890771390</td><td>841335922</td><td>10</td><td>28</td><td>8.321429</td><td>4.678571</td><td>261.428571</td><td>3.789286</td><td>42990000</td><td>0.051097</td><td>7.076545</td><td>0.000362</td><td>0.1</td><td>1.5354e6</td><td>153535.714286</td><td>0.000182</td></tr></tbody></table></div>"
      ],
      "text/plain": [
       "shape: (5, 18)\n",
       "┌───────────┬───────────┬───────────┬───────────┬───┬───────────┬───────────┬───────────┬──────────┐\n",
       "│ Continent ┆ Exposicio ┆ Suma      ┆ Prima     ┆ … ┆ Frecuenci ┆ Severidad ┆ Prima     ┆ proporti │\n",
       "│ e         ┆ n         ┆ Asegurada ┆ Ganada    ┆   ┆ a         ┆ ---       ┆ Pura      ┆ on       │\n",
       "│ ---       ┆ ---       ┆ ---       ┆ ---       ┆   ┆ ---       ┆ f64       ┆ ---       ┆ ---      │\n",
       "│ str       ┆ i64       ┆ i64       ┆ i64       ┆   ┆ f64       ┆           ┆ f64       ┆ f64      │\n",
       "╞═══════════╪═══════════╪═══════════╪═══════════╪═══╪═══════════╪═══════════╪═══════════╪══════════╡\n",
       "│ Africa    ┆ 250       ┆ 258624361 ┆ 147605322 ┆ … ┆ 0.14      ┆ 196857.14 ┆ 27560.0   ┆ 0.000187 │\n",
       "│           ┆           ┆ 50        ┆           ┆   ┆           ┆ 2857      ┆           ┆          │\n",
       "│ Americas  ┆ 500       ┆ 744772479 ┆ 440317884 ┆ … ┆ 0.12      ┆ 412166.66 ┆ 49460.0   ┆ 0.000112 │\n",
       "│           ┆           ┆ 70        ┆           ┆   ┆           ┆ 6667      ┆           ┆          │\n",
       "│ Oceania   ┆ 250       ┆ 550855842 ┆ 303895922 ┆ … ┆ 0.124     ┆ 415161.29 ┆ 51480.0   ┆ 0.000169 │\n",
       "│           ┆           ┆ 11        ┆           ┆   ┆           ┆ 0323      ┆           ┆          │\n",
       "│ Europe    ┆ 300       ┆ 673090355 ┆ 393485471 ┆ … ┆ 0.113333  ┆ 570588.23 ┆ 64666.666 ┆ 0.000164 │\n",
       "│           ┆           ┆ 70        ┆           ┆   ┆           ┆ 5294      ┆ 667       ┆          │\n",
       "│ Asia      ┆ 280       ┆ 118890771 ┆ 841335922 ┆ … ┆ 0.1       ┆ 1.5354e6  ┆ 153535.71 ┆ 0.000182 │\n",
       "│           ┆           ┆ 390       ┆           ┆   ┆           ┆           ┆ 4286      ┆          │\n",
       "└───────────┴───────────┴───────────┴───────────┴───┴───────────┴───────────┴───────────┴──────────┘"
      ]
     },
     "execution_count": 13,
     "metadata": {},
     "output_type": "execute_result"
    }
   ],
   "source": [
    "(df.group_by(\"Continente\").agg(pl.col(\"Exposicion\").sum().alias(\"Exposicion\"),\n",
    "                              pl.col(\"Suma Asegurada\").sum(),\n",
    "                              pl.col(\"Prima\").sum().alias(\"Prima Ganada\"),\n",
    "                              pl.col(\"Evento ID\").drop_nulls().n_unique().alias(\"Número Eventos\"),\n",
    "                              pl.col(\"Numero Siniestros\").sum(),\n",
    "                              pl.col(\"Duración de la inundación (días)\").mean().alias(\"Duración Promedio\"),\n",
    "                              pl.col(\"Severidad de la inundación (escala 1-5)\").mean().alias(\"Magnitud Inundaciones Promedio\"),\n",
    "                              pl.col(\"Precipitación (mm)\").mean().alias(\"Precipitación Promedio\"),\n",
    "                              pl.col(\"Incremento del Nivel del Río (m)\").mean().alias(\"Incremento Promedio\"),\n",
    "                              pl.col(\"Monto de siniestro\").sum().alias(\"Incurrido\"))\n",
    "                         .with_columns((pl.col(\"Incurrido\")/pl.col(\"Prima Ganada\")).alias(\"Indice de Siniestralidad\"),\n",
    "                                       (pl.col(\"Prima Ganada\")/pl.col(\"Suma Asegurada\")*1000).alias(\"Tasa por Mil\"),\n",
    "                                       (pl.col(\"Incurrido\")/pl.col(\"Suma Asegurada\")).alias(\"TPR\"),\n",
    "                                       (pl.col(\"Numero Siniestros\")/pl.col(\"Exposicion\")).alias(\"Frecuencia\"),\n",
    "                                       (pl.col(\"Incurrido\")/pl.col(\"Numero Siniestros\")).alias(\"Severidad\"))\n",
    "                         .with_columns((pl.col(\"Frecuencia\")*pl.col(\"Severidad\")).alias(\"Prima Pura\"))\n",
    "                         .with_columns((pl.col(\"Prima Pura\")/pl.col(\"Prima Ganada\")).alias(\"proportion\"))\n",
    "                         .sort(by = \"Prima Pura\", descending=False))\n"
   ]
  },
  {
   "cell_type": "markdown",
   "metadata": {},
   "source": [
    "(17571*(1.03)+ 0.2*17571)/(1-0.016-0.17-0.1)"
   ]
  },
  {
   "cell_type": "code",
   "execution_count": 16,
   "metadata": {},
   "outputs": [
    {
     "data": {
      "text/plain": [
       "0.001065638203615246"
      ]
     },
     "execution_count": 16,
     "metadata": {},
     "output_type": "execute_result"
    }
   ],
   "source": [
    "27560/25862436150*1000\n"
   ]
  },
  {
   "cell_type": "code",
   "execution_count": 17,
   "metadata": {},
   "outputs": [
    {
     "data": {
      "text/plain": [
       "0.0012914014452505608"
      ]
     },
     "execution_count": 17,
     "metadata": {},
     "output_type": "execute_result"
    }
   ],
   "source": [
    "153535.714/118890771390*1000"
   ]
  },
  {
   "cell_type": "code",
   "execution_count": 8,
   "metadata": {},
   "outputs": [
    {
     "data": {
      "text/plain": [
       "30269.369747899163"
      ]
     },
     "execution_count": 8,
     "metadata": {},
     "output_type": "execute_result"
    }
   ],
   "source": [
    "(17571*(1.03)+ 0.2*17571)/(1-0.016-0.17-0.1)"
   ]
  },
  {
   "cell_type": "code",
   "execution_count": 10,
   "metadata": {},
   "outputs": [
    {
     "data": {
      "text/plain": [
       "0.0032273090050070788"
      ]
     },
     "execution_count": 10,
     "metadata": {},
     "output_type": "execute_result"
    }
   ],
   "source": [
    "17571/5444474010*1000"
   ]
  }
 ],
 "metadata": {
  "kernelspec": {
   "display_name": "base",
   "language": "python",
   "name": "python3"
  },
  "language_info": {
   "codemirror_mode": {
    "name": "ipython",
    "version": 3
   },
   "file_extension": ".py",
   "mimetype": "text/x-python",
   "name": "python",
   "nbconvert_exporter": "python",
   "pygments_lexer": "ipython3",
   "version": "3.11.5"
  }
 },
 "nbformat": 4,
 "nbformat_minor": 2
}
