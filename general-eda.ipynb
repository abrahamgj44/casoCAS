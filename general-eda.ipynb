{
 "cells": [
  {
   "cell_type": "code",
   "execution_count": 2,
   "metadata": {},
   "outputs": [],
   "source": [
    "import polars as pl\n",
    "import plotly.express as px\n",
    "import pandas as pd\n",
    "from polars_visualization import pl_config as config\n",
    "from freqSevEda import FreqSevEDA\n",
    "import plotly.io as pio\n",
    "import json"
   ]
  },
  {
   "cell_type": "markdown",
   "metadata": {},
   "source": [
    "# Data overview\n",
    "\n",
    "- We have 1580 entries. Grouping by Loc ID and Año Póliza we saw that each policy is annual."
   ]
  },
  {
   "cell_type": "code",
   "execution_count": 3,
   "metadata": {},
   "outputs": [
    {
     "name": "stdout",
     "output_type": "stream",
     "text": [
      "shape: (1_580, 21)\n",
      "| Loc ID | Año Póliza | Exposicion | Suma Asegurada | Prima   | Evento ID | Numero Siniestros | Mes  | Duración de la inundación (día… | Severidad de la inundación (es… | Precipitación (mm) | Incremento del Nivel del Río (… | Monto de siniestro | Latitud | Longitud | Ciudad        | Pais         | Codigo pais | Continente | Sub continente     | Continente intermedio |\n",
      "|--------|------------|------------|----------------|---------|-----------|-------------------|------|---------------------------------|---------------------------------|--------------------|---------------------------------|--------------------|---------|----------|---------------|--------------|-------------|------------|--------------------|-----------------------|\n",
      "| loc001 | 2,014      | 1          | 87,223,100     | 659,145 | null      | 0                 | null | null                            | null                            | null               | null                            | 0                  | -33.907 | 18.416   | Cape Town     | South Africa | ZAF         | Africa     | Sub-Saharan Africa | Southern Africa       |\n",
      "| loc001 | 2,015      | 1          | 89,011,170     | 672,330 | null      | 0                 | null | null                            | null                            | null               | null                            | 0                  | -33.907 | 18.416   | Cape Town     | South Africa | ZAF         | Africa     | Sub-Saharan Africa | Southern Africa       |\n",
      "| loc001 | 2,016      | 1          | 90,444,250     | 685,780 | null      | 0                 | null | null                            | null                            | null               | null                            | 0                  | -33.907 | 18.416   | Cape Town     | South Africa | ZAF         | Africa     | Sub-Saharan Africa | Southern Africa       |\n",
      "| loc001 | 2,017      | 1          | 92,596,820     | 699,500 | null      | 0                 | null | null                            | null                            | null               | null                            | 0                  | -33.907 | 18.416   | Cape Town     | South Africa | ZAF         | Africa     | Sub-Saharan Africa | Southern Africa       |\n",
      "| loc001 | 2,018      | 1          | 94,439,500     | 713,490 | null      | 0                 | null | null                            | null                            | null               | null                            | 0                  | -33.907 | 18.416   | Cape Town     | South Africa | ZAF         | Africa     | Sub-Saharan Africa | Southern Africa       |\n",
      "| …      | …          | …          | …              | …       | …         | …                 | …    | …                               | …                               | …                  | …                               | …                  | …       | …        | …             | …            | …           | …          | …                  | …                     |\n",
      "| loc200 | 2,019      | 1          | 56,113,940     | 566,220 | null      | 0                 | null | null                            | null                            | null               | null                            | 0                  | -25.887 | 28.128   | Rooihuiskraal | South Africa | ZAF         | Africa     | Sub-Saharan Africa | Southern Africa       |\n",
      "| loc200 | 2,020      | 1          | 57,283,920     | 577,540 | null      | 0                 | null | null                            | null                            | null               | null                            | 0                  | -25.887 | 28.128   | Rooihuiskraal | South Africa | ZAF         | Africa     | Sub-Saharan Africa | Southern Africa       |\n",
      "| loc200 | 2,021      | 1          | 58,561,350     | 589,090 | null      | 0                 | null | null                            | null                            | null               | null                            | 0                  | -25.887 | 28.128   | Rooihuiskraal | South Africa | ZAF         | Africa     | Sub-Saharan Africa | Southern Africa       |\n",
      "| loc200 | 2,022      | 1          | 59,627,170     | 600,870 | null      | 0                 | null | null                            | null                            | null               | null                            | 0                  | -25.887 | 28.128   | Rooihuiskraal | South Africa | ZAF         | Africa     | Sub-Saharan Africa | Southern Africa       |\n",
      "| loc200 | 2,023      | 1          | 60,825,680     | 612,890 | null      | 0                 | null | null                            | null                            | null               | null                            | 0                  | -25.887 | 28.128   | Rooihuiskraal | South Africa | ZAF         | Africa     | Sub-Saharan Africa | Southern Africa       |\n"
     ]
    }
   ],
   "source": [
    "#path = r\"C:\\Users\\abrah\\OneDrive\\Desktop\\casoCAS\\archivo\\data\\final-dataset.xlsx\"\n",
    "path2 = r\"C:\\Users\\abrah\\OneDrive\\Desktop\\casoCAS\\archivo\\data\\final-dataset_V.5.5.xlsx\"\n",
    "df = pl.read_excel(path2, sheet_name=\"Sheet1\")\n",
    "\n",
    "with config():\n",
    "    print(df)"
   ]
  },
  {
   "cell_type": "code",
   "execution_count": 4,
   "metadata": {},
   "outputs": [
    {
     "data": {
      "application/vnd.jupyter.widget-view+json": {
       "model_id": "49477475373c4eeaac10dce7c3894b19",
       "version_major": 2,
       "version_minor": 0
      },
      "text/plain": [
       "Dropdown(description='Columns:', options=('-', 'Loc ID', 'Año Póliza', 'Exposicion', 'Suma Asegurada', 'Prima'…"
      ]
     },
     "metadata": {},
     "output_type": "display_data"
    },
    {
     "data": {
      "application/vnd.jupyter.widget-view+json": {
       "model_id": "3633fb69bc5e46c9b31a64dfa4aff354",
       "version_major": 2,
       "version_minor": 0
      },
      "text/plain": [
       "Output()"
      ]
     },
     "metadata": {},
     "output_type": "display_data"
    },
    {
     "data": {
      "application/vnd.plotly.v1+json": {
       "config": {
        "plotlyServerURL": "https://plot.ly"
       },
       "data": [
        {
         "name": "Exposicion",
         "type": "bar",
         "visible": true,
         "x": [
          "Abuja",
          "Adelaide",
          "Alejandría",
          "Amsterdam",
          "Arroyomolinos",
          "Auckland",
          "Aventura",
          "Barcelona",
          "Beckenham",
          "Belle Chasse",
          "Berlin",
          "Bogotá",
          "Bologna",
          "Brisbane",
          "Brisbane City",
          "Buenos Aires",
          "Burnaby",
          "Canberra",
          "Cape Town",
          "City of Westminster",
          "Ciudad de México",
          "Concepción",
          "Córdoba",
          "Daerah Khusus ibukota Jakarta",
          "Dhaka",
          "Dongcheng",
          "Doral",
          "El cairo",
          "Germiston",
          "Guadalajara",
          "Gurgaon",
          "Houston",
          "Johannesburgo",
          "Joondalup",
          "Lagos",
          "Lima Metropolitana",
          "Lo Barnechea",
          "London",
          "Lower Hutt",
          "Lyon",
          "Madrid",
          "Makati",
          "Mar_1",
          "Mar_2",
          "Maungakiekie-Tāmaki",
          "Mazarambroz",
          "Melbourne",
          "Metairie",
          "Miami",
          "Mombasa",
          "Mumbai City",
          "Mumbai Suburban",
          "Nairobi",
          "New Orleans",
          "Nueva Delhi",
          "Old Toronto",
          "Osaka",
          "Paris",
          "Pasay",
          "Pekin",
          "Perth",
          "Perímetro Urbano Medellín",
          "Queensland",
          "Rio de Janeiro",
          "Roma",
          "Rooihuiskraal",
          "Sandton",
          "Santiago",
          "Sheikh Zayed",
          "Surabaya",
          "Sydney",
          "São Paulo",
          "Tokio",
          "Toronto",
          "Tudor ward",
          "Upper Harbour",
          "Valparaíso",
          "Vancouver",
          "Viña del Mar",
          "Wellington",
          "Wuham",
          "Wuhan",
          "Yaguas",
          "Zapopan",
          "Ōrākei"
         ],
         "xaxis": "x",
         "y": [
          30,
          30,
          10,
          30,
          10,
          10,
          10,
          20,
          10,
          10,
          30,
          30,
          20,
          10,
          10,
          40,
          10,
          30,
          40,
          10,
          30,
          10,
          30,
          20,
          40,
          20,
          10,
          20,
          10,
          20,
          10,
          20,
          10,
          10,
          30,
          20,
          10,
          20,
          10,
          40,
          30,
          10,
          10,
          10,
          10,
          10,
          20,
          10,
          10,
          20,
          10,
          30,
          40,
          20,
          10,
          10,
          20,
          20,
          10,
          20,
          20,
          20,
          10,
          40,
          40,
          10,
          10,
          20,
          10,
          30,
          20,
          30,
          20,
          20,
          10,
          10,
          10,
          20,
          10,
          30,
          10,
          20,
          10,
          20,
          10
         ],
         "yaxis": "y"
        },
        {
         "name": "marginalFreq",
         "type": "scatter",
         "visible": true,
         "x": [
          "Abuja",
          "Adelaide",
          "Alejandría",
          "Amsterdam",
          "Arroyomolinos",
          "Auckland",
          "Aventura",
          "Barcelona",
          "Beckenham",
          "Belle Chasse",
          "Berlin",
          "Bogotá",
          "Bologna",
          "Brisbane",
          "Brisbane City",
          "Buenos Aires",
          "Burnaby",
          "Canberra",
          "Cape Town",
          "City of Westminster",
          "Ciudad de México",
          "Concepción",
          "Córdoba",
          "Daerah Khusus ibukota Jakarta",
          "Dhaka",
          "Dongcheng",
          "Doral",
          "El cairo",
          "Germiston",
          "Guadalajara",
          "Gurgaon",
          "Houston",
          "Johannesburgo",
          "Joondalup",
          "Lagos",
          "Lima Metropolitana",
          "Lo Barnechea",
          "London",
          "Lower Hutt",
          "Lyon",
          "Madrid",
          "Makati",
          "Mar_1",
          "Mar_2",
          "Maungakiekie-Tāmaki",
          "Mazarambroz",
          "Melbourne",
          "Metairie",
          "Miami",
          "Mombasa",
          "Mumbai City",
          "Mumbai Suburban",
          "Nairobi",
          "New Orleans",
          "Nueva Delhi",
          "Old Toronto",
          "Osaka",
          "Paris",
          "Pasay",
          "Pekin",
          "Perth",
          "Perímetro Urbano Medellín",
          "Queensland",
          "Rio de Janeiro",
          "Roma",
          "Rooihuiskraal",
          "Sandton",
          "Santiago",
          "Sheikh Zayed",
          "Surabaya",
          "Sydney",
          "São Paulo",
          "Tokio",
          "Toronto",
          "Tudor ward",
          "Upper Harbour",
          "Valparaíso",
          "Vancouver",
          "Viña del Mar",
          "Wellington",
          "Wuham",
          "Wuhan",
          "Yaguas",
          "Zapopan",
          "Ōrākei"
         ],
         "xaxis": "x",
         "y": [
          0.1,
          0.1,
          0.1,
          0.1,
          0.1,
          0.1,
          0.2,
          0.1,
          0.2,
          0.1,
          0.2,
          0.1,
          0.1,
          0.1,
          0.1,
          0.1,
          0.1,
          0.1,
          0.1,
          0.1,
          0.1,
          0.1,
          0.1,
          0.1,
          0.1,
          0.1,
          0.2,
          0.1,
          0.1,
          0.1,
          0.1,
          0.2,
          0.1,
          0.2,
          0.2,
          0.2,
          0.1,
          0.1,
          0.1,
          0.1,
          0.1,
          0.1,
          0.1,
          0.1,
          0.1,
          0.2,
          0.2,
          0.1,
          0.2,
          0.2,
          0.1,
          0.1,
          0.2,
          0.1,
          0.1,
          0.2,
          0.1,
          0.1,
          0.1,
          0.1,
          0.2,
          0.1,
          0.1,
          0.1,
          0.1,
          0.1,
          0.1,
          0.1,
          0.1,
          0.1,
          0.1,
          0.1,
          0.1,
          0.2,
          0.2,
          0.1,
          0.1,
          0.1,
          0.1,
          0.1,
          0.1,
          0.1,
          0.1,
          0.1,
          0.1
         ],
         "yaxis": "y2"
        },
        {
         "name": "portFreq",
         "type": "scatter",
         "visible": true,
         "x": [
          "Abuja",
          "Adelaide",
          "Alejandría",
          "Amsterdam",
          "Arroyomolinos",
          "Auckland",
          "Aventura",
          "Barcelona",
          "Beckenham",
          "Belle Chasse",
          "Berlin",
          "Bogotá",
          "Bologna",
          "Brisbane",
          "Brisbane City",
          "Buenos Aires",
          "Burnaby",
          "Canberra",
          "Cape Town",
          "City of Westminster",
          "Ciudad de México",
          "Concepción",
          "Córdoba",
          "Daerah Khusus ibukota Jakarta",
          "Dhaka",
          "Dongcheng",
          "Doral",
          "El cairo",
          "Germiston",
          "Guadalajara",
          "Gurgaon",
          "Houston",
          "Johannesburgo",
          "Joondalup",
          "Lagos",
          "Lima Metropolitana",
          "Lo Barnechea",
          "London",
          "Lower Hutt",
          "Lyon",
          "Madrid",
          "Makati",
          "Mar_1",
          "Mar_2",
          "Maungakiekie-Tāmaki",
          "Mazarambroz",
          "Melbourne",
          "Metairie",
          "Miami",
          "Mombasa",
          "Mumbai City",
          "Mumbai Suburban",
          "Nairobi",
          "New Orleans",
          "Nueva Delhi",
          "Old Toronto",
          "Osaka",
          "Paris",
          "Pasay",
          "Pekin",
          "Perth",
          "Perímetro Urbano Medellín",
          "Queensland",
          "Rio de Janeiro",
          "Roma",
          "Rooihuiskraal",
          "Sandton",
          "Santiago",
          "Sheikh Zayed",
          "Surabaya",
          "Sydney",
          "São Paulo",
          "Tokio",
          "Toronto",
          "Tudor ward",
          "Upper Harbour",
          "Valparaíso",
          "Vancouver",
          "Viña del Mar",
          "Wellington",
          "Wuham",
          "Wuhan",
          "Yaguas",
          "Zapopan",
          "Ōrākei"
         ],
         "xaxis": "x",
         "y": [
          0.1189873417721519,
          0.1189873417721519,
          0.1189873417721519,
          0.1189873417721519,
          0.1189873417721519,
          0.1189873417721519,
          0.1189873417721519,
          0.1189873417721519,
          0.1189873417721519,
          0.1189873417721519,
          0.1189873417721519,
          0.1189873417721519,
          0.1189873417721519,
          0.1189873417721519,
          0.1189873417721519,
          0.1189873417721519,
          0.1189873417721519,
          0.1189873417721519,
          0.1189873417721519,
          0.1189873417721519,
          0.1189873417721519,
          0.1189873417721519,
          0.1189873417721519,
          0.1189873417721519,
          0.1189873417721519,
          0.1189873417721519,
          0.1189873417721519,
          0.1189873417721519,
          0.1189873417721519,
          0.1189873417721519,
          0.1189873417721519,
          0.1189873417721519,
          0.1189873417721519,
          0.1189873417721519,
          0.1189873417721519,
          0.1189873417721519,
          0.1189873417721519,
          0.1189873417721519,
          0.1189873417721519,
          0.1189873417721519,
          0.1189873417721519,
          0.1189873417721519,
          0.1189873417721519,
          0.1189873417721519,
          0.1189873417721519,
          0.1189873417721519,
          0.1189873417721519,
          0.1189873417721519,
          0.1189873417721519,
          0.1189873417721519,
          0.1189873417721519,
          0.1189873417721519,
          0.1189873417721519,
          0.1189873417721519,
          0.1189873417721519,
          0.1189873417721519,
          0.1189873417721519,
          0.1189873417721519,
          0.1189873417721519,
          0.1189873417721519,
          0.1189873417721519,
          0.1189873417721519,
          0.1189873417721519,
          0.1189873417721519,
          0.1189873417721519,
          0.1189873417721519,
          0.1189873417721519,
          0.1189873417721519,
          0.1189873417721519,
          0.1189873417721519,
          0.1189873417721519,
          0.1189873417721519,
          0.1189873417721519,
          0.1189873417721519,
          0.1189873417721519,
          0.1189873417721519,
          0.1189873417721519,
          0.1189873417721519,
          0.1189873417721519,
          0.1189873417721519,
          0.1189873417721519,
          0.1189873417721519,
          0.1189873417721519,
          0.1189873417721519,
          0.1189873417721519
         ],
         "yaxis": "y2"
        },
        {
         "name": "Numero Siniestros",
         "type": "bar",
         "visible": false,
         "x": [
          "Abuja",
          "Adelaide",
          "Alejandría",
          "Amsterdam",
          "Arroyomolinos",
          "Auckland",
          "Aventura",
          "Barcelona",
          "Beckenham",
          "Belle Chasse",
          "Berlin",
          "Bogotá",
          "Bologna",
          "Brisbane",
          "Brisbane City",
          "Buenos Aires",
          "Burnaby",
          "Canberra",
          "Cape Town",
          "City of Westminster",
          "Ciudad de México",
          "Concepción",
          "Córdoba",
          "Daerah Khusus ibukota Jakarta",
          "Dhaka",
          "Dongcheng",
          "Doral",
          "El cairo",
          "Germiston",
          "Guadalajara",
          "Gurgaon",
          "Houston",
          "Johannesburgo",
          "Joondalup",
          "Lagos",
          "Lima Metropolitana",
          "Lo Barnechea",
          "London",
          "Lower Hutt",
          "Lyon",
          "Madrid",
          "Makati",
          "Mar_1",
          "Mar_2",
          "Maungakiekie-Tāmaki",
          "Mazarambroz",
          "Melbourne",
          "Metairie",
          "Miami",
          "Mombasa",
          "Mumbai City",
          "Mumbai Suburban",
          "Nairobi",
          "New Orleans",
          "Nueva Delhi",
          "Old Toronto",
          "Osaka",
          "Paris",
          "Pasay",
          "Pekin",
          "Perth",
          "Perímetro Urbano Medellín",
          "Queensland",
          "Rio de Janeiro",
          "Roma",
          "Rooihuiskraal",
          "Sandton",
          "Santiago",
          "Sheikh Zayed",
          "Surabaya",
          "Sydney",
          "São Paulo",
          "Tokio",
          "Toronto",
          "Tudor ward",
          "Upper Harbour",
          "Valparaíso",
          "Vancouver",
          "Viña del Mar",
          "Wellington",
          "Wuham",
          "Wuhan",
          "Yaguas",
          "Zapopan",
          "Ōrākei"
         ],
         "xaxis": "x",
         "y": [
          3,
          3,
          1,
          3,
          1,
          1,
          2,
          2,
          2,
          1,
          6,
          3,
          2,
          1,
          1,
          4,
          1,
          3,
          4,
          1,
          3,
          1,
          3,
          2,
          4,
          2,
          2,
          2,
          1,
          2,
          1,
          4,
          1,
          2,
          6,
          4,
          1,
          2,
          1,
          4,
          3,
          1,
          1,
          1,
          1,
          2,
          4,
          1,
          2,
          4,
          1,
          3,
          8,
          2,
          1,
          2,
          2,
          2,
          1,
          2,
          4,
          2,
          1,
          4,
          4,
          1,
          1,
          2,
          1,
          3,
          2,
          3,
          2,
          4,
          2,
          1,
          1,
          2,
          1,
          3,
          1,
          2,
          1,
          2,
          1
         ],
         "yaxis": "y"
        },
        {
         "name": "marginalSeve",
         "type": "scatter",
         "visible": false,
         "x": [
          "Abuja",
          "Adelaide",
          "Alejandría",
          "Amsterdam",
          "Arroyomolinos",
          "Auckland",
          "Aventura",
          "Barcelona",
          "Beckenham",
          "Belle Chasse",
          "Berlin",
          "Bogotá",
          "Bologna",
          "Brisbane",
          "Brisbane City",
          "Buenos Aires",
          "Burnaby",
          "Canberra",
          "Cape Town",
          "City of Westminster",
          "Ciudad de México",
          "Concepción",
          "Córdoba",
          "Daerah Khusus ibukota Jakarta",
          "Dhaka",
          "Dongcheng",
          "Doral",
          "El cairo",
          "Germiston",
          "Guadalajara",
          "Gurgaon",
          "Houston",
          "Johannesburgo",
          "Joondalup",
          "Lagos",
          "Lima Metropolitana",
          "Lo Barnechea",
          "London",
          "Lower Hutt",
          "Lyon",
          "Madrid",
          "Makati",
          "Mar_1",
          "Mar_2",
          "Maungakiekie-Tāmaki",
          "Mazarambroz",
          "Melbourne",
          "Metairie",
          "Miami",
          "Mombasa",
          "Mumbai City",
          "Mumbai Suburban",
          "Nairobi",
          "New Orleans",
          "Nueva Delhi",
          "Old Toronto",
          "Osaka",
          "Paris",
          "Pasay",
          "Pekin",
          "Perth",
          "Perímetro Urbano Medellín",
          "Queensland",
          "Rio de Janeiro",
          "Roma",
          "Rooihuiskraal",
          "Sandton",
          "Santiago",
          "Sheikh Zayed",
          "Surabaya",
          "Sydney",
          "São Paulo",
          "Tokio",
          "Toronto",
          "Tudor ward",
          "Upper Harbour",
          "Valparaíso",
          "Vancouver",
          "Viña del Mar",
          "Wellington",
          "Wuham",
          "Wuhan",
          "Yaguas",
          "Zapopan",
          "Ōrākei"
         ],
         "xaxis": "x",
         "y": [
          370000,
          170000,
          290000,
          453333.3333333333,
          150000,
          470000,
          780000,
          1000000,
          335000,
          100000,
          848333.3333333334,
          266666.6666666667,
          1100000,
          450000,
          290000,
          77500,
          600000,
          500000,
          232500,
          1540000,
          476666.6666666667,
          350000,
          306666.6666666667,
          2500000,
          1375000,
          1285000,
          1070000,
          185000,
          220000,
          360000,
          2510000,
          600000,
          220000,
          360000,
          275000,
          400000,
          90000,
          735000,
          260000,
          325000,
          480000,
          2150000,
          200000,
          650000,
          80000,
          25000,
          762500,
          380000,
          1150000,
          45000,
          900000,
          866666.6666666666,
          150000,
          285000,
          2490000,
          615000,
          2000000,
          375000,
          2350000,
          715000,
          185000,
          400000,
          1260000,
          200000,
          300000,
          220000,
          70000,
          65000,
          250000,
          1833333.3333333333,
          1000000,
          200000,
          1250000,
          545000,
          90000,
          200000,
          370000,
          600000,
          380000,
          190000,
          1010000,
          1240000,
          90000,
          340000,
          100000
         ],
         "yaxis": "y2"
        },
        {
         "name": "portSeve",
         "type": "scatter",
         "visible": false,
         "x": [
          "Abuja",
          "Adelaide",
          "Alejandría",
          "Amsterdam",
          "Arroyomolinos",
          "Auckland",
          "Aventura",
          "Barcelona",
          "Beckenham",
          "Belle Chasse",
          "Berlin",
          "Bogotá",
          "Bologna",
          "Brisbane",
          "Brisbane City",
          "Buenos Aires",
          "Burnaby",
          "Canberra",
          "Cape Town",
          "City of Westminster",
          "Ciudad de México",
          "Concepción",
          "Córdoba",
          "Daerah Khusus ibukota Jakarta",
          "Dhaka",
          "Dongcheng",
          "Doral",
          "El cairo",
          "Germiston",
          "Guadalajara",
          "Gurgaon",
          "Houston",
          "Johannesburgo",
          "Joondalup",
          "Lagos",
          "Lima Metropolitana",
          "Lo Barnechea",
          "London",
          "Lower Hutt",
          "Lyon",
          "Madrid",
          "Makati",
          "Mar_1",
          "Mar_2",
          "Maungakiekie-Tāmaki",
          "Mazarambroz",
          "Melbourne",
          "Metairie",
          "Miami",
          "Mombasa",
          "Mumbai City",
          "Mumbai Suburban",
          "Nairobi",
          "New Orleans",
          "Nueva Delhi",
          "Old Toronto",
          "Osaka",
          "Paris",
          "Pasay",
          "Pekin",
          "Perth",
          "Perímetro Urbano Medellín",
          "Queensland",
          "Rio de Janeiro",
          "Roma",
          "Rooihuiskraal",
          "Sandton",
          "Santiago",
          "Sheikh Zayed",
          "Surabaya",
          "Sydney",
          "São Paulo",
          "Tokio",
          "Toronto",
          "Tudor ward",
          "Upper Harbour",
          "Valparaíso",
          "Vancouver",
          "Viña del Mar",
          "Wellington",
          "Wuham",
          "Wuhan",
          "Yaguas",
          "Zapopan",
          "Ōrākei"
         ],
         "xaxis": "x",
         "y": [
          568510.6382978724,
          568510.6382978724,
          568510.6382978724,
          568510.6382978724,
          568510.6382978724,
          568510.6382978724,
          568510.6382978724,
          568510.6382978724,
          568510.6382978724,
          568510.6382978724,
          568510.6382978724,
          568510.6382978724,
          568510.6382978724,
          568510.6382978724,
          568510.6382978724,
          568510.6382978724,
          568510.6382978724,
          568510.6382978724,
          568510.6382978724,
          568510.6382978724,
          568510.6382978724,
          568510.6382978724,
          568510.6382978724,
          568510.6382978724,
          568510.6382978724,
          568510.6382978724,
          568510.6382978724,
          568510.6382978724,
          568510.6382978724,
          568510.6382978724,
          568510.6382978724,
          568510.6382978724,
          568510.6382978724,
          568510.6382978724,
          568510.6382978724,
          568510.6382978724,
          568510.6382978724,
          568510.6382978724,
          568510.6382978724,
          568510.6382978724,
          568510.6382978724,
          568510.6382978724,
          568510.6382978724,
          568510.6382978724,
          568510.6382978724,
          568510.6382978724,
          568510.6382978724,
          568510.6382978724,
          568510.6382978724,
          568510.6382978724,
          568510.6382978724,
          568510.6382978724,
          568510.6382978724,
          568510.6382978724,
          568510.6382978724,
          568510.6382978724,
          568510.6382978724,
          568510.6382978724,
          568510.6382978724,
          568510.6382978724,
          568510.6382978724,
          568510.6382978724,
          568510.6382978724,
          568510.6382978724,
          568510.6382978724,
          568510.6382978724,
          568510.6382978724,
          568510.6382978724,
          568510.6382978724,
          568510.6382978724,
          568510.6382978724,
          568510.6382978724,
          568510.6382978724,
          568510.6382978724,
          568510.6382978724,
          568510.6382978724,
          568510.6382978724,
          568510.6382978724,
          568510.6382978724,
          568510.6382978724,
          568510.6382978724,
          568510.6382978724,
          568510.6382978724,
          568510.6382978724,
          568510.6382978724
         ],
         "yaxis": "y2"
        },
        {
         "name": "Exposicion",
         "type": "bar",
         "visible": false,
         "x": [
          "Abuja",
          "Adelaide",
          "Alejandría",
          "Amsterdam",
          "Arroyomolinos",
          "Auckland",
          "Aventura",
          "Barcelona",
          "Beckenham",
          "Belle Chasse",
          "Berlin",
          "Bogotá",
          "Bologna",
          "Brisbane",
          "Brisbane City",
          "Buenos Aires",
          "Burnaby",
          "Canberra",
          "Cape Town",
          "City of Westminster",
          "Ciudad de México",
          "Concepción",
          "Córdoba",
          "Daerah Khusus ibukota Jakarta",
          "Dhaka",
          "Dongcheng",
          "Doral",
          "El cairo",
          "Germiston",
          "Guadalajara",
          "Gurgaon",
          "Houston",
          "Johannesburgo",
          "Joondalup",
          "Lagos",
          "Lima Metropolitana",
          "Lo Barnechea",
          "London",
          "Lower Hutt",
          "Lyon",
          "Madrid",
          "Makati",
          "Mar_1",
          "Mar_2",
          "Maungakiekie-Tāmaki",
          "Mazarambroz",
          "Melbourne",
          "Metairie",
          "Miami",
          "Mombasa",
          "Mumbai City",
          "Mumbai Suburban",
          "Nairobi",
          "New Orleans",
          "Nueva Delhi",
          "Old Toronto",
          "Osaka",
          "Paris",
          "Pasay",
          "Pekin",
          "Perth",
          "Perímetro Urbano Medellín",
          "Queensland",
          "Rio de Janeiro",
          "Roma",
          "Rooihuiskraal",
          "Sandton",
          "Santiago",
          "Sheikh Zayed",
          "Surabaya",
          "Sydney",
          "São Paulo",
          "Tokio",
          "Toronto",
          "Tudor ward",
          "Upper Harbour",
          "Valparaíso",
          "Vancouver",
          "Viña del Mar",
          "Wellington",
          "Wuham",
          "Wuhan",
          "Yaguas",
          "Zapopan",
          "Ōrākei"
         ],
         "xaxis": "x",
         "y": [
          30,
          30,
          10,
          30,
          10,
          10,
          10,
          20,
          10,
          10,
          30,
          30,
          20,
          10,
          10,
          40,
          10,
          30,
          40,
          10,
          30,
          10,
          30,
          20,
          40,
          20,
          10,
          20,
          10,
          20,
          10,
          20,
          10,
          10,
          30,
          20,
          10,
          20,
          10,
          40,
          30,
          10,
          10,
          10,
          10,
          10,
          20,
          10,
          10,
          20,
          10,
          30,
          40,
          20,
          10,
          10,
          20,
          20,
          10,
          20,
          20,
          20,
          10,
          40,
          40,
          10,
          10,
          20,
          10,
          30,
          20,
          30,
          20,
          20,
          10,
          10,
          10,
          20,
          10,
          30,
          10,
          20,
          10,
          20,
          10
         ],
         "yaxis": "y"
        },
        {
         "name": "marginalLossCost",
         "type": "scatter",
         "visible": false,
         "x": [
          "Abuja",
          "Adelaide",
          "Alejandría",
          "Amsterdam",
          "Arroyomolinos",
          "Auckland",
          "Aventura",
          "Barcelona",
          "Beckenham",
          "Belle Chasse",
          "Berlin",
          "Bogotá",
          "Bologna",
          "Brisbane",
          "Brisbane City",
          "Buenos Aires",
          "Burnaby",
          "Canberra",
          "Cape Town",
          "City of Westminster",
          "Ciudad de México",
          "Concepción",
          "Córdoba",
          "Daerah Khusus ibukota Jakarta",
          "Dhaka",
          "Dongcheng",
          "Doral",
          "El cairo",
          "Germiston",
          "Guadalajara",
          "Gurgaon",
          "Houston",
          "Johannesburgo",
          "Joondalup",
          "Lagos",
          "Lima Metropolitana",
          "Lo Barnechea",
          "London",
          "Lower Hutt",
          "Lyon",
          "Madrid",
          "Makati",
          "Mar_1",
          "Mar_2",
          "Maungakiekie-Tāmaki",
          "Mazarambroz",
          "Melbourne",
          "Metairie",
          "Miami",
          "Mombasa",
          "Mumbai City",
          "Mumbai Suburban",
          "Nairobi",
          "New Orleans",
          "Nueva Delhi",
          "Old Toronto",
          "Osaka",
          "Paris",
          "Pasay",
          "Pekin",
          "Perth",
          "Perímetro Urbano Medellín",
          "Queensland",
          "Rio de Janeiro",
          "Roma",
          "Rooihuiskraal",
          "Sandton",
          "Santiago",
          "Sheikh Zayed",
          "Surabaya",
          "Sydney",
          "São Paulo",
          "Tokio",
          "Toronto",
          "Tudor ward",
          "Upper Harbour",
          "Valparaíso",
          "Vancouver",
          "Viña del Mar",
          "Wellington",
          "Wuham",
          "Wuhan",
          "Yaguas",
          "Zapopan",
          "Ōrākei"
         ],
         "xaxis": "x",
         "y": [
          37000,
          17000,
          29000,
          45333.333333333336,
          15000,
          47000,
          156000,
          100000,
          67000,
          10000,
          169666.66666666666,
          26666.666666666668,
          110000,
          45000,
          29000,
          7750,
          60000,
          50000,
          23250,
          154000,
          47666.666666666664,
          35000,
          30666.666666666668,
          250000,
          137500,
          128500,
          214000,
          18500,
          22000,
          36000,
          251000,
          120000,
          22000,
          72000,
          55000,
          80000,
          9000,
          73500,
          26000,
          32500,
          48000,
          215000,
          20000,
          65000,
          8000,
          5000,
          152500,
          38000,
          230000,
          9000,
          90000,
          86666.66666666667,
          30000,
          28500,
          249000,
          123000,
          200000,
          37500,
          235000,
          71500,
          37000,
          40000,
          126000,
          20000,
          30000,
          22000,
          7000,
          6500,
          25000,
          183333.33333333334,
          100000,
          20000,
          125000,
          109000,
          18000,
          20000,
          37000,
          60000,
          38000,
          19000,
          101000,
          124000,
          9000,
          34000,
          10000
         ],
         "yaxis": "y2"
        },
        {
         "name": "portLoss",
         "type": "scatter",
         "visible": false,
         "x": [
          "Abuja",
          "Adelaide",
          "Alejandría",
          "Amsterdam",
          "Arroyomolinos",
          "Auckland",
          "Aventura",
          "Barcelona",
          "Beckenham",
          "Belle Chasse",
          "Berlin",
          "Bogotá",
          "Bologna",
          "Brisbane",
          "Brisbane City",
          "Buenos Aires",
          "Burnaby",
          "Canberra",
          "Cape Town",
          "City of Westminster",
          "Ciudad de México",
          "Concepción",
          "Córdoba",
          "Daerah Khusus ibukota Jakarta",
          "Dhaka",
          "Dongcheng",
          "Doral",
          "El cairo",
          "Germiston",
          "Guadalajara",
          "Gurgaon",
          "Houston",
          "Johannesburgo",
          "Joondalup",
          "Lagos",
          "Lima Metropolitana",
          "Lo Barnechea",
          "London",
          "Lower Hutt",
          "Lyon",
          "Madrid",
          "Makati",
          "Mar_1",
          "Mar_2",
          "Maungakiekie-Tāmaki",
          "Mazarambroz",
          "Melbourne",
          "Metairie",
          "Miami",
          "Mombasa",
          "Mumbai City",
          "Mumbai Suburban",
          "Nairobi",
          "New Orleans",
          "Nueva Delhi",
          "Old Toronto",
          "Osaka",
          "Paris",
          "Pasay",
          "Pekin",
          "Perth",
          "Perímetro Urbano Medellín",
          "Queensland",
          "Rio de Janeiro",
          "Roma",
          "Rooihuiskraal",
          "Sandton",
          "Santiago",
          "Sheikh Zayed",
          "Surabaya",
          "Sydney",
          "São Paulo",
          "Tokio",
          "Toronto",
          "Tudor ward",
          "Upper Harbour",
          "Valparaíso",
          "Vancouver",
          "Viña del Mar",
          "Wellington",
          "Wuham",
          "Wuhan",
          "Yaguas",
          "Zapopan",
          "Ōrākei"
         ],
         "xaxis": "x",
         "y": [
          67645.56962025317,
          67645.56962025317,
          67645.56962025317,
          67645.56962025317,
          67645.56962025317,
          67645.56962025317,
          67645.56962025317,
          67645.56962025317,
          67645.56962025317,
          67645.56962025317,
          67645.56962025317,
          67645.56962025317,
          67645.56962025317,
          67645.56962025317,
          67645.56962025317,
          67645.56962025317,
          67645.56962025317,
          67645.56962025317,
          67645.56962025317,
          67645.56962025317,
          67645.56962025317,
          67645.56962025317,
          67645.56962025317,
          67645.56962025317,
          67645.56962025317,
          67645.56962025317,
          67645.56962025317,
          67645.56962025317,
          67645.56962025317,
          67645.56962025317,
          67645.56962025317,
          67645.56962025317,
          67645.56962025317,
          67645.56962025317,
          67645.56962025317,
          67645.56962025317,
          67645.56962025317,
          67645.56962025317,
          67645.56962025317,
          67645.56962025317,
          67645.56962025317,
          67645.56962025317,
          67645.56962025317,
          67645.56962025317,
          67645.56962025317,
          67645.56962025317,
          67645.56962025317,
          67645.56962025317,
          67645.56962025317,
          67645.56962025317,
          67645.56962025317,
          67645.56962025317,
          67645.56962025317,
          67645.56962025317,
          67645.56962025317,
          67645.56962025317,
          67645.56962025317,
          67645.56962025317,
          67645.56962025317,
          67645.56962025317,
          67645.56962025317,
          67645.56962025317,
          67645.56962025317,
          67645.56962025317,
          67645.56962025317,
          67645.56962025317,
          67645.56962025317,
          67645.56962025317,
          67645.56962025317,
          67645.56962025317,
          67645.56962025317,
          67645.56962025317,
          67645.56962025317,
          67645.56962025317,
          67645.56962025317,
          67645.56962025317,
          67645.56962025317,
          67645.56962025317,
          67645.56962025317,
          67645.56962025317,
          67645.56962025317,
          67645.56962025317,
          67645.56962025317,
          67645.56962025317,
          67645.56962025317
         ],
         "yaxis": "y2"
        }
       ],
       "layout": {
        "height": 400,
        "template": {
         "data": {
          "bar": [
           {
            "error_x": {
             "color": "#2a3f5f"
            },
            "error_y": {
             "color": "#2a3f5f"
            },
            "marker": {
             "line": {
              "color": "white",
              "width": 0.5
             },
             "pattern": {
              "fillmode": "overlay",
              "size": 10,
              "solidity": 0.2
             }
            },
            "type": "bar"
           }
          ],
          "barpolar": [
           {
            "marker": {
             "line": {
              "color": "white",
              "width": 0.5
             },
             "pattern": {
              "fillmode": "overlay",
              "size": 10,
              "solidity": 0.2
             }
            },
            "type": "barpolar"
           }
          ],
          "carpet": [
           {
            "aaxis": {
             "endlinecolor": "#2a3f5f",
             "gridcolor": "#C8D4E3",
             "linecolor": "#C8D4E3",
             "minorgridcolor": "#C8D4E3",
             "startlinecolor": "#2a3f5f"
            },
            "baxis": {
             "endlinecolor": "#2a3f5f",
             "gridcolor": "#C8D4E3",
             "linecolor": "#C8D4E3",
             "minorgridcolor": "#C8D4E3",
             "startlinecolor": "#2a3f5f"
            },
            "type": "carpet"
           }
          ],
          "choropleth": [
           {
            "colorbar": {
             "outlinewidth": 0,
             "ticks": ""
            },
            "type": "choropleth"
           }
          ],
          "contour": [
           {
            "colorbar": {
             "outlinewidth": 0,
             "ticks": ""
            },
            "colorscale": [
             [
              0,
              "#0d0887"
             ],
             [
              0.1111111111111111,
              "#46039f"
             ],
             [
              0.2222222222222222,
              "#7201a8"
             ],
             [
              0.3333333333333333,
              "#9c179e"
             ],
             [
              0.4444444444444444,
              "#bd3786"
             ],
             [
              0.5555555555555556,
              "#d8576b"
             ],
             [
              0.6666666666666666,
              "#ed7953"
             ],
             [
              0.7777777777777778,
              "#fb9f3a"
             ],
             [
              0.8888888888888888,
              "#fdca26"
             ],
             [
              1,
              "#f0f921"
             ]
            ],
            "type": "contour"
           }
          ],
          "contourcarpet": [
           {
            "colorbar": {
             "outlinewidth": 0,
             "ticks": ""
            },
            "type": "contourcarpet"
           }
          ],
          "heatmap": [
           {
            "colorbar": {
             "outlinewidth": 0,
             "ticks": ""
            },
            "colorscale": [
             [
              0,
              "#0d0887"
             ],
             [
              0.1111111111111111,
              "#46039f"
             ],
             [
              0.2222222222222222,
              "#7201a8"
             ],
             [
              0.3333333333333333,
              "#9c179e"
             ],
             [
              0.4444444444444444,
              "#bd3786"
             ],
             [
              0.5555555555555556,
              "#d8576b"
             ],
             [
              0.6666666666666666,
              "#ed7953"
             ],
             [
              0.7777777777777778,
              "#fb9f3a"
             ],
             [
              0.8888888888888888,
              "#fdca26"
             ],
             [
              1,
              "#f0f921"
             ]
            ],
            "type": "heatmap"
           }
          ],
          "heatmapgl": [
           {
            "colorbar": {
             "outlinewidth": 0,
             "ticks": ""
            },
            "colorscale": [
             [
              0,
              "#0d0887"
             ],
             [
              0.1111111111111111,
              "#46039f"
             ],
             [
              0.2222222222222222,
              "#7201a8"
             ],
             [
              0.3333333333333333,
              "#9c179e"
             ],
             [
              0.4444444444444444,
              "#bd3786"
             ],
             [
              0.5555555555555556,
              "#d8576b"
             ],
             [
              0.6666666666666666,
              "#ed7953"
             ],
             [
              0.7777777777777778,
              "#fb9f3a"
             ],
             [
              0.8888888888888888,
              "#fdca26"
             ],
             [
              1,
              "#f0f921"
             ]
            ],
            "type": "heatmapgl"
           }
          ],
          "histogram": [
           {
            "marker": {
             "pattern": {
              "fillmode": "overlay",
              "size": 10,
              "solidity": 0.2
             }
            },
            "type": "histogram"
           }
          ],
          "histogram2d": [
           {
            "colorbar": {
             "outlinewidth": 0,
             "ticks": ""
            },
            "colorscale": [
             [
              0,
              "#0d0887"
             ],
             [
              0.1111111111111111,
              "#46039f"
             ],
             [
              0.2222222222222222,
              "#7201a8"
             ],
             [
              0.3333333333333333,
              "#9c179e"
             ],
             [
              0.4444444444444444,
              "#bd3786"
             ],
             [
              0.5555555555555556,
              "#d8576b"
             ],
             [
              0.6666666666666666,
              "#ed7953"
             ],
             [
              0.7777777777777778,
              "#fb9f3a"
             ],
             [
              0.8888888888888888,
              "#fdca26"
             ],
             [
              1,
              "#f0f921"
             ]
            ],
            "type": "histogram2d"
           }
          ],
          "histogram2dcontour": [
           {
            "colorbar": {
             "outlinewidth": 0,
             "ticks": ""
            },
            "colorscale": [
             [
              0,
              "#0d0887"
             ],
             [
              0.1111111111111111,
              "#46039f"
             ],
             [
              0.2222222222222222,
              "#7201a8"
             ],
             [
              0.3333333333333333,
              "#9c179e"
             ],
             [
              0.4444444444444444,
              "#bd3786"
             ],
             [
              0.5555555555555556,
              "#d8576b"
             ],
             [
              0.6666666666666666,
              "#ed7953"
             ],
             [
              0.7777777777777778,
              "#fb9f3a"
             ],
             [
              0.8888888888888888,
              "#fdca26"
             ],
             [
              1,
              "#f0f921"
             ]
            ],
            "type": "histogram2dcontour"
           }
          ],
          "mesh3d": [
           {
            "colorbar": {
             "outlinewidth": 0,
             "ticks": ""
            },
            "type": "mesh3d"
           }
          ],
          "parcoords": [
           {
            "line": {
             "colorbar": {
              "outlinewidth": 0,
              "ticks": ""
             }
            },
            "type": "parcoords"
           }
          ],
          "pie": [
           {
            "automargin": true,
            "type": "pie"
           }
          ],
          "scatter": [
           {
            "fillpattern": {
             "fillmode": "overlay",
             "size": 10,
             "solidity": 0.2
            },
            "type": "scatter"
           }
          ],
          "scatter3d": [
           {
            "line": {
             "colorbar": {
              "outlinewidth": 0,
              "ticks": ""
             }
            },
            "marker": {
             "colorbar": {
              "outlinewidth": 0,
              "ticks": ""
             }
            },
            "type": "scatter3d"
           }
          ],
          "scattercarpet": [
           {
            "marker": {
             "colorbar": {
              "outlinewidth": 0,
              "ticks": ""
             }
            },
            "type": "scattercarpet"
           }
          ],
          "scattergeo": [
           {
            "marker": {
             "colorbar": {
              "outlinewidth": 0,
              "ticks": ""
             }
            },
            "type": "scattergeo"
           }
          ],
          "scattergl": [
           {
            "marker": {
             "colorbar": {
              "outlinewidth": 0,
              "ticks": ""
             }
            },
            "type": "scattergl"
           }
          ],
          "scattermapbox": [
           {
            "marker": {
             "colorbar": {
              "outlinewidth": 0,
              "ticks": ""
             }
            },
            "type": "scattermapbox"
           }
          ],
          "scatterpolar": [
           {
            "marker": {
             "colorbar": {
              "outlinewidth": 0,
              "ticks": ""
             }
            },
            "type": "scatterpolar"
           }
          ],
          "scatterpolargl": [
           {
            "marker": {
             "colorbar": {
              "outlinewidth": 0,
              "ticks": ""
             }
            },
            "type": "scatterpolargl"
           }
          ],
          "scatterternary": [
           {
            "marker": {
             "colorbar": {
              "outlinewidth": 0,
              "ticks": ""
             }
            },
            "type": "scatterternary"
           }
          ],
          "surface": [
           {
            "colorbar": {
             "outlinewidth": 0,
             "ticks": ""
            },
            "colorscale": [
             [
              0,
              "#0d0887"
             ],
             [
              0.1111111111111111,
              "#46039f"
             ],
             [
              0.2222222222222222,
              "#7201a8"
             ],
             [
              0.3333333333333333,
              "#9c179e"
             ],
             [
              0.4444444444444444,
              "#bd3786"
             ],
             [
              0.5555555555555556,
              "#d8576b"
             ],
             [
              0.6666666666666666,
              "#ed7953"
             ],
             [
              0.7777777777777778,
              "#fb9f3a"
             ],
             [
              0.8888888888888888,
              "#fdca26"
             ],
             [
              1,
              "#f0f921"
             ]
            ],
            "type": "surface"
           }
          ],
          "table": [
           {
            "cells": {
             "fill": {
              "color": "#EBF0F8"
             },
             "line": {
              "color": "white"
             }
            },
            "header": {
             "fill": {
              "color": "#C8D4E3"
             },
             "line": {
              "color": "white"
             }
            },
            "type": "table"
           }
          ]
         },
         "layout": {
          "annotationdefaults": {
           "arrowcolor": "#2a3f5f",
           "arrowhead": 0,
           "arrowwidth": 1
          },
          "autotypenumbers": "strict",
          "coloraxis": {
           "colorbar": {
            "outlinewidth": 0,
            "ticks": ""
           }
          },
          "colorscale": {
           "diverging": [
            [
             0,
             "#8e0152"
            ],
            [
             0.1,
             "#c51b7d"
            ],
            [
             0.2,
             "#de77ae"
            ],
            [
             0.3,
             "#f1b6da"
            ],
            [
             0.4,
             "#fde0ef"
            ],
            [
             0.5,
             "#f7f7f7"
            ],
            [
             0.6,
             "#e6f5d0"
            ],
            [
             0.7,
             "#b8e186"
            ],
            [
             0.8,
             "#7fbc41"
            ],
            [
             0.9,
             "#4d9221"
            ],
            [
             1,
             "#276419"
            ]
           ],
           "sequential": [
            [
             0,
             "#0d0887"
            ],
            [
             0.1111111111111111,
             "#46039f"
            ],
            [
             0.2222222222222222,
             "#7201a8"
            ],
            [
             0.3333333333333333,
             "#9c179e"
            ],
            [
             0.4444444444444444,
             "#bd3786"
            ],
            [
             0.5555555555555556,
             "#d8576b"
            ],
            [
             0.6666666666666666,
             "#ed7953"
            ],
            [
             0.7777777777777778,
             "#fb9f3a"
            ],
            [
             0.8888888888888888,
             "#fdca26"
            ],
            [
             1,
             "#f0f921"
            ]
           ],
           "sequentialminus": [
            [
             0,
             "#0d0887"
            ],
            [
             0.1111111111111111,
             "#46039f"
            ],
            [
             0.2222222222222222,
             "#7201a8"
            ],
            [
             0.3333333333333333,
             "#9c179e"
            ],
            [
             0.4444444444444444,
             "#bd3786"
            ],
            [
             0.5555555555555556,
             "#d8576b"
            ],
            [
             0.6666666666666666,
             "#ed7953"
            ],
            [
             0.7777777777777778,
             "#fb9f3a"
            ],
            [
             0.8888888888888888,
             "#fdca26"
            ],
            [
             1,
             "#f0f921"
            ]
           ]
          },
          "colorway": [
           "#636efa",
           "#EF553B",
           "#00cc96",
           "#ab63fa",
           "#FFA15A",
           "#19d3f3",
           "#FF6692",
           "#B6E880",
           "#FF97FF",
           "#FECB52"
          ],
          "font": {
           "color": "#2a3f5f"
          },
          "geo": {
           "bgcolor": "white",
           "lakecolor": "white",
           "landcolor": "white",
           "showlakes": true,
           "showland": true,
           "subunitcolor": "#C8D4E3"
          },
          "hoverlabel": {
           "align": "left"
          },
          "hovermode": "closest",
          "mapbox": {
           "style": "light"
          },
          "paper_bgcolor": "white",
          "plot_bgcolor": "white",
          "polar": {
           "angularaxis": {
            "gridcolor": "#EBF0F8",
            "linecolor": "#EBF0F8",
            "ticks": ""
           },
           "bgcolor": "white",
           "radialaxis": {
            "gridcolor": "#EBF0F8",
            "linecolor": "#EBF0F8",
            "ticks": ""
           }
          },
          "scene": {
           "xaxis": {
            "backgroundcolor": "white",
            "gridcolor": "#DFE8F3",
            "gridwidth": 2,
            "linecolor": "#EBF0F8",
            "showbackground": true,
            "ticks": "",
            "zerolinecolor": "#EBF0F8"
           },
           "yaxis": {
            "backgroundcolor": "white",
            "gridcolor": "#DFE8F3",
            "gridwidth": 2,
            "linecolor": "#EBF0F8",
            "showbackground": true,
            "ticks": "",
            "zerolinecolor": "#EBF0F8"
           },
           "zaxis": {
            "backgroundcolor": "white",
            "gridcolor": "#DFE8F3",
            "gridwidth": 2,
            "linecolor": "#EBF0F8",
            "showbackground": true,
            "ticks": "",
            "zerolinecolor": "#EBF0F8"
           }
          },
          "shapedefaults": {
           "line": {
            "color": "#2a3f5f"
           }
          },
          "ternary": {
           "aaxis": {
            "gridcolor": "#DFE8F3",
            "linecolor": "#A2B1C6",
            "ticks": ""
           },
           "baxis": {
            "gridcolor": "#DFE8F3",
            "linecolor": "#A2B1C6",
            "ticks": ""
           },
           "bgcolor": "white",
           "caxis": {
            "gridcolor": "#DFE8F3",
            "linecolor": "#A2B1C6",
            "ticks": ""
           }
          },
          "title": {
           "x": 0.05
          },
          "xaxis": {
           "automargin": true,
           "gridcolor": "#EBF0F8",
           "linecolor": "#EBF0F8",
           "ticks": "",
           "title": {
            "standoff": 15
           },
           "zerolinecolor": "#EBF0F8",
           "zerolinewidth": 2
          },
          "yaxis": {
           "automargin": true,
           "gridcolor": "#EBF0F8",
           "linecolor": "#EBF0F8",
           "ticks": "",
           "title": {
            "standoff": 15
           },
           "zerolinecolor": "#EBF0F8",
           "zerolinewidth": 2
          }
         }
        },
        "title": {
         "font": {
          "size": 30
         },
         "text": "marginalFreq vs Exposure"
        },
        "updatemenus": [
         {
          "buttons": [
           {
            "args": [
             {
              "visible": [
               true,
               true,
               true,
               false,
               false,
               false,
               false,
               false,
               false
              ]
             },
             {
              "title": {
               "font": {
                "size": 30
               },
               "text": "marginalFreq vs Exposure"
              },
              "yaxis": {
               "title": {
                "side": "left",
                "text": "Exposicion"
               }
              },
              "yaxis2": {
               "overlaying": "y",
               "side": "right",
               "tickmode": "sync",
               "title": {
                "text": "marginalFreq"
               }
              }
             }
            ],
            "label": "marginalFreq",
            "method": "update"
           },
           {
            "args": [
             {
              "visible": [
               false,
               false,
               false,
               true,
               true,
               true,
               false,
               false,
               false
              ]
             },
             {
              "title": {
               "font": {
                "size": 30
               },
               "text": "marginalSeve vs Claim Number"
              },
              "yaxis": {
               "title": {
                "side": "left",
                "text": "Numero Siniestros"
               }
              },
              "yaxis2": {
               "overlaying": "y",
               "side": "right",
               "tickmode": "sync",
               "title": {
                "text": "marginalSeve"
               }
              }
             }
            ],
            "label": "marginalSeve",
            "method": "update"
           },
           {
            "args": [
             {
              "visible": [
               false,
               false,
               false,
               false,
               false,
               false,
               true,
               true,
               true
              ]
             },
             {
              "title": {
               "font": {
                "size": 30
               },
               "text": "marginalLossCost vs Exposure"
              },
              "yaxis": {
               "title": {
                "side": "left",
                "text": "Exposicion"
               }
              },
              "yaxis2": {
               "overlaying": "y",
               "side": "right",
               "tickmode": "sync",
               "title": {
                "text": "marginalLossCost"
               }
              }
             }
            ],
            "label": "marginalLossCost",
            "method": "update"
           }
          ],
          "type": "buttons",
          "x": 1.4,
          "y": 0.5
         }
        ],
        "xaxis": {
         "anchor": "y",
         "domain": [
          0,
          0.94
         ]
        },
        "yaxis": {
         "anchor": "x",
         "domain": [
          0,
          1
         ],
         "side": "left",
         "title": {
          "text": "Exposicion"
         }
        },
        "yaxis2": {
         "anchor": "x",
         "overlaying": "y",
         "side": "right",
         "title": {
          "text": "marginalFreq"
         }
        }
       }
      }
     },
     "metadata": {},
     "output_type": "display_data"
    }
   ],
   "source": [
    "eda = FreqSevEDA(df, exposure=\"Exposicion\", claimNb=\"Numero Siniestros\", claimAmount=\"Monto de siniestro\")\n",
    "eda.interactive_graph()"
   ]
  },
  {
   "cell_type": "code",
   "execution_count": 10,
   "metadata": {},
   "outputs": [],
   "source": [
    "eda.graphFreqSev(\"Ciudad\").update_layout(template = \"plotly_white\").write_html(r\"C:\\Users\\abrah\\OneDrive\\Desktop\\casoCAS\\docs\\images\\fregSevCity.html\")"
   ]
  },
  {
   "cell_type": "markdown",
   "metadata": {},
   "source": [
    "# Description by columns\n",
    "\n",
    "- We have negative values for TIV (Is this a mistake?) how should we deal with those values? We have only one location with negative TIV loc068. In this case we will take absolute value of the TIV column, in that way we don't lose information.\n",
    "- Information between years 2014 and 2023\n",
    "- Is premium in USD dolars?\n",
    "- Duration floods between 4 and 10 days\n",
    "- Severity value between 2 and 5. Why we don't have value 1?\n",
    "- Precipitation between 100 mm and 310 mm\n",
    "- Raising of river between 1.2 M and 4.5 M"
   ]
  },
  {
   "cell_type": "code",
   "execution_count": 4,
   "metadata": {},
   "outputs": [
    {
     "name": "stdout",
     "output_type": "stream",
     "text": [
      "shape: (9, 22)\n",
      "| statistic  | Loc ID | Año Póliza | Exposicion | Suma Asegurada    | Prima          | Evento ID | Numero Siniestros | Mes       | Duración de la inundación (día… | Severidad de la inundación (es… | Precipitación (mm) | Incremento del Nivel del Río (… | Monto de siniestro | Latitud   | Longitud  | Ciudad | Pais      | Codigo pais | Continente | Sub continente            | Continente intermedio |\n",
      "|------------|--------|------------|------------|-------------------|----------------|-----------|-------------------|-----------|---------------------------------|---------------------------------|--------------------|---------------------------------|--------------------|-----------|-----------|--------|-----------|-------------|------------|---------------------------|-----------------------|\n",
      "| count      | 1580   | 1,580.000  | 1,580.000  | 1,580.000         | 1,580.000      | 188.000   | 1,580.000         | 188.000   | 188.000                         | 188.000                         | 188.000            | 188.000                         | 1,580.000          | 1,580.000 | 1,580.000 | 1580   | 1580      | 1580        | 1580       | 1580                      | 560                   |\n",
      "| null_count | 0      | 0.000      | 0.000      | 0.000             | 0.000          | 1,392.000 | 0.000             | 1,392.000 | 1,392.000                       | 1,392.000                       | 1,392.000          | 1,392.000                       | 0.000              | 0.000     | 0.000     | 0      | 0         | 0           | 0          | 0                         | 1020                  |\n",
      "| mean       | null   | 2,018.500  | 1.000      | 216,345,847.626   | 1,345,975.013  | 30.324    | 0.119             | 6.952     | 6.356                           | 3.574                           | 189.521            | 2.472                           | 67,645.570         | 7.085     | 22.769    | null   | null      | null        | null       | null                      | null                  |\n",
      "| std        | null   | 2.873      | 0.000      | 250,080,033.888   | 1,748,856.293  | 17.172    | 0.324             | 3.644     | 1.729                           | 0.942                           | 47.643             | 0.804                           | 280,162.625        | 32.044    | 85.942    | null   | null      | null        | null       | null                      | null                  |\n",
      "| min        | loc001 | 2,014.000  | 1.000      | 4,999,100.000     | 50,984.000     | 1.000     | 0.000             | 1.000     | 4.000                           | 2.000                           | 100.000            | 1.200                           | 0.000              | -41.295   | -123.131  | Abuja  | Argentina | ARG         | Africa     | Australia and New Zealand | Central America       |\n",
      "| 25%        | null   | 2,016.000  | 1.000      | 54,090,060.000    | 339,730.000    | 16.000    | 0.000             | 3.000     | 5.000                           | 3.000                           | 150.000            | 1.900                           | 0.000              | -27.500   | -58.413   | null   | null      | null        | null       | null                      | null                  |\n",
      "| 50%        | null   | 2,019.000  | 1.000      | 121,573,530.000   | 769,800.000    | 30.000    | 0.000             | 7.000     | 6.000                           | 4.000                           | 190.000            | 2.400                           | 0.000              | 14.535    | 12.483    | null   | null      | null        | null       | null                      | null                  |\n",
      "| 75%        | null   | 2,021.000  | 1.000      | 288,763,580.000   | 1,678,180.000  | 45.000    | 0.000             | 11.000    | 8.000                           | 4.000                           | 220.000            | 2.900                           | 0.000              | 39.679    | 112.643   | null   | null      | null        | null       | null                      | null                  |\n",
      "| max        | loc200 | 2,023.000  | 1.000      | 1,820,998,510.000 | 16,860,910.000 | 60.000    | 1.000             | 12.000    | 10.000                          | 5.000                           | 310.000            | 4.500                           | 4,280,000.000      | 52.523    | 174.883   | Ōrākei | unknown   | unknown     | Oceania    | Western Europe            | Western Africa        |\n"
     ]
    }
   ],
   "source": [
    "with config():\n",
    "    print(df.describe())\n",
    "\n",
    "#lets fix TIV values \n",
    "\n",
    "df = df.with_columns(pl.col(\"Suma Asegurada\").abs())\n"
   ]
  },
  {
   "cell_type": "markdown",
   "metadata": {},
   "source": [
    "# Information against Año Póliza\n",
    "\n",
    "- Precipitación Promedio per years tends to increase"
   ]
  },
  {
   "cell_type": "code",
   "execution_count": 5,
   "metadata": {},
   "outputs": [
    {
     "ename": "TypeError",
     "evalue": "at least one predicate or constraint must be provided",
     "output_type": "error",
     "traceback": [
      "\u001b[1;31m---------------------------------------------------------------------------\u001b[0m",
      "\u001b[1;31mTypeError\u001b[0m                                 Traceback (most recent call last)",
      "Cell \u001b[1;32mIn[5], line 1\u001b[0m\n\u001b[1;32m----> 1\u001b[0m w \u001b[38;5;241m=\u001b[39m df\u001b[38;5;241m.\u001b[39mfilter()\n",
      "File \u001b[1;32mc:\\Users\\abrah\\anaconda3\\Lib\\site-packages\\polars\\dataframe\\frame.py:4755\u001b[0m, in \u001b[0;36mDataFrame.filter\u001b[1;34m(self, *predicates, **constraints)\u001b[0m\n\u001b[0;32m   4601\u001b[0m \u001b[38;5;28;01mdef\u001b[39;00m \u001b[38;5;21mfilter\u001b[39m(\n\u001b[0;32m   4602\u001b[0m     \u001b[38;5;28mself\u001b[39m,\n\u001b[0;32m   4603\u001b[0m     \u001b[38;5;241m*\u001b[39mpredicates: (\n\u001b[1;32m   (...)\u001b[0m\n\u001b[0;32m   4610\u001b[0m     \u001b[38;5;241m*\u001b[39m\u001b[38;5;241m*\u001b[39mconstraints: Any,\n\u001b[0;32m   4611\u001b[0m ) \u001b[38;5;241m-\u001b[39m\u001b[38;5;241m>\u001b[39m DataFrame:\n\u001b[0;32m   4612\u001b[0m \u001b[38;5;250m    \u001b[39m\u001b[38;5;124;03m\"\"\"\u001b[39;00m\n\u001b[0;32m   4613\u001b[0m \u001b[38;5;124;03m    Filter the rows in the DataFrame based on one or more predicate expressions.\u001b[39;00m\n\u001b[0;32m   4614\u001b[0m \n\u001b[1;32m   (...)\u001b[0m\n\u001b[0;32m   4753\u001b[0m \n\u001b[0;32m   4754\u001b[0m \u001b[38;5;124;03m    \"\"\"\u001b[39;00m\n\u001b[1;32m-> 4755\u001b[0m     \u001b[38;5;28;01mreturn\u001b[39;00m \u001b[38;5;28mself\u001b[39m\u001b[38;5;241m.\u001b[39mlazy()\u001b[38;5;241m.\u001b[39mfilter(\u001b[38;5;241m*\u001b[39mpredicates, \u001b[38;5;241m*\u001b[39m\u001b[38;5;241m*\u001b[39mconstraints)\u001b[38;5;241m.\u001b[39mcollect(_eager\u001b[38;5;241m=\u001b[39m\u001b[38;5;28;01mTrue\u001b[39;00m)\n",
      "File \u001b[1;32mc:\\Users\\abrah\\anaconda3\\Lib\\site-packages\\polars\\lazyframe\\frame.py:3295\u001b[0m, in \u001b[0;36mLazyFrame.filter\u001b[1;34m(self, *predicates, **constraints)\u001b[0m\n\u001b[0;32m   3293\u001b[0m \u001b[38;5;28;01mif\u001b[39;00m \u001b[38;5;129;01mnot\u001b[39;00m (all_predicates \u001b[38;5;129;01mor\u001b[39;00m boolean_masks):\n\u001b[0;32m   3294\u001b[0m     msg \u001b[38;5;241m=\u001b[39m \u001b[38;5;124m\"\u001b[39m\u001b[38;5;124mat least one predicate or constraint must be provided\u001b[39m\u001b[38;5;124m\"\u001b[39m\n\u001b[1;32m-> 3295\u001b[0m     \u001b[38;5;28;01mraise\u001b[39;00m \u001b[38;5;167;01mTypeError\u001b[39;00m(msg)\n\u001b[0;32m   3297\u001b[0m \u001b[38;5;66;03m# if multiple predicates, combine as 'horizontal' expression\u001b[39;00m\n\u001b[0;32m   3298\u001b[0m combined_predicate \u001b[38;5;241m=\u001b[39m (\n\u001b[0;32m   3299\u001b[0m     (\n\u001b[0;32m   3300\u001b[0m         F\u001b[38;5;241m.\u001b[39mall_horizontal(\u001b[38;5;241m*\u001b[39mall_predicates)\n\u001b[1;32m   (...)\u001b[0m\n\u001b[0;32m   3305\u001b[0m     \u001b[38;5;28;01melse\u001b[39;00m \u001b[38;5;28;01mNone\u001b[39;00m\n\u001b[0;32m   3306\u001b[0m )\n",
      "\u001b[1;31mTypeError\u001b[0m: at least one predicate or constraint must be provided"
     ]
    }
   ],
   "source": [
    "w = df.filter()"
   ]
  },
  {
   "cell_type": "code",
   "execution_count": 6,
   "metadata": {},
   "outputs": [
    {
     "data": {
      "text/html": [
       "<div><style>\n",
       ".dataframe > thead > tr,\n",
       ".dataframe > tbody > tr {\n",
       "  text-align: right;\n",
       "  white-space: pre-wrap;\n",
       "}\n",
       "</style>\n",
       "<small>shape: (27, 19)</small><table border=\"1\" class=\"dataframe\"><thead><tr><th>Pais</th><th>Exposicion</th><th>Suma Asegurada</th><th>Prima Ganada</th><th>Número Eventos</th><th>Numero Siniestros</th><th>Duración Promedio</th><th>Magnitud Inundaciones Promedio</th><th>Precipitación Promedio</th><th>Incremento Promedio</th><th>Incurrido</th><th>Indice de Siniestralidad</th><th>Tasa por Mil</th><th>TPR</th><th>Frecuencia</th><th>Severidad</th><th>Prima Pura</th><th>proportion</th><th>Suma Asegurada Promedio</th></tr><tr><td>str</td><td>i64</td><td>i64</td><td>i64</td><td>u32</td><td>i64</td><td>f64</td><td>f64</td><td>f64</td><td>f64</td><td>i64</td><td>f64</td><td>f64</td><td>f64</td><td>f64</td><td>f64</td><td>f64</td><td>f64</td><td>f64</td></tr></thead><tbody><tr><td>&quot;Brazil&quot;</td><td>70</td><td>10707066620</td><td>66963252</td><td>2</td><td>7</td><td>4.571429</td><td>2.571429</td><td>151.428571</td><td>1.871429</td><td>1400000</td><td>0.020907</td><td>6.254117</td><td>0.000131</td><td>0.1</td><td>200000.0</td><td>20000.0</td><td>0.000299</td><td>1.5296e8</td></tr><tr><td>&quot;New Zealand&quot;</td><td>80</td><td>8436502580</td><td>80166073</td><td>2</td><td>8</td><td>5.0</td><td>3.0</td><td>155.0</td><td>1.8</td><td>1680000</td><td>0.020956</td><td>9.502287</td><td>0.000199</td><td>0.1</td><td>210000.0</td><td>21000.0</td><td>0.000262</td><td>1.0546e8</td></tr><tr><td>&quot;Italy&quot;</td><td>60</td><td>15946810870</td><td>138648915</td><td>2</td><td>6</td><td>6.0</td><td>3.333333</td><td>196.666667</td><td>2.4</td><td>3400000</td><td>0.024522</td><td>8.69446</td><td>0.000213</td><td>0.1</td><td>566666.666667</td><td>56666.666667</td><td>0.000409</td><td>2.6578e8</td></tr><tr><td>&quot;China&quot;</td><td>70</td><td>33536257010</td><td>287561631</td><td>2</td><td>7</td><td>6.571429</td><td>4.0</td><td>230.0</td><td>3.371429</td><td>7490000</td><td>0.026047</td><td>8.574649</td><td>0.000223</td><td>0.1</td><td>1.07e6</td><td>107000.0</td><td>0.000372</td><td>4.7909e8</td></tr><tr><td>&quot;South Africa&quot;</td><td>80</td><td>6805602900</td><td>58991325</td><td>2</td><td>8</td><td>7.0</td><td>4.0</td><td>170.0</td><td>2.3</td><td>1660000</td><td>0.02814</td><td>8.668053</td><td>0.000244</td><td>0.1</td><td>207500.0</td><td>20750.0</td><td>0.000352</td><td>8.5070e7</td></tr><tr><td>&hellip;</td><td>&hellip;</td><td>&hellip;</td><td>&hellip;</td><td>&hellip;</td><td>&hellip;</td><td>&hellip;</td><td>&hellip;</td><td>&hellip;</td><td>&hellip;</td><td>&hellip;</td><td>&hellip;</td><td>&hellip;</td><td>&hellip;</td><td>&hellip;</td><td>&hellip;</td><td>&hellip;</td><td>&hellip;</td><td>&hellip;</td></tr><tr><td>&quot;United Kingdom&quot;</td><td>30</td><td>12867347490</td><td>40476091</td><td>1</td><td>3</td><td>10.0</td><td>5.0</td><td>200.0</td><td>3.5</td><td>3010000</td><td>0.074365</td><td>3.145644</td><td>0.000234</td><td>0.1</td><td>1.0033e6</td><td>100333.333333</td><td>0.002479</td><td>4.28911583e8</td></tr><tr><td>&quot;Netherlands&quot;</td><td>30</td><td>3295486380</td><td>16382808</td><td>1</td><td>3</td><td>8.0</td><td>4.0</td><td>240.0</td><td>3.1</td><td>1360000</td><td>0.083014</td><td>4.971287</td><td>0.000413</td><td>0.1</td><td>453333.333333</td><td>45333.333333</td><td>0.002767</td><td>1.09849546e8</td></tr><tr><td>&quot;Peru&quot;</td><td>30</td><td>2913588680</td><td>20344473</td><td>3</td><td>5</td><td>4.6</td><td>2.4</td><td>134.0</td><td>1.42</td><td>1690000</td><td>0.083069</td><td>6.982617</td><td>0.00058</td><td>0.166667</td><td>338000.0</td><td>56333.333333</td><td>0.002769</td><td>9.7120e7</td></tr><tr><td>&quot;Bangladesh&quot;</td><td>40</td><td>13902306760</td><td>53998302</td><td>1</td><td>4</td><td>10.0</td><td>5.0</td><td>300.0</td><td>4.5</td><td>5500000</td><td>0.101855</td><td>3.884125</td><td>0.000396</td><td>0.1</td><td>1.375e6</td><td>137500.0</td><td>0.002546</td><td>3.47557669e8</td></tr><tr><td>&quot;United States&quot;</td><td>90</td><td>25095709120</td><td>72786454</td><td>5</td><td>14</td><td>6.285714</td><td>4.142857</td><td>198.571429</td><td>2.628571</td><td>9450000</td><td>0.129832</td><td>2.900355</td><td>0.000377</td><td>0.155556</td><td>675000.0</td><td>105000.0</td><td>0.001443</td><td>2.7884e8</td></tr></tbody></table></div>"
      ],
      "text/plain": [
       "shape: (27, 19)\n",
       "┌───────────┬───────────┬───────────┬───────────┬───┬───────────┬───────────┬───────────┬──────────┐\n",
       "│ Pais      ┆ Exposicio ┆ Suma      ┆ Prima     ┆ … ┆ Severidad ┆ Prima     ┆ proportio ┆ Suma Ase │\n",
       "│ ---       ┆ n         ┆ Asegurada ┆ Ganada    ┆   ┆ ---       ┆ Pura      ┆ n         ┆ gurada   │\n",
       "│ str       ┆ ---       ┆ ---       ┆ ---       ┆   ┆ f64       ┆ ---       ┆ ---       ┆ Promedio │\n",
       "│           ┆ i64       ┆ i64       ┆ i64       ┆   ┆           ┆ f64       ┆ f64       ┆ ---      │\n",
       "│           ┆           ┆           ┆           ┆   ┆           ┆           ┆           ┆ f64      │\n",
       "╞═══════════╪═══════════╪═══════════╪═══════════╪═══╪═══════════╪═══════════╪═══════════╪══════════╡\n",
       "│ Brazil    ┆ 70        ┆ 107070666 ┆ 66963252  ┆ … ┆ 200000.0  ┆ 20000.0   ┆ 0.000299  ┆ 1.5296e8 │\n",
       "│           ┆           ┆ 20        ┆           ┆   ┆           ┆           ┆           ┆          │\n",
       "│ New       ┆ 80        ┆ 843650258 ┆ 80166073  ┆ … ┆ 210000.0  ┆ 21000.0   ┆ 0.000262  ┆ 1.0546e8 │\n",
       "│ Zealand   ┆           ┆ 0         ┆           ┆   ┆           ┆           ┆           ┆          │\n",
       "│ Italy     ┆ 60        ┆ 159468108 ┆ 138648915 ┆ … ┆ 566666.66 ┆ 56666.666 ┆ 0.000409  ┆ 2.6578e8 │\n",
       "│           ┆           ┆ 70        ┆           ┆   ┆ 6667      ┆ 667       ┆           ┆          │\n",
       "│ China     ┆ 70        ┆ 335362570 ┆ 287561631 ┆ … ┆ 1.07e6    ┆ 107000.0  ┆ 0.000372  ┆ 4.7909e8 │\n",
       "│           ┆           ┆ 10        ┆           ┆   ┆           ┆           ┆           ┆          │\n",
       "│ South     ┆ 80        ┆ 680560290 ┆ 58991325  ┆ … ┆ 207500.0  ┆ 20750.0   ┆ 0.000352  ┆ 8.5070e7 │\n",
       "│ Africa    ┆           ┆ 0         ┆           ┆   ┆           ┆           ┆           ┆          │\n",
       "│ …         ┆ …         ┆ …         ┆ …         ┆ … ┆ …         ┆ …         ┆ …         ┆ …        │\n",
       "│ United    ┆ 30        ┆ 128673474 ┆ 40476091  ┆ … ┆ 1.0033e6  ┆ 100333.33 ┆ 0.002479  ┆ 4.289115 │\n",
       "│ Kingdom   ┆           ┆ 90        ┆           ┆   ┆           ┆ 3333      ┆           ┆ 83e8     │\n",
       "│ Netherlan ┆ 30        ┆ 329548638 ┆ 16382808  ┆ … ┆ 453333.33 ┆ 45333.333 ┆ 0.002767  ┆ 1.098495 │\n",
       "│ ds        ┆           ┆ 0         ┆           ┆   ┆ 3333      ┆ 333       ┆           ┆ 46e8     │\n",
       "│ Peru      ┆ 30        ┆ 291358868 ┆ 20344473  ┆ … ┆ 338000.0  ┆ 56333.333 ┆ 0.002769  ┆ 9.7120e7 │\n",
       "│           ┆           ┆ 0         ┆           ┆   ┆           ┆ 333       ┆           ┆          │\n",
       "│ Banglades ┆ 40        ┆ 139023067 ┆ 53998302  ┆ … ┆ 1.375e6   ┆ 137500.0  ┆ 0.002546  ┆ 3.475576 │\n",
       "│ h         ┆           ┆ 60        ┆           ┆   ┆           ┆           ┆           ┆ 69e8     │\n",
       "│ United    ┆ 90        ┆ 250957091 ┆ 72786454  ┆ … ┆ 675000.0  ┆ 105000.0  ┆ 0.001443  ┆ 2.7884e8 │\n",
       "│ States    ┆           ┆ 20        ┆           ┆   ┆           ┆           ┆           ┆          │\n",
       "└───────────┴───────────┴───────────┴───────────┴───┴───────────┴───────────┴───────────┴──────────┘"
      ]
     },
     "execution_count": 6,
     "metadata": {},
     "output_type": "execute_result"
    }
   ],
   "source": [
    "summary = (df.group_by([\"Pais\"]).agg(pl.col(\"Exposicion\").sum().alias(\"Exposicion\"),\n",
    "                              pl.col(\"Suma Asegurada\").sum(),\n",
    "                              pl.col(\"Prima\").sum().alias(\"Prima Ganada\"),\n",
    "                              pl.col(\"Evento ID\").drop_nulls().n_unique().alias(\"Número Eventos\"),\n",
    "                              pl.col(\"Numero Siniestros\").sum(),\n",
    "                              pl.col(\"Duración de la inundación (días)\").mean().alias(\"Duración Promedio\"),\n",
    "                              pl.col(\"Severidad de la inundación (escala 1-5)\").mean().alias(\"Magnitud Inundaciones Promedio\"),\n",
    "                              pl.col(\"Precipitación (mm)\").mean().alias(\"Precipitación Promedio\"),\n",
    "                              pl.col(\"Incremento del Nivel del Río (m)\").mean().alias(\"Incremento Promedio\"),\n",
    "                              pl.col(\"Monto de siniestro\").sum().alias(\"Incurrido\"))\n",
    "                         .with_columns((pl.col(\"Incurrido\")/pl.col(\"Prima Ganada\")).alias(\"Indice de Siniestralidad\"),\n",
    "                                       (pl.col(\"Prima Ganada\")/pl.col(\"Suma Asegurada\")*1000).alias(\"Tasa por Mil\"),\n",
    "                                       (pl.col(\"Incurrido\")/pl.col(\"Suma Asegurada\")).alias(\"TPR\"),\n",
    "                                       (pl.col(\"Numero Siniestros\")/pl.col(\"Exposicion\")).alias(\"Frecuencia\"),\n",
    "                                       (pl.col(\"Incurrido\")/pl.col(\"Numero Siniestros\")).alias(\"Severidad\"))\n",
    "                         .with_columns((pl.col(\"Frecuencia\")*pl.col(\"Severidad\")).alias(\"Prima Pura\"))\n",
    "                         .with_columns((pl.col(\"Prima Pura\")/pl.col(\"Prima Ganada\")).alias(\"proportion\"))\n",
    "                         .with_columns((pl.col(\"Suma Asegurada\")/pl.col(\"Exposicion\")).alias(\"Suma Asegurada Promedio\"))\n",
    "                         .sort(by = \"Indice de Siniestralidad\", descending=False))\n",
    "\n",
    "summary"
   ]
  },
  {
   "cell_type": "markdown",
   "metadata": {},
   "source": [
    "# Distribution by country"
   ]
  },
  {
   "cell_type": "code",
   "execution_count": 41,
   "metadata": {},
   "outputs": [],
   "source": [
    "json_path = r\"C:\\Users\\abrah\\OneDrive\\Desktop\\casoCAS\\archivo\\data\\countries.geojson\"\n",
    "# Open and read the JSON file\n",
    "with open(json_path) as file:\n",
    "    countries = json.load(file)  # Parse the JSON data into a Python dictionary/list"
   ]
  },
  {
   "cell_type": "code",
   "execution_count": 42,
   "metadata": {},
   "outputs": [],
   "source": [
    "pio.renderers\n",
    "pio.renderers.default = \"notebook_connected\""
   ]
  },
  {
   "cell_type": "code",
   "execution_count": null,
   "metadata": {},
   "outputs": [],
   "source": [
    "fig2 = px.choropleth_map(summary,\n",
    "                        geojson=countries,\n",
    "                        color=\"Suma Asegurada Promedio\",\n",
    "                        locations='Codigo pais',\n",
    "                        featureidkey=\"properties.ISO_A3\",\n",
    "                        #center={\"lat\": 0, \"lon\": 0},\n",
    "                        #map_style=#carto-voyager\",\n",
    "                        template=\"plotly_white\",\n",
    "                        color_continuous_scale = \"YlOrRd\", #PuRd\n",
    "                        hover_name = \"Pais\",\n",
    "                        zoom=0)\n",
    "\n",
    "\n",
    "fig2.update_layout(margin={\"r\":0,\"t\":0,\"l\":0,\"b\":0}, height = 300)\n",
    "fig2.show()\n",
    "fig2.write_html(r\"C:\\Users\\abrah\\OneDrive\\Desktop\\casoCAS\\docs\\images\\sumaAseguradaPromedio2.html\")"
   ]
  },
  {
   "cell_type": "code",
   "execution_count": 39,
   "metadata": {},
   "outputs": [],
   "source": [
    "fig2 = px.choropleth_map(summary,\n",
    "                        geojson=countries,\n",
    "                        color=\"Suma Asegurada\",\n",
    "                        locations='Codigo pais',\n",
    "                        featureidkey=\"properties.ISO_A3\",\n",
    "                        #center={\"lat\": 0, \"lon\": 0},\n",
    "                        #map_style=#carto-voyager\",\n",
    "                        template=\"plotly_white\",\n",
    "                        color_continuous_scale = \"YlOrRd\", #PuRd\n",
    "                        hover_name = \"Pais\",\n",
    "                        zoom=0)\n",
    "\n",
    "fig2.update_layout(margin={\"r\":0,\"t\":0,\"l\":0,\"b\":0}, height = 300)\n",
    "fig2.write_html(r\"C:\\Users\\abrah\\OneDrive\\Desktop\\casoCAS\\docs\\images\\SumaAsegurada2023.html\")"
   ]
  },
  {
   "cell_type": "markdown",
   "metadata": {},
   "source": [
    "# Heat map indice de siniestralidad"
   ]
  },
  {
   "cell_type": "code",
   "execution_count": 7,
   "metadata": {},
   "outputs": [],
   "source": [
    "f = summary.filter(pl.col(\"Numero Siniestros\")!=0)"
   ]
  },
  {
   "cell_type": "code",
   "execution_count": 8,
   "metadata": {},
   "outputs": [
    {
     "data": {
      "application/vnd.plotly.v1+json": {
       "config": {
        "plotlyServerURL": "https://plot.ly"
       },
       "data": [
        {
         "coloraxis": "coloraxis",
         "histfunc": "sum",
         "hovertemplate": "Pais=%{x}<br>Magnitud Inundaciones Promedio=%{y}<br>sum of Indice de Siniestralidad=%{z}<extra></extra>",
         "name": "",
         "type": "histogram2d",
         "x": [
          "Brazil",
          "New Zealand",
          "Italy",
          "China",
          "South Africa",
          "Argentina",
          "Colombia",
          "Mexico",
          "Australia",
          "India",
          "Kenya",
          "Egypt",
          "Canada",
          "France",
          "Japan",
          "Chile",
          "Germany",
          "unknown",
          "Spain",
          "Philippines",
          "Nigeria",
          "Indonesia",
          "United Kingdom",
          "Netherlands",
          "Peru",
          "Bangladesh",
          "United States"
         ],
         "xaxis": "x",
         "xbingroup": "x",
         "y": [
          2.5714285714285716,
          3,
          3.3333333333333335,
          4,
          4,
          2.857142857142857,
          3,
          4,
          3.391304347826087,
          5,
          2.5714285714285716,
          3,
          3.3333333333333335,
          3,
          4.5,
          2.5,
          5,
          3.5,
          3.5,
          5,
          3.6666666666666665,
          5,
          5,
          4,
          2.4,
          5,
          4.142857142857143
         ],
         "yaxis": "y",
         "ybingroup": "y",
         "z": [
          0.020906989403680694,
          0.020956496147690806,
          0.024522370045232594,
          0.026046590339446226,
          0.02813973071464321,
          0.030206886968849652,
          0.035160518535021175,
          0.03764854479461109,
          0.050015677613048405,
          0.05232724015454512,
          0.0541153022256375,
          0.05421264738169892,
          0.05430209154042308,
          0.05439918081733097,
          0.05621619919942078,
          0.05767899463414935,
          0.058851195526772655,
          0.060001752051159894,
          0.06103522686684835,
          0.06162473532518537,
          0.06418468818450586,
          0.07061717860523042,
          0.0743648886450028,
          0.08301385208201183,
          0.0830692444085428,
          0.10185505462745847,
          0.12983185030555272
         ]
        }
       ],
       "layout": {
        "coloraxis": {
         "colorbar": {
          "title": {
           "text": "Índice Siniestralidad"
          }
         },
         "colorscale": [
          [
           0,
           "rgb(255,255,204)"
          ],
          [
           0.125,
           "rgb(255,237,160)"
          ],
          [
           0.25,
           "rgb(254,217,118)"
          ],
          [
           0.375,
           "rgb(254,178,76)"
          ],
          [
           0.5,
           "rgb(253,141,60)"
          ],
          [
           0.625,
           "rgb(252,78,42)"
          ],
          [
           0.75,
           "rgb(227,26,28)"
          ],
          [
           0.875,
           "rgb(189,0,38)"
          ],
          [
           1,
           "rgb(128,0,38)"
          ]
         ]
        },
        "legend": {
         "tracegroupgap": 0
        },
        "margin": {
         "t": 60
        },
        "template": {
         "data": {
          "bar": [
           {
            "error_x": {
             "color": "#2a3f5f"
            },
            "error_y": {
             "color": "#2a3f5f"
            },
            "marker": {
             "line": {
              "color": "white",
              "width": 0.5
             },
             "pattern": {
              "fillmode": "overlay",
              "size": 10,
              "solidity": 0.2
             }
            },
            "type": "bar"
           }
          ],
          "barpolar": [
           {
            "marker": {
             "line": {
              "color": "white",
              "width": 0.5
             },
             "pattern": {
              "fillmode": "overlay",
              "size": 10,
              "solidity": 0.2
             }
            },
            "type": "barpolar"
           }
          ],
          "carpet": [
           {
            "aaxis": {
             "endlinecolor": "#2a3f5f",
             "gridcolor": "#C8D4E3",
             "linecolor": "#C8D4E3",
             "minorgridcolor": "#C8D4E3",
             "startlinecolor": "#2a3f5f"
            },
            "baxis": {
             "endlinecolor": "#2a3f5f",
             "gridcolor": "#C8D4E3",
             "linecolor": "#C8D4E3",
             "minorgridcolor": "#C8D4E3",
             "startlinecolor": "#2a3f5f"
            },
            "type": "carpet"
           }
          ],
          "choropleth": [
           {
            "colorbar": {
             "outlinewidth": 0,
             "ticks": ""
            },
            "type": "choropleth"
           }
          ],
          "contour": [
           {
            "colorbar": {
             "outlinewidth": 0,
             "ticks": ""
            },
            "colorscale": [
             [
              0,
              "#0d0887"
             ],
             [
              0.1111111111111111,
              "#46039f"
             ],
             [
              0.2222222222222222,
              "#7201a8"
             ],
             [
              0.3333333333333333,
              "#9c179e"
             ],
             [
              0.4444444444444444,
              "#bd3786"
             ],
             [
              0.5555555555555556,
              "#d8576b"
             ],
             [
              0.6666666666666666,
              "#ed7953"
             ],
             [
              0.7777777777777778,
              "#fb9f3a"
             ],
             [
              0.8888888888888888,
              "#fdca26"
             ],
             [
              1,
              "#f0f921"
             ]
            ],
            "type": "contour"
           }
          ],
          "contourcarpet": [
           {
            "colorbar": {
             "outlinewidth": 0,
             "ticks": ""
            },
            "type": "contourcarpet"
           }
          ],
          "heatmap": [
           {
            "colorbar": {
             "outlinewidth": 0,
             "ticks": ""
            },
            "colorscale": [
             [
              0,
              "#0d0887"
             ],
             [
              0.1111111111111111,
              "#46039f"
             ],
             [
              0.2222222222222222,
              "#7201a8"
             ],
             [
              0.3333333333333333,
              "#9c179e"
             ],
             [
              0.4444444444444444,
              "#bd3786"
             ],
             [
              0.5555555555555556,
              "#d8576b"
             ],
             [
              0.6666666666666666,
              "#ed7953"
             ],
             [
              0.7777777777777778,
              "#fb9f3a"
             ],
             [
              0.8888888888888888,
              "#fdca26"
             ],
             [
              1,
              "#f0f921"
             ]
            ],
            "type": "heatmap"
           }
          ],
          "heatmapgl": [
           {
            "colorbar": {
             "outlinewidth": 0,
             "ticks": ""
            },
            "colorscale": [
             [
              0,
              "#0d0887"
             ],
             [
              0.1111111111111111,
              "#46039f"
             ],
             [
              0.2222222222222222,
              "#7201a8"
             ],
             [
              0.3333333333333333,
              "#9c179e"
             ],
             [
              0.4444444444444444,
              "#bd3786"
             ],
             [
              0.5555555555555556,
              "#d8576b"
             ],
             [
              0.6666666666666666,
              "#ed7953"
             ],
             [
              0.7777777777777778,
              "#fb9f3a"
             ],
             [
              0.8888888888888888,
              "#fdca26"
             ],
             [
              1,
              "#f0f921"
             ]
            ],
            "type": "heatmapgl"
           }
          ],
          "histogram": [
           {
            "marker": {
             "pattern": {
              "fillmode": "overlay",
              "size": 10,
              "solidity": 0.2
             }
            },
            "type": "histogram"
           }
          ],
          "histogram2d": [
           {
            "colorbar": {
             "outlinewidth": 0,
             "ticks": ""
            },
            "colorscale": [
             [
              0,
              "#0d0887"
             ],
             [
              0.1111111111111111,
              "#46039f"
             ],
             [
              0.2222222222222222,
              "#7201a8"
             ],
             [
              0.3333333333333333,
              "#9c179e"
             ],
             [
              0.4444444444444444,
              "#bd3786"
             ],
             [
              0.5555555555555556,
              "#d8576b"
             ],
             [
              0.6666666666666666,
              "#ed7953"
             ],
             [
              0.7777777777777778,
              "#fb9f3a"
             ],
             [
              0.8888888888888888,
              "#fdca26"
             ],
             [
              1,
              "#f0f921"
             ]
            ],
            "type": "histogram2d"
           }
          ],
          "histogram2dcontour": [
           {
            "colorbar": {
             "outlinewidth": 0,
             "ticks": ""
            },
            "colorscale": [
             [
              0,
              "#0d0887"
             ],
             [
              0.1111111111111111,
              "#46039f"
             ],
             [
              0.2222222222222222,
              "#7201a8"
             ],
             [
              0.3333333333333333,
              "#9c179e"
             ],
             [
              0.4444444444444444,
              "#bd3786"
             ],
             [
              0.5555555555555556,
              "#d8576b"
             ],
             [
              0.6666666666666666,
              "#ed7953"
             ],
             [
              0.7777777777777778,
              "#fb9f3a"
             ],
             [
              0.8888888888888888,
              "#fdca26"
             ],
             [
              1,
              "#f0f921"
             ]
            ],
            "type": "histogram2dcontour"
           }
          ],
          "mesh3d": [
           {
            "colorbar": {
             "outlinewidth": 0,
             "ticks": ""
            },
            "type": "mesh3d"
           }
          ],
          "parcoords": [
           {
            "line": {
             "colorbar": {
              "outlinewidth": 0,
              "ticks": ""
             }
            },
            "type": "parcoords"
           }
          ],
          "pie": [
           {
            "automargin": true,
            "type": "pie"
           }
          ],
          "scatter": [
           {
            "fillpattern": {
             "fillmode": "overlay",
             "size": 10,
             "solidity": 0.2
            },
            "type": "scatter"
           }
          ],
          "scatter3d": [
           {
            "line": {
             "colorbar": {
              "outlinewidth": 0,
              "ticks": ""
             }
            },
            "marker": {
             "colorbar": {
              "outlinewidth": 0,
              "ticks": ""
             }
            },
            "type": "scatter3d"
           }
          ],
          "scattercarpet": [
           {
            "marker": {
             "colorbar": {
              "outlinewidth": 0,
              "ticks": ""
             }
            },
            "type": "scattercarpet"
           }
          ],
          "scattergeo": [
           {
            "marker": {
             "colorbar": {
              "outlinewidth": 0,
              "ticks": ""
             }
            },
            "type": "scattergeo"
           }
          ],
          "scattergl": [
           {
            "marker": {
             "colorbar": {
              "outlinewidth": 0,
              "ticks": ""
             }
            },
            "type": "scattergl"
           }
          ],
          "scattermapbox": [
           {
            "marker": {
             "colorbar": {
              "outlinewidth": 0,
              "ticks": ""
             }
            },
            "type": "scattermapbox"
           }
          ],
          "scatterpolar": [
           {
            "marker": {
             "colorbar": {
              "outlinewidth": 0,
              "ticks": ""
             }
            },
            "type": "scatterpolar"
           }
          ],
          "scatterpolargl": [
           {
            "marker": {
             "colorbar": {
              "outlinewidth": 0,
              "ticks": ""
             }
            },
            "type": "scatterpolargl"
           }
          ],
          "scatterternary": [
           {
            "marker": {
             "colorbar": {
              "outlinewidth": 0,
              "ticks": ""
             }
            },
            "type": "scatterternary"
           }
          ],
          "surface": [
           {
            "colorbar": {
             "outlinewidth": 0,
             "ticks": ""
            },
            "colorscale": [
             [
              0,
              "#0d0887"
             ],
             [
              0.1111111111111111,
              "#46039f"
             ],
             [
              0.2222222222222222,
              "#7201a8"
             ],
             [
              0.3333333333333333,
              "#9c179e"
             ],
             [
              0.4444444444444444,
              "#bd3786"
             ],
             [
              0.5555555555555556,
              "#d8576b"
             ],
             [
              0.6666666666666666,
              "#ed7953"
             ],
             [
              0.7777777777777778,
              "#fb9f3a"
             ],
             [
              0.8888888888888888,
              "#fdca26"
             ],
             [
              1,
              "#f0f921"
             ]
            ],
            "type": "surface"
           }
          ],
          "table": [
           {
            "cells": {
             "fill": {
              "color": "#EBF0F8"
             },
             "line": {
              "color": "white"
             }
            },
            "header": {
             "fill": {
              "color": "#C8D4E3"
             },
             "line": {
              "color": "white"
             }
            },
            "type": "table"
           }
          ]
         },
         "layout": {
          "annotationdefaults": {
           "arrowcolor": "#2a3f5f",
           "arrowhead": 0,
           "arrowwidth": 1
          },
          "autotypenumbers": "strict",
          "coloraxis": {
           "colorbar": {
            "outlinewidth": 0,
            "ticks": ""
           }
          },
          "colorscale": {
           "diverging": [
            [
             0,
             "#8e0152"
            ],
            [
             0.1,
             "#c51b7d"
            ],
            [
             0.2,
             "#de77ae"
            ],
            [
             0.3,
             "#f1b6da"
            ],
            [
             0.4,
             "#fde0ef"
            ],
            [
             0.5,
             "#f7f7f7"
            ],
            [
             0.6,
             "#e6f5d0"
            ],
            [
             0.7,
             "#b8e186"
            ],
            [
             0.8,
             "#7fbc41"
            ],
            [
             0.9,
             "#4d9221"
            ],
            [
             1,
             "#276419"
            ]
           ],
           "sequential": [
            [
             0,
             "#0d0887"
            ],
            [
             0.1111111111111111,
             "#46039f"
            ],
            [
             0.2222222222222222,
             "#7201a8"
            ],
            [
             0.3333333333333333,
             "#9c179e"
            ],
            [
             0.4444444444444444,
             "#bd3786"
            ],
            [
             0.5555555555555556,
             "#d8576b"
            ],
            [
             0.6666666666666666,
             "#ed7953"
            ],
            [
             0.7777777777777778,
             "#fb9f3a"
            ],
            [
             0.8888888888888888,
             "#fdca26"
            ],
            [
             1,
             "#f0f921"
            ]
           ],
           "sequentialminus": [
            [
             0,
             "#0d0887"
            ],
            [
             0.1111111111111111,
             "#46039f"
            ],
            [
             0.2222222222222222,
             "#7201a8"
            ],
            [
             0.3333333333333333,
             "#9c179e"
            ],
            [
             0.4444444444444444,
             "#bd3786"
            ],
            [
             0.5555555555555556,
             "#d8576b"
            ],
            [
             0.6666666666666666,
             "#ed7953"
            ],
            [
             0.7777777777777778,
             "#fb9f3a"
            ],
            [
             0.8888888888888888,
             "#fdca26"
            ],
            [
             1,
             "#f0f921"
            ]
           ]
          },
          "colorway": [
           "#636efa",
           "#EF553B",
           "#00cc96",
           "#ab63fa",
           "#FFA15A",
           "#19d3f3",
           "#FF6692",
           "#B6E880",
           "#FF97FF",
           "#FECB52"
          ],
          "font": {
           "color": "#2a3f5f"
          },
          "geo": {
           "bgcolor": "white",
           "lakecolor": "white",
           "landcolor": "white",
           "showlakes": true,
           "showland": true,
           "subunitcolor": "#C8D4E3"
          },
          "hoverlabel": {
           "align": "left"
          },
          "hovermode": "closest",
          "mapbox": {
           "style": "light"
          },
          "paper_bgcolor": "white",
          "plot_bgcolor": "white",
          "polar": {
           "angularaxis": {
            "gridcolor": "#EBF0F8",
            "linecolor": "#EBF0F8",
            "ticks": ""
           },
           "bgcolor": "white",
           "radialaxis": {
            "gridcolor": "#EBF0F8",
            "linecolor": "#EBF0F8",
            "ticks": ""
           }
          },
          "scene": {
           "xaxis": {
            "backgroundcolor": "white",
            "gridcolor": "#DFE8F3",
            "gridwidth": 2,
            "linecolor": "#EBF0F8",
            "showbackground": true,
            "ticks": "",
            "zerolinecolor": "#EBF0F8"
           },
           "yaxis": {
            "backgroundcolor": "white",
            "gridcolor": "#DFE8F3",
            "gridwidth": 2,
            "linecolor": "#EBF0F8",
            "showbackground": true,
            "ticks": "",
            "zerolinecolor": "#EBF0F8"
           },
           "zaxis": {
            "backgroundcolor": "white",
            "gridcolor": "#DFE8F3",
            "gridwidth": 2,
            "linecolor": "#EBF0F8",
            "showbackground": true,
            "ticks": "",
            "zerolinecolor": "#EBF0F8"
           }
          },
          "shapedefaults": {
           "line": {
            "color": "#2a3f5f"
           }
          },
          "ternary": {
           "aaxis": {
            "gridcolor": "#DFE8F3",
            "linecolor": "#A2B1C6",
            "ticks": ""
           },
           "baxis": {
            "gridcolor": "#DFE8F3",
            "linecolor": "#A2B1C6",
            "ticks": ""
           },
           "bgcolor": "white",
           "caxis": {
            "gridcolor": "#DFE8F3",
            "linecolor": "#A2B1C6",
            "ticks": ""
           }
          },
          "title": {
           "x": 0.05
          },
          "xaxis": {
           "automargin": true,
           "gridcolor": "#EBF0F8",
           "linecolor": "#EBF0F8",
           "ticks": "",
           "title": {
            "standoff": 15
           },
           "zerolinecolor": "#EBF0F8",
           "zerolinewidth": 2
          },
          "yaxis": {
           "automargin": true,
           "gridcolor": "#EBF0F8",
           "linecolor": "#EBF0F8",
           "ticks": "",
           "title": {
            "standoff": 15
           },
           "zerolinecolor": "#EBF0F8",
           "zerolinewidth": 2
          }
         }
        },
        "xaxis": {
         "anchor": "y",
         "domain": [
          0,
          1
         ],
         "title": {
          "text": "Pais"
         }
        },
        "yaxis": {
         "anchor": "x",
         "domain": [
          0,
          1
         ],
         "title": {
          "text": "Magnitud Inundaciones Promedio"
         }
        }
       }
      }
     },
     "metadata": {},
     "output_type": "display_data"
    }
   ],
   "source": [
    "fig = px.density_heatmap(summary, x = \"Pais\", y=\"Magnitud Inundaciones Promedio\", text_auto = False, z = \"Indice de Siniestralidad\",color_continuous_scale = \"YlOrRd\", template = \"plotly_white\")\n",
    "\n",
    "fig.update_layout( coloraxis_colorbar_title_text = 'Índice Siniestralidad')\n",
    "\n",
    "#fig.write_html(r\"C:\\Users\\abrah\\OneDrive\\Desktop\\casoCAS\\docs\\images\\SiniestralidadVsSeveridad.html\")\n"
   ]
  }
 ],
 "metadata": {
  "kernelspec": {
   "display_name": "base",
   "language": "python",
   "name": "python3"
  },
  "language_info": {
   "codemirror_mode": {
    "name": "ipython",
    "version": 3
   },
   "file_extension": ".py",
   "mimetype": "text/x-python",
   "name": "python",
   "nbconvert_exporter": "python",
   "pygments_lexer": "ipython3",
   "version": "3.11.5"
  }
 },
 "nbformat": 4,
 "nbformat_minor": 2
}
