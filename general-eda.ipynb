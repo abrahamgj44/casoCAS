{
 "cells": [
  {
   "cell_type": "code",
   "execution_count": 2,
   "metadata": {},
   "outputs": [],
   "source": [
    "import polars as pl\n",
    "import plotly.express as px\n",
    "import pandas as pd\n",
    "from polars_visualization import pl_config as config\n",
    "from freqSevEda import FreqSevEDA"
   ]
  },
  {
   "cell_type": "markdown",
   "metadata": {},
   "source": [
    "# Data overview\n",
    "\n",
    "- We have 1580 entries. Grouping by Loc ID and Año Póliza we saw that each policy is annual."
   ]
  },
  {
   "cell_type": "code",
   "execution_count": 4,
   "metadata": {},
   "outputs": [
    {
     "name": "stdout",
     "output_type": "stream",
     "text": [
      "shape: (1_580, 21)\n",
      "| Loc ID | Año Póliza | Exposicion | Suma Asegurada | Prima   | Evento ID | Numero Siniestros | Mes  | Duración de la inundación (día… | Severidad de la inundación (es… | Precipitación (mm) | Incremento del Nivel del Río (… | Monto de siniestro | Latitud | Longitud | Ciudad    | Pais         | Codigo pais | Continente | Sub continente     | Continente intermedio |\n",
      "|--------|------------|------------|----------------|---------|-----------|-------------------|------|---------------------------------|---------------------------------|--------------------|---------------------------------|--------------------|---------|----------|-----------|--------------|-------------|------------|--------------------|-----------------------|\n",
      "| loc001 | 2,014      | 1          | 87,223,100     | 659,145 | null      | 0                 | null | null                            | null                            | null               | null                            | 0                  | -33.907 | 18.416   | Cape Town | South Africa | ZAF         | Africa     | Sub-Saharan Africa | Southern Africa       |\n",
      "| loc001 | 2,015      | 1          | 89,011,170     | 672,330 | null      | 0                 | null | null                            | null                            | null               | null                            | 0                  | -33.907 | 18.416   | Cape Town | South Africa | ZAF         | Africa     | Sub-Saharan Africa | Southern Africa       |\n",
      "| loc001 | 2,016      | 1          | 90,444,250     | 685,780 | null      | 0                 | null | null                            | null                            | null               | null                            | 0                  | -33.907 | 18.416   | Cape Town | South Africa | ZAF         | Africa     | Sub-Saharan Africa | Southern Africa       |\n",
      "| loc001 | 2,017      | 1          | 92,596,820     | 699,500 | null      | 0                 | null | null                            | null                            | null               | null                            | 0                  | -33.907 | 18.416   | Cape Town | South Africa | ZAF         | Africa     | Sub-Saharan Africa | Southern Africa       |\n",
      "| loc001 | 2,018      | 1          | 94,439,500     | 713,490 | null      | 0                 | null | null                            | null                            | null               | null                            | 0                  | -33.907 | 18.416   | Cape Town | South Africa | ZAF         | Africa     | Sub-Saharan Africa | Southern Africa       |\n",
      "| …      | …          | …          | …              | …       | …         | …                 | …    | …                               | …                               | …                  | …                               | …                  | …       | …        | …         | …            | …           | …          | …                  | …                     |\n",
      "| loc200 | 2,019      | 1          | 56,113,940     | 566,220 | null      | 0                 | null | null                            | null                            | null               | null                            | 0                  | -25.887 | 28.128   | unknown   | South Africa | ZAF         | Africa     | Sub-Saharan Africa | Southern Africa       |\n",
      "| loc200 | 2,020      | 1          | 57,283,920     | 577,540 | null      | 0                 | null | null                            | null                            | null               | null                            | 0                  | -25.887 | 28.128   | unknown   | South Africa | ZAF         | Africa     | Sub-Saharan Africa | Southern Africa       |\n",
      "| loc200 | 2,021      | 1          | 58,561,350     | 589,090 | null      | 0                 | null | null                            | null                            | null               | null                            | 0                  | -25.887 | 28.128   | unknown   | South Africa | ZAF         | Africa     | Sub-Saharan Africa | Southern Africa       |\n",
      "| loc200 | 2,022      | 1          | 59,627,170     | 600,870 | null      | 0                 | null | null                            | null                            | null               | null                            | 0                  | -25.887 | 28.128   | unknown   | South Africa | ZAF         | Africa     | Sub-Saharan Africa | Southern Africa       |\n",
      "| loc200 | 2,023      | 1          | 60,825,680     | 612,890 | null      | 0                 | null | null                            | null                            | null               | null                            | 0                  | -25.887 | 28.128   | unknown   | South Africa | ZAF         | Africa     | Sub-Saharan Africa | Southern Africa       |\n"
     ]
    }
   ],
   "source": [
    "path = r\"C:\\Users\\abrah\\OneDrive\\Desktop\\casoCAS\\archivo\\data\\final-dataset.xlsx\"\n",
    "df = pl.read_excel(path)\n",
    "\n",
    "with config():\n",
    "    print(df)"
   ]
  },
  {
   "cell_type": "code",
   "execution_count": 6,
   "metadata": {},
   "outputs": [
    {
     "data": {
      "application/vnd.jupyter.widget-view+json": {
       "model_id": "f4cc2189bc9d4dfd800056d44216b097",
       "version_major": 2,
       "version_minor": 0
      },
      "text/plain": [
       "Dropdown(description='Columns:', options=('-', 'Loc ID', 'Año Póliza', 'Exposicion', 'Suma Asegurada', 'Prima'…"
      ]
     },
     "metadata": {},
     "output_type": "display_data"
    },
    {
     "data": {
      "application/vnd.jupyter.widget-view+json": {
       "model_id": "0797b1356b75438cb989bc75ce6399d0",
       "version_major": 2,
       "version_minor": 0
      },
      "text/plain": [
       "Output()"
      ]
     },
     "metadata": {},
     "output_type": "display_data"
    },
    {
     "data": {
      "application/vnd.plotly.v1+json": {
       "config": {
        "plotlyServerURL": "https://plot.ly"
       },
       "data": [
        {
         "name": "Exposicion",
         "type": "bar",
         "visible": true,
         "x": [
          "Argentina",
          "Australia",
          "Bangladesh",
          "Brazil",
          "Canada",
          "Chile",
          "China",
          "Colombia",
          "Egypt",
          "France",
          "Germany",
          "India",
          "Indonesia",
          "Italy",
          "Japan",
          "Kenya",
          "Mexico",
          "Netherlands",
          "New Zealand",
          "Nigeria",
          "Peru",
          "Philippines",
          "South Africa",
          "Spain",
          "United Kingdom",
          "United States",
          "unknown"
         ],
         "xaxis": "x",
         "y": [
          70,
          170,
          40,
          70,
          60,
          60,
          70,
          50,
          40,
          60,
          30,
          60,
          50,
          60,
          40,
          70,
          70,
          30,
          80,
          60,
          30,
          20,
          80,
          70,
          30,
          90,
          20
         ],
         "yaxis": "y"
        },
        {
         "name": "marginalFreq",
         "type": "scatter",
         "visible": true,
         "x": [
          "Argentina",
          "Australia",
          "Bangladesh",
          "Brazil",
          "Canada",
          "Chile",
          "China",
          "Colombia",
          "Egypt",
          "France",
          "Germany",
          "India",
          "Indonesia",
          "Italy",
          "Japan",
          "Kenya",
          "Mexico",
          "Netherlands",
          "New Zealand",
          "Nigeria",
          "Peru",
          "Philippines",
          "South Africa",
          "Spain",
          "United Kingdom",
          "United States",
          "unknown"
         ],
         "xaxis": "x",
         "y": [
          0.1,
          0.13529411764705881,
          0.1,
          0.1,
          0.15,
          0.1,
          0.1,
          0.1,
          0.1,
          0.1,
          0.2,
          0.1,
          0.1,
          0.1,
          0.1,
          0.2,
          0.1,
          0.1,
          0.1,
          0.15,
          0.16666666666666666,
          0.1,
          0.1,
          0.11428571428571428,
          0.1,
          0.15555555555555556,
          0.1
         ],
         "yaxis": "y2"
        },
        {
         "name": "portFreq",
         "type": "scatter",
         "visible": true,
         "x": [
          "Argentina",
          "Australia",
          "Bangladesh",
          "Brazil",
          "Canada",
          "Chile",
          "China",
          "Colombia",
          "Egypt",
          "France",
          "Germany",
          "India",
          "Indonesia",
          "Italy",
          "Japan",
          "Kenya",
          "Mexico",
          "Netherlands",
          "New Zealand",
          "Nigeria",
          "Peru",
          "Philippines",
          "South Africa",
          "Spain",
          "United Kingdom",
          "United States",
          "unknown"
         ],
         "xaxis": "x",
         "y": [
          0.1189873417721519,
          0.1189873417721519,
          0.1189873417721519,
          0.1189873417721519,
          0.1189873417721519,
          0.1189873417721519,
          0.1189873417721519,
          0.1189873417721519,
          0.1189873417721519,
          0.1189873417721519,
          0.1189873417721519,
          0.1189873417721519,
          0.1189873417721519,
          0.1189873417721519,
          0.1189873417721519,
          0.1189873417721519,
          0.1189873417721519,
          0.1189873417721519,
          0.1189873417721519,
          0.1189873417721519,
          0.1189873417721519,
          0.1189873417721519,
          0.1189873417721519,
          0.1189873417721519,
          0.1189873417721519,
          0.1189873417721519,
          0.1189873417721519
         ],
         "yaxis": "y2"
        },
        {
         "name": "Numero Siniestros",
         "type": "bar",
         "visible": false,
         "x": [
          "Argentina",
          "Australia",
          "Bangladesh",
          "Brazil",
          "Canada",
          "Chile",
          "China",
          "Colombia",
          "Egypt",
          "France",
          "Germany",
          "India",
          "Indonesia",
          "Italy",
          "Japan",
          "Kenya",
          "Mexico",
          "Netherlands",
          "New Zealand",
          "Nigeria",
          "Peru",
          "Philippines",
          "South Africa",
          "Spain",
          "United Kingdom",
          "United States",
          "unknown"
         ],
         "xaxis": "x",
         "y": [
          7,
          23,
          4,
          7,
          9,
          6,
          7,
          5,
          4,
          6,
          6,
          6,
          5,
          6,
          4,
          14,
          7,
          3,
          8,
          9,
          5,
          2,
          8,
          8,
          3,
          14,
          2
         ],
         "yaxis": "y"
        },
        {
         "name": "marginalSeve",
         "type": "scatter",
         "visible": false,
         "x": [
          "Argentina",
          "Australia",
          "Bangladesh",
          "Brazil",
          "Canada",
          "Chile",
          "China",
          "Colombia",
          "Egypt",
          "France",
          "Germany",
          "India",
          "Indonesia",
          "Italy",
          "Japan",
          "Kenya",
          "Mexico",
          "Netherlands",
          "New Zealand",
          "Nigeria",
          "Peru",
          "Philippines",
          "South Africa",
          "Spain",
          "United Kingdom",
          "United States",
          "unknown"
         ],
         "xaxis": "x",
         "y": [
          175714.2857142857,
          486521.73913043475,
          1375000,
          200000,
          578888.8888888889,
          220000,
          1070000,
          320000,
          227500,
          341666.6666666667,
          848333.3333333334,
          1416666.6666666667,
          2100000,
          566666.6666666666,
          1625000,
          111428.57142857143,
          404285.71428571426,
          453333.3333333333,
          210000,
          306666.6666666667,
          338000,
          2250000,
          207500,
          455000,
          1003333.3333333334,
          675000,
          425000
         ],
         "yaxis": "y2"
        },
        {
         "name": "portSeve",
         "type": "scatter",
         "visible": false,
         "x": [
          "Argentina",
          "Australia",
          "Bangladesh",
          "Brazil",
          "Canada",
          "Chile",
          "China",
          "Colombia",
          "Egypt",
          "France",
          "Germany",
          "India",
          "Indonesia",
          "Italy",
          "Japan",
          "Kenya",
          "Mexico",
          "Netherlands",
          "New Zealand",
          "Nigeria",
          "Peru",
          "Philippines",
          "South Africa",
          "Spain",
          "United Kingdom",
          "United States",
          "unknown"
         ],
         "xaxis": "x",
         "y": [
          568510.6382978724,
          568510.6382978724,
          568510.6382978724,
          568510.6382978724,
          568510.6382978724,
          568510.6382978724,
          568510.6382978724,
          568510.6382978724,
          568510.6382978724,
          568510.6382978724,
          568510.6382978724,
          568510.6382978724,
          568510.6382978724,
          568510.6382978724,
          568510.6382978724,
          568510.6382978724,
          568510.6382978724,
          568510.6382978724,
          568510.6382978724,
          568510.6382978724,
          568510.6382978724,
          568510.6382978724,
          568510.6382978724,
          568510.6382978724,
          568510.6382978724,
          568510.6382978724,
          568510.6382978724
         ],
         "yaxis": "y2"
        }
       ],
       "layout": {
        "height": 400,
        "template": {
         "data": {
          "bar": [
           {
            "error_x": {
             "color": "#2a3f5f"
            },
            "error_y": {
             "color": "#2a3f5f"
            },
            "marker": {
             "line": {
              "color": "white",
              "width": 0.5
             },
             "pattern": {
              "fillmode": "overlay",
              "size": 10,
              "solidity": 0.2
             }
            },
            "type": "bar"
           }
          ],
          "barpolar": [
           {
            "marker": {
             "line": {
              "color": "white",
              "width": 0.5
             },
             "pattern": {
              "fillmode": "overlay",
              "size": 10,
              "solidity": 0.2
             }
            },
            "type": "barpolar"
           }
          ],
          "carpet": [
           {
            "aaxis": {
             "endlinecolor": "#2a3f5f",
             "gridcolor": "#C8D4E3",
             "linecolor": "#C8D4E3",
             "minorgridcolor": "#C8D4E3",
             "startlinecolor": "#2a3f5f"
            },
            "baxis": {
             "endlinecolor": "#2a3f5f",
             "gridcolor": "#C8D4E3",
             "linecolor": "#C8D4E3",
             "minorgridcolor": "#C8D4E3",
             "startlinecolor": "#2a3f5f"
            },
            "type": "carpet"
           }
          ],
          "choropleth": [
           {
            "colorbar": {
             "outlinewidth": 0,
             "ticks": ""
            },
            "type": "choropleth"
           }
          ],
          "contour": [
           {
            "colorbar": {
             "outlinewidth": 0,
             "ticks": ""
            },
            "colorscale": [
             [
              0,
              "#0d0887"
             ],
             [
              0.1111111111111111,
              "#46039f"
             ],
             [
              0.2222222222222222,
              "#7201a8"
             ],
             [
              0.3333333333333333,
              "#9c179e"
             ],
             [
              0.4444444444444444,
              "#bd3786"
             ],
             [
              0.5555555555555556,
              "#d8576b"
             ],
             [
              0.6666666666666666,
              "#ed7953"
             ],
             [
              0.7777777777777778,
              "#fb9f3a"
             ],
             [
              0.8888888888888888,
              "#fdca26"
             ],
             [
              1,
              "#f0f921"
             ]
            ],
            "type": "contour"
           }
          ],
          "contourcarpet": [
           {
            "colorbar": {
             "outlinewidth": 0,
             "ticks": ""
            },
            "type": "contourcarpet"
           }
          ],
          "heatmap": [
           {
            "colorbar": {
             "outlinewidth": 0,
             "ticks": ""
            },
            "colorscale": [
             [
              0,
              "#0d0887"
             ],
             [
              0.1111111111111111,
              "#46039f"
             ],
             [
              0.2222222222222222,
              "#7201a8"
             ],
             [
              0.3333333333333333,
              "#9c179e"
             ],
             [
              0.4444444444444444,
              "#bd3786"
             ],
             [
              0.5555555555555556,
              "#d8576b"
             ],
             [
              0.6666666666666666,
              "#ed7953"
             ],
             [
              0.7777777777777778,
              "#fb9f3a"
             ],
             [
              0.8888888888888888,
              "#fdca26"
             ],
             [
              1,
              "#f0f921"
             ]
            ],
            "type": "heatmap"
           }
          ],
          "heatmapgl": [
           {
            "colorbar": {
             "outlinewidth": 0,
             "ticks": ""
            },
            "colorscale": [
             [
              0,
              "#0d0887"
             ],
             [
              0.1111111111111111,
              "#46039f"
             ],
             [
              0.2222222222222222,
              "#7201a8"
             ],
             [
              0.3333333333333333,
              "#9c179e"
             ],
             [
              0.4444444444444444,
              "#bd3786"
             ],
             [
              0.5555555555555556,
              "#d8576b"
             ],
             [
              0.6666666666666666,
              "#ed7953"
             ],
             [
              0.7777777777777778,
              "#fb9f3a"
             ],
             [
              0.8888888888888888,
              "#fdca26"
             ],
             [
              1,
              "#f0f921"
             ]
            ],
            "type": "heatmapgl"
           }
          ],
          "histogram": [
           {
            "marker": {
             "pattern": {
              "fillmode": "overlay",
              "size": 10,
              "solidity": 0.2
             }
            },
            "type": "histogram"
           }
          ],
          "histogram2d": [
           {
            "colorbar": {
             "outlinewidth": 0,
             "ticks": ""
            },
            "colorscale": [
             [
              0,
              "#0d0887"
             ],
             [
              0.1111111111111111,
              "#46039f"
             ],
             [
              0.2222222222222222,
              "#7201a8"
             ],
             [
              0.3333333333333333,
              "#9c179e"
             ],
             [
              0.4444444444444444,
              "#bd3786"
             ],
             [
              0.5555555555555556,
              "#d8576b"
             ],
             [
              0.6666666666666666,
              "#ed7953"
             ],
             [
              0.7777777777777778,
              "#fb9f3a"
             ],
             [
              0.8888888888888888,
              "#fdca26"
             ],
             [
              1,
              "#f0f921"
             ]
            ],
            "type": "histogram2d"
           }
          ],
          "histogram2dcontour": [
           {
            "colorbar": {
             "outlinewidth": 0,
             "ticks": ""
            },
            "colorscale": [
             [
              0,
              "#0d0887"
             ],
             [
              0.1111111111111111,
              "#46039f"
             ],
             [
              0.2222222222222222,
              "#7201a8"
             ],
             [
              0.3333333333333333,
              "#9c179e"
             ],
             [
              0.4444444444444444,
              "#bd3786"
             ],
             [
              0.5555555555555556,
              "#d8576b"
             ],
             [
              0.6666666666666666,
              "#ed7953"
             ],
             [
              0.7777777777777778,
              "#fb9f3a"
             ],
             [
              0.8888888888888888,
              "#fdca26"
             ],
             [
              1,
              "#f0f921"
             ]
            ],
            "type": "histogram2dcontour"
           }
          ],
          "mesh3d": [
           {
            "colorbar": {
             "outlinewidth": 0,
             "ticks": ""
            },
            "type": "mesh3d"
           }
          ],
          "parcoords": [
           {
            "line": {
             "colorbar": {
              "outlinewidth": 0,
              "ticks": ""
             }
            },
            "type": "parcoords"
           }
          ],
          "pie": [
           {
            "automargin": true,
            "type": "pie"
           }
          ],
          "scatter": [
           {
            "fillpattern": {
             "fillmode": "overlay",
             "size": 10,
             "solidity": 0.2
            },
            "type": "scatter"
           }
          ],
          "scatter3d": [
           {
            "line": {
             "colorbar": {
              "outlinewidth": 0,
              "ticks": ""
             }
            },
            "marker": {
             "colorbar": {
              "outlinewidth": 0,
              "ticks": ""
             }
            },
            "type": "scatter3d"
           }
          ],
          "scattercarpet": [
           {
            "marker": {
             "colorbar": {
              "outlinewidth": 0,
              "ticks": ""
             }
            },
            "type": "scattercarpet"
           }
          ],
          "scattergeo": [
           {
            "marker": {
             "colorbar": {
              "outlinewidth": 0,
              "ticks": ""
             }
            },
            "type": "scattergeo"
           }
          ],
          "scattergl": [
           {
            "marker": {
             "colorbar": {
              "outlinewidth": 0,
              "ticks": ""
             }
            },
            "type": "scattergl"
           }
          ],
          "scattermapbox": [
           {
            "marker": {
             "colorbar": {
              "outlinewidth": 0,
              "ticks": ""
             }
            },
            "type": "scattermapbox"
           }
          ],
          "scatterpolar": [
           {
            "marker": {
             "colorbar": {
              "outlinewidth": 0,
              "ticks": ""
             }
            },
            "type": "scatterpolar"
           }
          ],
          "scatterpolargl": [
           {
            "marker": {
             "colorbar": {
              "outlinewidth": 0,
              "ticks": ""
             }
            },
            "type": "scatterpolargl"
           }
          ],
          "scatterternary": [
           {
            "marker": {
             "colorbar": {
              "outlinewidth": 0,
              "ticks": ""
             }
            },
            "type": "scatterternary"
           }
          ],
          "surface": [
           {
            "colorbar": {
             "outlinewidth": 0,
             "ticks": ""
            },
            "colorscale": [
             [
              0,
              "#0d0887"
             ],
             [
              0.1111111111111111,
              "#46039f"
             ],
             [
              0.2222222222222222,
              "#7201a8"
             ],
             [
              0.3333333333333333,
              "#9c179e"
             ],
             [
              0.4444444444444444,
              "#bd3786"
             ],
             [
              0.5555555555555556,
              "#d8576b"
             ],
             [
              0.6666666666666666,
              "#ed7953"
             ],
             [
              0.7777777777777778,
              "#fb9f3a"
             ],
             [
              0.8888888888888888,
              "#fdca26"
             ],
             [
              1,
              "#f0f921"
             ]
            ],
            "type": "surface"
           }
          ],
          "table": [
           {
            "cells": {
             "fill": {
              "color": "#EBF0F8"
             },
             "line": {
              "color": "white"
             }
            },
            "header": {
             "fill": {
              "color": "#C8D4E3"
             },
             "line": {
              "color": "white"
             }
            },
            "type": "table"
           }
          ]
         },
         "layout": {
          "annotationdefaults": {
           "arrowcolor": "#2a3f5f",
           "arrowhead": 0,
           "arrowwidth": 1
          },
          "autotypenumbers": "strict",
          "coloraxis": {
           "colorbar": {
            "outlinewidth": 0,
            "ticks": ""
           }
          },
          "colorscale": {
           "diverging": [
            [
             0,
             "#8e0152"
            ],
            [
             0.1,
             "#c51b7d"
            ],
            [
             0.2,
             "#de77ae"
            ],
            [
             0.3,
             "#f1b6da"
            ],
            [
             0.4,
             "#fde0ef"
            ],
            [
             0.5,
             "#f7f7f7"
            ],
            [
             0.6,
             "#e6f5d0"
            ],
            [
             0.7,
             "#b8e186"
            ],
            [
             0.8,
             "#7fbc41"
            ],
            [
             0.9,
             "#4d9221"
            ],
            [
             1,
             "#276419"
            ]
           ],
           "sequential": [
            [
             0,
             "#0d0887"
            ],
            [
             0.1111111111111111,
             "#46039f"
            ],
            [
             0.2222222222222222,
             "#7201a8"
            ],
            [
             0.3333333333333333,
             "#9c179e"
            ],
            [
             0.4444444444444444,
             "#bd3786"
            ],
            [
             0.5555555555555556,
             "#d8576b"
            ],
            [
             0.6666666666666666,
             "#ed7953"
            ],
            [
             0.7777777777777778,
             "#fb9f3a"
            ],
            [
             0.8888888888888888,
             "#fdca26"
            ],
            [
             1,
             "#f0f921"
            ]
           ],
           "sequentialminus": [
            [
             0,
             "#0d0887"
            ],
            [
             0.1111111111111111,
             "#46039f"
            ],
            [
             0.2222222222222222,
             "#7201a8"
            ],
            [
             0.3333333333333333,
             "#9c179e"
            ],
            [
             0.4444444444444444,
             "#bd3786"
            ],
            [
             0.5555555555555556,
             "#d8576b"
            ],
            [
             0.6666666666666666,
             "#ed7953"
            ],
            [
             0.7777777777777778,
             "#fb9f3a"
            ],
            [
             0.8888888888888888,
             "#fdca26"
            ],
            [
             1,
             "#f0f921"
            ]
           ]
          },
          "colorway": [
           "#636efa",
           "#EF553B",
           "#00cc96",
           "#ab63fa",
           "#FFA15A",
           "#19d3f3",
           "#FF6692",
           "#B6E880",
           "#FF97FF",
           "#FECB52"
          ],
          "font": {
           "color": "#2a3f5f"
          },
          "geo": {
           "bgcolor": "white",
           "lakecolor": "white",
           "landcolor": "white",
           "showlakes": true,
           "showland": true,
           "subunitcolor": "#C8D4E3"
          },
          "hoverlabel": {
           "align": "left"
          },
          "hovermode": "closest",
          "mapbox": {
           "style": "light"
          },
          "paper_bgcolor": "white",
          "plot_bgcolor": "white",
          "polar": {
           "angularaxis": {
            "gridcolor": "#EBF0F8",
            "linecolor": "#EBF0F8",
            "ticks": ""
           },
           "bgcolor": "white",
           "radialaxis": {
            "gridcolor": "#EBF0F8",
            "linecolor": "#EBF0F8",
            "ticks": ""
           }
          },
          "scene": {
           "xaxis": {
            "backgroundcolor": "white",
            "gridcolor": "#DFE8F3",
            "gridwidth": 2,
            "linecolor": "#EBF0F8",
            "showbackground": true,
            "ticks": "",
            "zerolinecolor": "#EBF0F8"
           },
           "yaxis": {
            "backgroundcolor": "white",
            "gridcolor": "#DFE8F3",
            "gridwidth": 2,
            "linecolor": "#EBF0F8",
            "showbackground": true,
            "ticks": "",
            "zerolinecolor": "#EBF0F8"
           },
           "zaxis": {
            "backgroundcolor": "white",
            "gridcolor": "#DFE8F3",
            "gridwidth": 2,
            "linecolor": "#EBF0F8",
            "showbackground": true,
            "ticks": "",
            "zerolinecolor": "#EBF0F8"
           }
          },
          "shapedefaults": {
           "line": {
            "color": "#2a3f5f"
           }
          },
          "ternary": {
           "aaxis": {
            "gridcolor": "#DFE8F3",
            "linecolor": "#A2B1C6",
            "ticks": ""
           },
           "baxis": {
            "gridcolor": "#DFE8F3",
            "linecolor": "#A2B1C6",
            "ticks": ""
           },
           "bgcolor": "white",
           "caxis": {
            "gridcolor": "#DFE8F3",
            "linecolor": "#A2B1C6",
            "ticks": ""
           }
          },
          "title": {
           "x": 0.05
          },
          "xaxis": {
           "automargin": true,
           "gridcolor": "#EBF0F8",
           "linecolor": "#EBF0F8",
           "ticks": "",
           "title": {
            "standoff": 15
           },
           "zerolinecolor": "#EBF0F8",
           "zerolinewidth": 2
          },
          "yaxis": {
           "automargin": true,
           "gridcolor": "#EBF0F8",
           "linecolor": "#EBF0F8",
           "ticks": "",
           "title": {
            "standoff": 15
           },
           "zerolinecolor": "#EBF0F8",
           "zerolinewidth": 2
          }
         }
        },
        "title": {
         "font": {
          "size": 30
         },
         "text": "marginalFreq vs Exposure"
        },
        "updatemenus": [
         {
          "buttons": [
           {
            "args": [
             {
              "visible": [
               true,
               true,
               true,
               false,
               false,
               false
              ]
             },
             {
              "title": {
               "font": {
                "size": 30
               },
               "text": "marginalFreq vs Exposure"
              },
              "yaxis": {
               "title": {
                "side": "left",
                "text": "Exposicion"
               }
              },
              "yaxis2": {
               "overlaying": "y",
               "side": "right",
               "tickmode": "sync",
               "title": {
                "text": "marginalFreq"
               }
              }
             }
            ],
            "label": "marginalFreq",
            "method": "update"
           },
           {
            "args": [
             {
              "visible": [
               false,
               false,
               false,
               true,
               true,
               true
              ]
             },
             {
              "title": {
               "font": {
                "size": 30
               },
               "text": "marginalSeve vs Claim Number"
              },
              "yaxis": {
               "title": {
                "side": "left",
                "text": "Numero Siniestros"
               }
              },
              "yaxis2": {
               "overlaying": "y",
               "side": "right",
               "tickmode": "sync",
               "title": {
                "text": "marginalSeve"
               }
              }
             }
            ],
            "label": "marginalSeve",
            "method": "update"
           }
          ],
          "type": "buttons",
          "x": 1.4,
          "y": 0.5
         }
        ],
        "xaxis": {
         "anchor": "y",
         "domain": [
          0,
          0.94
         ]
        },
        "yaxis": {
         "anchor": "x",
         "domain": [
          0,
          1
         ],
         "side": "left",
         "title": {
          "text": "Exposicion"
         }
        },
        "yaxis2": {
         "anchor": "x",
         "overlaying": "y",
         "side": "right",
         "title": {
          "text": "marginalFreq"
         }
        }
       }
      }
     },
     "metadata": {},
     "output_type": "display_data"
    },
    {
     "data": {
      "application/vnd.plotly.v1+json": {
       "config": {
        "plotlyServerURL": "https://plot.ly"
       },
       "data": [
        {
         "name": "Exposicion",
         "type": "bar",
         "visible": true,
         "x": [
          "Abuja",
          "Adelaide",
          "Amsterdam",
          "Auckland",
          "Barcelona",
          "Berlin",
          "Bogotá",
          "Bologna",
          "Brisbane City",
          "Buenos Aires",
          "Burnaby",
          "Canberra",
          "Cape Town",
          "City of Westminster",
          "Ciudad de México",
          "Concepción",
          "Córdoba",
          "Daerah Khusus ibukota Jakarta",
          "Dhaka",
          "Dongcheng",
          "El cairo",
          "Guadalajara",
          "Gurgaon",
          "Houston",
          "Lagos",
          "Lima Metropolitana",
          "Lo Barnechea",
          "London",
          "Lower Hutt",
          "Lyon",
          "Madrid",
          "Makati",
          "Maungakiekie-Tāmaki",
          "Melbourne",
          "Miami",
          "Mombasa",
          "Mumbai City",
          "Mumbai Suburban",
          "Nairobi",
          "New Orleans",
          "Old Toronto",
          "Osaka",
          "Paris",
          "Pasay",
          "Pekin",
          "Perth",
          "Perímetro Urbano Medellín",
          "Rio de Janeiro",
          "Roma",
          "Sandton",
          "Sheikh Zayed",
          "Surabaya",
          "Sydney",
          "São Paulo",
          "Tokio",
          "Toronto",
          "Tudor ward",
          "Upper Harbour",
          "Valparaíso",
          "Vancouver",
          "Viña del Mar",
          "Wellington",
          "Wuham",
          "Wuhan",
          "Yaguas",
          "Zapopan",
          "unknown",
          "Ōrākei"
         ],
         "xaxis": "x",
         "y": [
          30,
          30,
          30,
          10,
          20,
          30,
          30,
          10,
          10,
          40,
          10,
          10,
          20,
          10,
          30,
          10,
          30,
          20,
          30,
          20,
          20,
          20,
          10,
          20,
          10,
          20,
          10,
          20,
          10,
          30,
          30,
          10,
          10,
          20,
          10,
          20,
          10,
          30,
          40,
          20,
          10,
          20,
          20,
          10,
          20,
          10,
          20,
          40,
          40,
          10,
          10,
          30,
          20,
          30,
          20,
          20,
          10,
          10,
          10,
          20,
          10,
          30,
          10,
          20,
          10,
          20,
          290,
          10
         ],
         "yaxis": "y"
        },
        {
         "name": "marginalFreq",
         "type": "scatter",
         "visible": true,
         "x": [
          "Abuja",
          "Adelaide",
          "Amsterdam",
          "Auckland",
          "Barcelona",
          "Berlin",
          "Bogotá",
          "Bologna",
          "Brisbane City",
          "Buenos Aires",
          "Burnaby",
          "Canberra",
          "Cape Town",
          "City of Westminster",
          "Ciudad de México",
          "Concepción",
          "Córdoba",
          "Daerah Khusus ibukota Jakarta",
          "Dhaka",
          "Dongcheng",
          "El cairo",
          "Guadalajara",
          "Gurgaon",
          "Houston",
          "Lagos",
          "Lima Metropolitana",
          "Lo Barnechea",
          "London",
          "Lower Hutt",
          "Lyon",
          "Madrid",
          "Makati",
          "Maungakiekie-Tāmaki",
          "Melbourne",
          "Miami",
          "Mombasa",
          "Mumbai City",
          "Mumbai Suburban",
          "Nairobi",
          "New Orleans",
          "Old Toronto",
          "Osaka",
          "Paris",
          "Pasay",
          "Pekin",
          "Perth",
          "Perímetro Urbano Medellín",
          "Rio de Janeiro",
          "Roma",
          "Sandton",
          "Sheikh Zayed",
          "Surabaya",
          "Sydney",
          "São Paulo",
          "Tokio",
          "Toronto",
          "Tudor ward",
          "Upper Harbour",
          "Valparaíso",
          "Vancouver",
          "Viña del Mar",
          "Wellington",
          "Wuham",
          "Wuhan",
          "Yaguas",
          "Zapopan",
          "unknown",
          "Ōrākei"
         ],
         "xaxis": "x",
         "y": [
          0.1,
          0.1,
          0.1,
          0.1,
          0.1,
          0.2,
          0.1,
          0.1,
          0.1,
          0.1,
          0.1,
          0.1,
          0.1,
          0.1,
          0.1,
          0.1,
          0.1,
          0.1,
          0.1,
          0.1,
          0.1,
          0.1,
          0.1,
          0.2,
          0.2,
          0.2,
          0.1,
          0.1,
          0.1,
          0.1,
          0.1,
          0.1,
          0.1,
          0.2,
          0.2,
          0.2,
          0.1,
          0.1,
          0.2,
          0.1,
          0.2,
          0.1,
          0.1,
          0.1,
          0.1,
          0.2,
          0.1,
          0.1,
          0.1,
          0.1,
          0.1,
          0.1,
          0.1,
          0.1,
          0.1,
          0.2,
          0.2,
          0.1,
          0.1,
          0.1,
          0.1,
          0.1,
          0.1,
          0.1,
          0.1,
          0.1,
          0.12758620689655173,
          0.1
         ],
         "yaxis": "y2"
        },
        {
         "name": "portFreq",
         "type": "scatter",
         "visible": true,
         "x": [
          "Abuja",
          "Adelaide",
          "Amsterdam",
          "Auckland",
          "Barcelona",
          "Berlin",
          "Bogotá",
          "Bologna",
          "Brisbane City",
          "Buenos Aires",
          "Burnaby",
          "Canberra",
          "Cape Town",
          "City of Westminster",
          "Ciudad de México",
          "Concepción",
          "Córdoba",
          "Daerah Khusus ibukota Jakarta",
          "Dhaka",
          "Dongcheng",
          "El cairo",
          "Guadalajara",
          "Gurgaon",
          "Houston",
          "Lagos",
          "Lima Metropolitana",
          "Lo Barnechea",
          "London",
          "Lower Hutt",
          "Lyon",
          "Madrid",
          "Makati",
          "Maungakiekie-Tāmaki",
          "Melbourne",
          "Miami",
          "Mombasa",
          "Mumbai City",
          "Mumbai Suburban",
          "Nairobi",
          "New Orleans",
          "Old Toronto",
          "Osaka",
          "Paris",
          "Pasay",
          "Pekin",
          "Perth",
          "Perímetro Urbano Medellín",
          "Rio de Janeiro",
          "Roma",
          "Sandton",
          "Sheikh Zayed",
          "Surabaya",
          "Sydney",
          "São Paulo",
          "Tokio",
          "Toronto",
          "Tudor ward",
          "Upper Harbour",
          "Valparaíso",
          "Vancouver",
          "Viña del Mar",
          "Wellington",
          "Wuham",
          "Wuhan",
          "Yaguas",
          "Zapopan",
          "unknown",
          "Ōrākei"
         ],
         "xaxis": "x",
         "y": [
          0.1189873417721519,
          0.1189873417721519,
          0.1189873417721519,
          0.1189873417721519,
          0.1189873417721519,
          0.1189873417721519,
          0.1189873417721519,
          0.1189873417721519,
          0.1189873417721519,
          0.1189873417721519,
          0.1189873417721519,
          0.1189873417721519,
          0.1189873417721519,
          0.1189873417721519,
          0.1189873417721519,
          0.1189873417721519,
          0.1189873417721519,
          0.1189873417721519,
          0.1189873417721519,
          0.1189873417721519,
          0.1189873417721519,
          0.1189873417721519,
          0.1189873417721519,
          0.1189873417721519,
          0.1189873417721519,
          0.1189873417721519,
          0.1189873417721519,
          0.1189873417721519,
          0.1189873417721519,
          0.1189873417721519,
          0.1189873417721519,
          0.1189873417721519,
          0.1189873417721519,
          0.1189873417721519,
          0.1189873417721519,
          0.1189873417721519,
          0.1189873417721519,
          0.1189873417721519,
          0.1189873417721519,
          0.1189873417721519,
          0.1189873417721519,
          0.1189873417721519,
          0.1189873417721519,
          0.1189873417721519,
          0.1189873417721519,
          0.1189873417721519,
          0.1189873417721519,
          0.1189873417721519,
          0.1189873417721519,
          0.1189873417721519,
          0.1189873417721519,
          0.1189873417721519,
          0.1189873417721519,
          0.1189873417721519,
          0.1189873417721519,
          0.1189873417721519,
          0.1189873417721519,
          0.1189873417721519,
          0.1189873417721519,
          0.1189873417721519,
          0.1189873417721519,
          0.1189873417721519,
          0.1189873417721519,
          0.1189873417721519,
          0.1189873417721519,
          0.1189873417721519,
          0.1189873417721519,
          0.1189873417721519
         ],
         "yaxis": "y2"
        },
        {
         "name": "Numero Siniestros",
         "type": "bar",
         "visible": false,
         "x": [
          "Abuja",
          "Adelaide",
          "Amsterdam",
          "Auckland",
          "Barcelona",
          "Berlin",
          "Bogotá",
          "Bologna",
          "Brisbane City",
          "Buenos Aires",
          "Burnaby",
          "Canberra",
          "Cape Town",
          "City of Westminster",
          "Ciudad de México",
          "Concepción",
          "Córdoba",
          "Daerah Khusus ibukota Jakarta",
          "Dhaka",
          "Dongcheng",
          "El cairo",
          "Guadalajara",
          "Gurgaon",
          "Houston",
          "Lagos",
          "Lima Metropolitana",
          "Lo Barnechea",
          "London",
          "Lower Hutt",
          "Lyon",
          "Madrid",
          "Makati",
          "Maungakiekie-Tāmaki",
          "Melbourne",
          "Miami",
          "Mombasa",
          "Mumbai City",
          "Mumbai Suburban",
          "Nairobi",
          "New Orleans",
          "Old Toronto",
          "Osaka",
          "Paris",
          "Pasay",
          "Pekin",
          "Perth",
          "Perímetro Urbano Medellín",
          "Rio de Janeiro",
          "Roma",
          "Sandton",
          "Sheikh Zayed",
          "Surabaya",
          "Sydney",
          "São Paulo",
          "Tokio",
          "Toronto",
          "Tudor ward",
          "Upper Harbour",
          "Valparaíso",
          "Vancouver",
          "Viña del Mar",
          "Wellington",
          "Wuham",
          "Wuhan",
          "Yaguas",
          "Zapopan",
          "unknown",
          "Ōrākei"
         ],
         "xaxis": "x",
         "y": [
          3,
          3,
          3,
          1,
          2,
          6,
          3,
          1,
          1,
          4,
          1,
          1,
          2,
          1,
          3,
          1,
          3,
          2,
          3,
          2,
          2,
          2,
          1,
          4,
          2,
          4,
          1,
          2,
          1,
          3,
          3,
          1,
          1,
          4,
          2,
          4,
          1,
          3,
          8,
          2,
          2,
          2,
          2,
          1,
          2,
          2,
          2,
          4,
          4,
          1,
          1,
          3,
          2,
          3,
          2,
          4,
          2,
          1,
          1,
          2,
          1,
          3,
          1,
          2,
          1,
          2,
          37,
          1
         ],
         "yaxis": "y"
        },
        {
         "name": "marginalSeve",
         "type": "scatter",
         "visible": false,
         "x": [
          "Abuja",
          "Adelaide",
          "Amsterdam",
          "Auckland",
          "Barcelona",
          "Berlin",
          "Bogotá",
          "Bologna",
          "Brisbane City",
          "Buenos Aires",
          "Burnaby",
          "Canberra",
          "Cape Town",
          "City of Westminster",
          "Ciudad de México",
          "Concepción",
          "Córdoba",
          "Daerah Khusus ibukota Jakarta",
          "Dhaka",
          "Dongcheng",
          "El cairo",
          "Guadalajara",
          "Gurgaon",
          "Houston",
          "Lagos",
          "Lima Metropolitana",
          "Lo Barnechea",
          "London",
          "Lower Hutt",
          "Lyon",
          "Madrid",
          "Makati",
          "Maungakiekie-Tāmaki",
          "Melbourne",
          "Miami",
          "Mombasa",
          "Mumbai City",
          "Mumbai Suburban",
          "Nairobi",
          "New Orleans",
          "Old Toronto",
          "Osaka",
          "Paris",
          "Pasay",
          "Pekin",
          "Perth",
          "Perímetro Urbano Medellín",
          "Rio de Janeiro",
          "Roma",
          "Sandton",
          "Sheikh Zayed",
          "Surabaya",
          "Sydney",
          "São Paulo",
          "Tokio",
          "Toronto",
          "Tudor ward",
          "Upper Harbour",
          "Valparaíso",
          "Vancouver",
          "Viña del Mar",
          "Wellington",
          "Wuham",
          "Wuhan",
          "Yaguas",
          "Zapopan",
          "unknown",
          "Ōrākei"
         ],
         "xaxis": "x",
         "y": [
          370000,
          170000,
          453333.3333333333,
          470000,
          1000000,
          848333.3333333334,
          266666.6666666667,
          280000,
          290000,
          77500,
          600000,
          530000,
          300000,
          1540000,
          476666.6666666667,
          350000,
          306666.6666666667,
          2500000,
          1170000,
          1285000,
          185000,
          360000,
          2510000,
          600000,
          210000,
          400000,
          90000,
          735000,
          260000,
          376666.6666666667,
          480000,
          2150000,
          80000,
          762500,
          1150000,
          45000,
          900000,
          866666.6666666666,
          150000,
          285000,
          615000,
          2000000,
          375000,
          2350000,
          715000,
          100000,
          400000,
          200000,
          300000,
          70000,
          250000,
          1833333.3333333333,
          1000000,
          200000,
          1250000,
          545000,
          90000,
          200000,
          370000,
          600000,
          380000,
          190000,
          1010000,
          1240000,
          90000,
          340000,
          514864.86486486485,
          100000
         ],
         "yaxis": "y2"
        },
        {
         "name": "portSeve",
         "type": "scatter",
         "visible": false,
         "x": [
          "Abuja",
          "Adelaide",
          "Amsterdam",
          "Auckland",
          "Barcelona",
          "Berlin",
          "Bogotá",
          "Bologna",
          "Brisbane City",
          "Buenos Aires",
          "Burnaby",
          "Canberra",
          "Cape Town",
          "City of Westminster",
          "Ciudad de México",
          "Concepción",
          "Córdoba",
          "Daerah Khusus ibukota Jakarta",
          "Dhaka",
          "Dongcheng",
          "El cairo",
          "Guadalajara",
          "Gurgaon",
          "Houston",
          "Lagos",
          "Lima Metropolitana",
          "Lo Barnechea",
          "London",
          "Lower Hutt",
          "Lyon",
          "Madrid",
          "Makati",
          "Maungakiekie-Tāmaki",
          "Melbourne",
          "Miami",
          "Mombasa",
          "Mumbai City",
          "Mumbai Suburban",
          "Nairobi",
          "New Orleans",
          "Old Toronto",
          "Osaka",
          "Paris",
          "Pasay",
          "Pekin",
          "Perth",
          "Perímetro Urbano Medellín",
          "Rio de Janeiro",
          "Roma",
          "Sandton",
          "Sheikh Zayed",
          "Surabaya",
          "Sydney",
          "São Paulo",
          "Tokio",
          "Toronto",
          "Tudor ward",
          "Upper Harbour",
          "Valparaíso",
          "Vancouver",
          "Viña del Mar",
          "Wellington",
          "Wuham",
          "Wuhan",
          "Yaguas",
          "Zapopan",
          "unknown",
          "Ōrākei"
         ],
         "xaxis": "x",
         "y": [
          568510.6382978724,
          568510.6382978724,
          568510.6382978724,
          568510.6382978724,
          568510.6382978724,
          568510.6382978724,
          568510.6382978724,
          568510.6382978724,
          568510.6382978724,
          568510.6382978724,
          568510.6382978724,
          568510.6382978724,
          568510.6382978724,
          568510.6382978724,
          568510.6382978724,
          568510.6382978724,
          568510.6382978724,
          568510.6382978724,
          568510.6382978724,
          568510.6382978724,
          568510.6382978724,
          568510.6382978724,
          568510.6382978724,
          568510.6382978724,
          568510.6382978724,
          568510.6382978724,
          568510.6382978724,
          568510.6382978724,
          568510.6382978724,
          568510.6382978724,
          568510.6382978724,
          568510.6382978724,
          568510.6382978724,
          568510.6382978724,
          568510.6382978724,
          568510.6382978724,
          568510.6382978724,
          568510.6382978724,
          568510.6382978724,
          568510.6382978724,
          568510.6382978724,
          568510.6382978724,
          568510.6382978724,
          568510.6382978724,
          568510.6382978724,
          568510.6382978724,
          568510.6382978724,
          568510.6382978724,
          568510.6382978724,
          568510.6382978724,
          568510.6382978724,
          568510.6382978724,
          568510.6382978724,
          568510.6382978724,
          568510.6382978724,
          568510.6382978724,
          568510.6382978724,
          568510.6382978724,
          568510.6382978724,
          568510.6382978724,
          568510.6382978724,
          568510.6382978724,
          568510.6382978724,
          568510.6382978724,
          568510.6382978724,
          568510.6382978724,
          568510.6382978724,
          568510.6382978724
         ],
         "yaxis": "y2"
        }
       ],
       "layout": {
        "height": 400,
        "template": {
         "data": {
          "bar": [
           {
            "error_x": {
             "color": "#2a3f5f"
            },
            "error_y": {
             "color": "#2a3f5f"
            },
            "marker": {
             "line": {
              "color": "white",
              "width": 0.5
             },
             "pattern": {
              "fillmode": "overlay",
              "size": 10,
              "solidity": 0.2
             }
            },
            "type": "bar"
           }
          ],
          "barpolar": [
           {
            "marker": {
             "line": {
              "color": "white",
              "width": 0.5
             },
             "pattern": {
              "fillmode": "overlay",
              "size": 10,
              "solidity": 0.2
             }
            },
            "type": "barpolar"
           }
          ],
          "carpet": [
           {
            "aaxis": {
             "endlinecolor": "#2a3f5f",
             "gridcolor": "#C8D4E3",
             "linecolor": "#C8D4E3",
             "minorgridcolor": "#C8D4E3",
             "startlinecolor": "#2a3f5f"
            },
            "baxis": {
             "endlinecolor": "#2a3f5f",
             "gridcolor": "#C8D4E3",
             "linecolor": "#C8D4E3",
             "minorgridcolor": "#C8D4E3",
             "startlinecolor": "#2a3f5f"
            },
            "type": "carpet"
           }
          ],
          "choropleth": [
           {
            "colorbar": {
             "outlinewidth": 0,
             "ticks": ""
            },
            "type": "choropleth"
           }
          ],
          "contour": [
           {
            "colorbar": {
             "outlinewidth": 0,
             "ticks": ""
            },
            "colorscale": [
             [
              0,
              "#0d0887"
             ],
             [
              0.1111111111111111,
              "#46039f"
             ],
             [
              0.2222222222222222,
              "#7201a8"
             ],
             [
              0.3333333333333333,
              "#9c179e"
             ],
             [
              0.4444444444444444,
              "#bd3786"
             ],
             [
              0.5555555555555556,
              "#d8576b"
             ],
             [
              0.6666666666666666,
              "#ed7953"
             ],
             [
              0.7777777777777778,
              "#fb9f3a"
             ],
             [
              0.8888888888888888,
              "#fdca26"
             ],
             [
              1,
              "#f0f921"
             ]
            ],
            "type": "contour"
           }
          ],
          "contourcarpet": [
           {
            "colorbar": {
             "outlinewidth": 0,
             "ticks": ""
            },
            "type": "contourcarpet"
           }
          ],
          "heatmap": [
           {
            "colorbar": {
             "outlinewidth": 0,
             "ticks": ""
            },
            "colorscale": [
             [
              0,
              "#0d0887"
             ],
             [
              0.1111111111111111,
              "#46039f"
             ],
             [
              0.2222222222222222,
              "#7201a8"
             ],
             [
              0.3333333333333333,
              "#9c179e"
             ],
             [
              0.4444444444444444,
              "#bd3786"
             ],
             [
              0.5555555555555556,
              "#d8576b"
             ],
             [
              0.6666666666666666,
              "#ed7953"
             ],
             [
              0.7777777777777778,
              "#fb9f3a"
             ],
             [
              0.8888888888888888,
              "#fdca26"
             ],
             [
              1,
              "#f0f921"
             ]
            ],
            "type": "heatmap"
           }
          ],
          "heatmapgl": [
           {
            "colorbar": {
             "outlinewidth": 0,
             "ticks": ""
            },
            "colorscale": [
             [
              0,
              "#0d0887"
             ],
             [
              0.1111111111111111,
              "#46039f"
             ],
             [
              0.2222222222222222,
              "#7201a8"
             ],
             [
              0.3333333333333333,
              "#9c179e"
             ],
             [
              0.4444444444444444,
              "#bd3786"
             ],
             [
              0.5555555555555556,
              "#d8576b"
             ],
             [
              0.6666666666666666,
              "#ed7953"
             ],
             [
              0.7777777777777778,
              "#fb9f3a"
             ],
             [
              0.8888888888888888,
              "#fdca26"
             ],
             [
              1,
              "#f0f921"
             ]
            ],
            "type": "heatmapgl"
           }
          ],
          "histogram": [
           {
            "marker": {
             "pattern": {
              "fillmode": "overlay",
              "size": 10,
              "solidity": 0.2
             }
            },
            "type": "histogram"
           }
          ],
          "histogram2d": [
           {
            "colorbar": {
             "outlinewidth": 0,
             "ticks": ""
            },
            "colorscale": [
             [
              0,
              "#0d0887"
             ],
             [
              0.1111111111111111,
              "#46039f"
             ],
             [
              0.2222222222222222,
              "#7201a8"
             ],
             [
              0.3333333333333333,
              "#9c179e"
             ],
             [
              0.4444444444444444,
              "#bd3786"
             ],
             [
              0.5555555555555556,
              "#d8576b"
             ],
             [
              0.6666666666666666,
              "#ed7953"
             ],
             [
              0.7777777777777778,
              "#fb9f3a"
             ],
             [
              0.8888888888888888,
              "#fdca26"
             ],
             [
              1,
              "#f0f921"
             ]
            ],
            "type": "histogram2d"
           }
          ],
          "histogram2dcontour": [
           {
            "colorbar": {
             "outlinewidth": 0,
             "ticks": ""
            },
            "colorscale": [
             [
              0,
              "#0d0887"
             ],
             [
              0.1111111111111111,
              "#46039f"
             ],
             [
              0.2222222222222222,
              "#7201a8"
             ],
             [
              0.3333333333333333,
              "#9c179e"
             ],
             [
              0.4444444444444444,
              "#bd3786"
             ],
             [
              0.5555555555555556,
              "#d8576b"
             ],
             [
              0.6666666666666666,
              "#ed7953"
             ],
             [
              0.7777777777777778,
              "#fb9f3a"
             ],
             [
              0.8888888888888888,
              "#fdca26"
             ],
             [
              1,
              "#f0f921"
             ]
            ],
            "type": "histogram2dcontour"
           }
          ],
          "mesh3d": [
           {
            "colorbar": {
             "outlinewidth": 0,
             "ticks": ""
            },
            "type": "mesh3d"
           }
          ],
          "parcoords": [
           {
            "line": {
             "colorbar": {
              "outlinewidth": 0,
              "ticks": ""
             }
            },
            "type": "parcoords"
           }
          ],
          "pie": [
           {
            "automargin": true,
            "type": "pie"
           }
          ],
          "scatter": [
           {
            "fillpattern": {
             "fillmode": "overlay",
             "size": 10,
             "solidity": 0.2
            },
            "type": "scatter"
           }
          ],
          "scatter3d": [
           {
            "line": {
             "colorbar": {
              "outlinewidth": 0,
              "ticks": ""
             }
            },
            "marker": {
             "colorbar": {
              "outlinewidth": 0,
              "ticks": ""
             }
            },
            "type": "scatter3d"
           }
          ],
          "scattercarpet": [
           {
            "marker": {
             "colorbar": {
              "outlinewidth": 0,
              "ticks": ""
             }
            },
            "type": "scattercarpet"
           }
          ],
          "scattergeo": [
           {
            "marker": {
             "colorbar": {
              "outlinewidth": 0,
              "ticks": ""
             }
            },
            "type": "scattergeo"
           }
          ],
          "scattergl": [
           {
            "marker": {
             "colorbar": {
              "outlinewidth": 0,
              "ticks": ""
             }
            },
            "type": "scattergl"
           }
          ],
          "scattermapbox": [
           {
            "marker": {
             "colorbar": {
              "outlinewidth": 0,
              "ticks": ""
             }
            },
            "type": "scattermapbox"
           }
          ],
          "scatterpolar": [
           {
            "marker": {
             "colorbar": {
              "outlinewidth": 0,
              "ticks": ""
             }
            },
            "type": "scatterpolar"
           }
          ],
          "scatterpolargl": [
           {
            "marker": {
             "colorbar": {
              "outlinewidth": 0,
              "ticks": ""
             }
            },
            "type": "scatterpolargl"
           }
          ],
          "scatterternary": [
           {
            "marker": {
             "colorbar": {
              "outlinewidth": 0,
              "ticks": ""
             }
            },
            "type": "scatterternary"
           }
          ],
          "surface": [
           {
            "colorbar": {
             "outlinewidth": 0,
             "ticks": ""
            },
            "colorscale": [
             [
              0,
              "#0d0887"
             ],
             [
              0.1111111111111111,
              "#46039f"
             ],
             [
              0.2222222222222222,
              "#7201a8"
             ],
             [
              0.3333333333333333,
              "#9c179e"
             ],
             [
              0.4444444444444444,
              "#bd3786"
             ],
             [
              0.5555555555555556,
              "#d8576b"
             ],
             [
              0.6666666666666666,
              "#ed7953"
             ],
             [
              0.7777777777777778,
              "#fb9f3a"
             ],
             [
              0.8888888888888888,
              "#fdca26"
             ],
             [
              1,
              "#f0f921"
             ]
            ],
            "type": "surface"
           }
          ],
          "table": [
           {
            "cells": {
             "fill": {
              "color": "#EBF0F8"
             },
             "line": {
              "color": "white"
             }
            },
            "header": {
             "fill": {
              "color": "#C8D4E3"
             },
             "line": {
              "color": "white"
             }
            },
            "type": "table"
           }
          ]
         },
         "layout": {
          "annotationdefaults": {
           "arrowcolor": "#2a3f5f",
           "arrowhead": 0,
           "arrowwidth": 1
          },
          "autotypenumbers": "strict",
          "coloraxis": {
           "colorbar": {
            "outlinewidth": 0,
            "ticks": ""
           }
          },
          "colorscale": {
           "diverging": [
            [
             0,
             "#8e0152"
            ],
            [
             0.1,
             "#c51b7d"
            ],
            [
             0.2,
             "#de77ae"
            ],
            [
             0.3,
             "#f1b6da"
            ],
            [
             0.4,
             "#fde0ef"
            ],
            [
             0.5,
             "#f7f7f7"
            ],
            [
             0.6,
             "#e6f5d0"
            ],
            [
             0.7,
             "#b8e186"
            ],
            [
             0.8,
             "#7fbc41"
            ],
            [
             0.9,
             "#4d9221"
            ],
            [
             1,
             "#276419"
            ]
           ],
           "sequential": [
            [
             0,
             "#0d0887"
            ],
            [
             0.1111111111111111,
             "#46039f"
            ],
            [
             0.2222222222222222,
             "#7201a8"
            ],
            [
             0.3333333333333333,
             "#9c179e"
            ],
            [
             0.4444444444444444,
             "#bd3786"
            ],
            [
             0.5555555555555556,
             "#d8576b"
            ],
            [
             0.6666666666666666,
             "#ed7953"
            ],
            [
             0.7777777777777778,
             "#fb9f3a"
            ],
            [
             0.8888888888888888,
             "#fdca26"
            ],
            [
             1,
             "#f0f921"
            ]
           ],
           "sequentialminus": [
            [
             0,
             "#0d0887"
            ],
            [
             0.1111111111111111,
             "#46039f"
            ],
            [
             0.2222222222222222,
             "#7201a8"
            ],
            [
             0.3333333333333333,
             "#9c179e"
            ],
            [
             0.4444444444444444,
             "#bd3786"
            ],
            [
             0.5555555555555556,
             "#d8576b"
            ],
            [
             0.6666666666666666,
             "#ed7953"
            ],
            [
             0.7777777777777778,
             "#fb9f3a"
            ],
            [
             0.8888888888888888,
             "#fdca26"
            ],
            [
             1,
             "#f0f921"
            ]
           ]
          },
          "colorway": [
           "#636efa",
           "#EF553B",
           "#00cc96",
           "#ab63fa",
           "#FFA15A",
           "#19d3f3",
           "#FF6692",
           "#B6E880",
           "#FF97FF",
           "#FECB52"
          ],
          "font": {
           "color": "#2a3f5f"
          },
          "geo": {
           "bgcolor": "white",
           "lakecolor": "white",
           "landcolor": "white",
           "showlakes": true,
           "showland": true,
           "subunitcolor": "#C8D4E3"
          },
          "hoverlabel": {
           "align": "left"
          },
          "hovermode": "closest",
          "mapbox": {
           "style": "light"
          },
          "paper_bgcolor": "white",
          "plot_bgcolor": "white",
          "polar": {
           "angularaxis": {
            "gridcolor": "#EBF0F8",
            "linecolor": "#EBF0F8",
            "ticks": ""
           },
           "bgcolor": "white",
           "radialaxis": {
            "gridcolor": "#EBF0F8",
            "linecolor": "#EBF0F8",
            "ticks": ""
           }
          },
          "scene": {
           "xaxis": {
            "backgroundcolor": "white",
            "gridcolor": "#DFE8F3",
            "gridwidth": 2,
            "linecolor": "#EBF0F8",
            "showbackground": true,
            "ticks": "",
            "zerolinecolor": "#EBF0F8"
           },
           "yaxis": {
            "backgroundcolor": "white",
            "gridcolor": "#DFE8F3",
            "gridwidth": 2,
            "linecolor": "#EBF0F8",
            "showbackground": true,
            "ticks": "",
            "zerolinecolor": "#EBF0F8"
           },
           "zaxis": {
            "backgroundcolor": "white",
            "gridcolor": "#DFE8F3",
            "gridwidth": 2,
            "linecolor": "#EBF0F8",
            "showbackground": true,
            "ticks": "",
            "zerolinecolor": "#EBF0F8"
           }
          },
          "shapedefaults": {
           "line": {
            "color": "#2a3f5f"
           }
          },
          "ternary": {
           "aaxis": {
            "gridcolor": "#DFE8F3",
            "linecolor": "#A2B1C6",
            "ticks": ""
           },
           "baxis": {
            "gridcolor": "#DFE8F3",
            "linecolor": "#A2B1C6",
            "ticks": ""
           },
           "bgcolor": "white",
           "caxis": {
            "gridcolor": "#DFE8F3",
            "linecolor": "#A2B1C6",
            "ticks": ""
           }
          },
          "title": {
           "x": 0.05
          },
          "xaxis": {
           "automargin": true,
           "gridcolor": "#EBF0F8",
           "linecolor": "#EBF0F8",
           "ticks": "",
           "title": {
            "standoff": 15
           },
           "zerolinecolor": "#EBF0F8",
           "zerolinewidth": 2
          },
          "yaxis": {
           "automargin": true,
           "gridcolor": "#EBF0F8",
           "linecolor": "#EBF0F8",
           "ticks": "",
           "title": {
            "standoff": 15
           },
           "zerolinecolor": "#EBF0F8",
           "zerolinewidth": 2
          }
         }
        },
        "title": {
         "font": {
          "size": 30
         },
         "text": "marginalFreq vs Exposure"
        },
        "updatemenus": [
         {
          "buttons": [
           {
            "args": [
             {
              "visible": [
               true,
               true,
               true,
               false,
               false,
               false
              ]
             },
             {
              "title": {
               "font": {
                "size": 30
               },
               "text": "marginalFreq vs Exposure"
              },
              "yaxis": {
               "title": {
                "side": "left",
                "text": "Exposicion"
               }
              },
              "yaxis2": {
               "overlaying": "y",
               "side": "right",
               "tickmode": "sync",
               "title": {
                "text": "marginalFreq"
               }
              }
             }
            ],
            "label": "marginalFreq",
            "method": "update"
           },
           {
            "args": [
             {
              "visible": [
               false,
               false,
               false,
               true,
               true,
               true
              ]
             },
             {
              "title": {
               "font": {
                "size": 30
               },
               "text": "marginalSeve vs Claim Number"
              },
              "yaxis": {
               "title": {
                "side": "left",
                "text": "Numero Siniestros"
               }
              },
              "yaxis2": {
               "overlaying": "y",
               "side": "right",
               "tickmode": "sync",
               "title": {
                "text": "marginalSeve"
               }
              }
             }
            ],
            "label": "marginalSeve",
            "method": "update"
           }
          ],
          "type": "buttons",
          "x": 1.4,
          "y": 0.5
         }
        ],
        "xaxis": {
         "anchor": "y",
         "domain": [
          0,
          0.94
         ]
        },
        "yaxis": {
         "anchor": "x",
         "domain": [
          0,
          1
         ],
         "side": "left",
         "title": {
          "text": "Exposicion"
         }
        },
        "yaxis2": {
         "anchor": "x",
         "overlaying": "y",
         "side": "right",
         "title": {
          "text": "marginalFreq"
         }
        }
       }
      }
     },
     "metadata": {},
     "output_type": "display_data"
    },
    {
     "data": {
      "application/vnd.plotly.v1+json": {
       "config": {
        "plotlyServerURL": "https://plot.ly"
       },
       "data": [
        {
         "name": "Exposicion",
         "type": "bar",
         "visible": true,
         "x": [
          null,
          "Africa",
          "Americas",
          "Asia",
          "Europe",
          "Oceania"
         ],
         "xaxis": "x",
         "y": [
          20,
          250,
          500,
          280,
          280,
          250
         ],
         "yaxis": "y"
        },
        {
         "name": "marginalFreq",
         "type": "scatter",
         "visible": true,
         "x": [
          null,
          "Africa",
          "Americas",
          "Asia",
          "Europe",
          "Oceania"
         ],
         "xaxis": "x",
         "y": [
          0.1,
          0.14,
          0.12,
          0.1,
          0.11428571428571428,
          0.124
         ],
         "yaxis": "y2"
        },
        {
         "name": "portFreq",
         "type": "scatter",
         "visible": true,
         "x": [
          null,
          "Africa",
          "Americas",
          "Asia",
          "Europe",
          "Oceania"
         ],
         "xaxis": "x",
         "y": [
          0.1189873417721519,
          0.1189873417721519,
          0.1189873417721519,
          0.1189873417721519,
          0.1189873417721519,
          0.1189873417721519
         ],
         "yaxis": "y2"
        },
        {
         "name": "Numero Siniestros",
         "type": "bar",
         "visible": false,
         "x": [
          null,
          "Africa",
          "Americas",
          "Asia",
          "Europe",
          "Oceania"
         ],
         "xaxis": "x",
         "y": [
          2,
          35,
          60,
          28,
          32,
          31
         ],
         "yaxis": "y"
        },
        {
         "name": "marginalSeve",
         "type": "scatter",
         "visible": false,
         "x": [
          null,
          "Africa",
          "Americas",
          "Asia",
          "Europe",
          "Oceania"
         ],
         "xaxis": "x",
         "y": [
          425000,
          196857.14285714287,
          412166.6666666667,
          1535357.142857143,
          579687.5,
          415161.29032258067
         ],
         "yaxis": "y2"
        },
        {
         "name": "portSeve",
         "type": "scatter",
         "visible": false,
         "x": [
          null,
          "Africa",
          "Americas",
          "Asia",
          "Europe",
          "Oceania"
         ],
         "xaxis": "x",
         "y": [
          568510.6382978724,
          568510.6382978724,
          568510.6382978724,
          568510.6382978724,
          568510.6382978724,
          568510.6382978724
         ],
         "yaxis": "y2"
        }
       ],
       "layout": {
        "height": 400,
        "template": {
         "data": {
          "bar": [
           {
            "error_x": {
             "color": "#2a3f5f"
            },
            "error_y": {
             "color": "#2a3f5f"
            },
            "marker": {
             "line": {
              "color": "white",
              "width": 0.5
             },
             "pattern": {
              "fillmode": "overlay",
              "size": 10,
              "solidity": 0.2
             }
            },
            "type": "bar"
           }
          ],
          "barpolar": [
           {
            "marker": {
             "line": {
              "color": "white",
              "width": 0.5
             },
             "pattern": {
              "fillmode": "overlay",
              "size": 10,
              "solidity": 0.2
             }
            },
            "type": "barpolar"
           }
          ],
          "carpet": [
           {
            "aaxis": {
             "endlinecolor": "#2a3f5f",
             "gridcolor": "#C8D4E3",
             "linecolor": "#C8D4E3",
             "minorgridcolor": "#C8D4E3",
             "startlinecolor": "#2a3f5f"
            },
            "baxis": {
             "endlinecolor": "#2a3f5f",
             "gridcolor": "#C8D4E3",
             "linecolor": "#C8D4E3",
             "minorgridcolor": "#C8D4E3",
             "startlinecolor": "#2a3f5f"
            },
            "type": "carpet"
           }
          ],
          "choropleth": [
           {
            "colorbar": {
             "outlinewidth": 0,
             "ticks": ""
            },
            "type": "choropleth"
           }
          ],
          "contour": [
           {
            "colorbar": {
             "outlinewidth": 0,
             "ticks": ""
            },
            "colorscale": [
             [
              0,
              "#0d0887"
             ],
             [
              0.1111111111111111,
              "#46039f"
             ],
             [
              0.2222222222222222,
              "#7201a8"
             ],
             [
              0.3333333333333333,
              "#9c179e"
             ],
             [
              0.4444444444444444,
              "#bd3786"
             ],
             [
              0.5555555555555556,
              "#d8576b"
             ],
             [
              0.6666666666666666,
              "#ed7953"
             ],
             [
              0.7777777777777778,
              "#fb9f3a"
             ],
             [
              0.8888888888888888,
              "#fdca26"
             ],
             [
              1,
              "#f0f921"
             ]
            ],
            "type": "contour"
           }
          ],
          "contourcarpet": [
           {
            "colorbar": {
             "outlinewidth": 0,
             "ticks": ""
            },
            "type": "contourcarpet"
           }
          ],
          "heatmap": [
           {
            "colorbar": {
             "outlinewidth": 0,
             "ticks": ""
            },
            "colorscale": [
             [
              0,
              "#0d0887"
             ],
             [
              0.1111111111111111,
              "#46039f"
             ],
             [
              0.2222222222222222,
              "#7201a8"
             ],
             [
              0.3333333333333333,
              "#9c179e"
             ],
             [
              0.4444444444444444,
              "#bd3786"
             ],
             [
              0.5555555555555556,
              "#d8576b"
             ],
             [
              0.6666666666666666,
              "#ed7953"
             ],
             [
              0.7777777777777778,
              "#fb9f3a"
             ],
             [
              0.8888888888888888,
              "#fdca26"
             ],
             [
              1,
              "#f0f921"
             ]
            ],
            "type": "heatmap"
           }
          ],
          "heatmapgl": [
           {
            "colorbar": {
             "outlinewidth": 0,
             "ticks": ""
            },
            "colorscale": [
             [
              0,
              "#0d0887"
             ],
             [
              0.1111111111111111,
              "#46039f"
             ],
             [
              0.2222222222222222,
              "#7201a8"
             ],
             [
              0.3333333333333333,
              "#9c179e"
             ],
             [
              0.4444444444444444,
              "#bd3786"
             ],
             [
              0.5555555555555556,
              "#d8576b"
             ],
             [
              0.6666666666666666,
              "#ed7953"
             ],
             [
              0.7777777777777778,
              "#fb9f3a"
             ],
             [
              0.8888888888888888,
              "#fdca26"
             ],
             [
              1,
              "#f0f921"
             ]
            ],
            "type": "heatmapgl"
           }
          ],
          "histogram": [
           {
            "marker": {
             "pattern": {
              "fillmode": "overlay",
              "size": 10,
              "solidity": 0.2
             }
            },
            "type": "histogram"
           }
          ],
          "histogram2d": [
           {
            "colorbar": {
             "outlinewidth": 0,
             "ticks": ""
            },
            "colorscale": [
             [
              0,
              "#0d0887"
             ],
             [
              0.1111111111111111,
              "#46039f"
             ],
             [
              0.2222222222222222,
              "#7201a8"
             ],
             [
              0.3333333333333333,
              "#9c179e"
             ],
             [
              0.4444444444444444,
              "#bd3786"
             ],
             [
              0.5555555555555556,
              "#d8576b"
             ],
             [
              0.6666666666666666,
              "#ed7953"
             ],
             [
              0.7777777777777778,
              "#fb9f3a"
             ],
             [
              0.8888888888888888,
              "#fdca26"
             ],
             [
              1,
              "#f0f921"
             ]
            ],
            "type": "histogram2d"
           }
          ],
          "histogram2dcontour": [
           {
            "colorbar": {
             "outlinewidth": 0,
             "ticks": ""
            },
            "colorscale": [
             [
              0,
              "#0d0887"
             ],
             [
              0.1111111111111111,
              "#46039f"
             ],
             [
              0.2222222222222222,
              "#7201a8"
             ],
             [
              0.3333333333333333,
              "#9c179e"
             ],
             [
              0.4444444444444444,
              "#bd3786"
             ],
             [
              0.5555555555555556,
              "#d8576b"
             ],
             [
              0.6666666666666666,
              "#ed7953"
             ],
             [
              0.7777777777777778,
              "#fb9f3a"
             ],
             [
              0.8888888888888888,
              "#fdca26"
             ],
             [
              1,
              "#f0f921"
             ]
            ],
            "type": "histogram2dcontour"
           }
          ],
          "mesh3d": [
           {
            "colorbar": {
             "outlinewidth": 0,
             "ticks": ""
            },
            "type": "mesh3d"
           }
          ],
          "parcoords": [
           {
            "line": {
             "colorbar": {
              "outlinewidth": 0,
              "ticks": ""
             }
            },
            "type": "parcoords"
           }
          ],
          "pie": [
           {
            "automargin": true,
            "type": "pie"
           }
          ],
          "scatter": [
           {
            "fillpattern": {
             "fillmode": "overlay",
             "size": 10,
             "solidity": 0.2
            },
            "type": "scatter"
           }
          ],
          "scatter3d": [
           {
            "line": {
             "colorbar": {
              "outlinewidth": 0,
              "ticks": ""
             }
            },
            "marker": {
             "colorbar": {
              "outlinewidth": 0,
              "ticks": ""
             }
            },
            "type": "scatter3d"
           }
          ],
          "scattercarpet": [
           {
            "marker": {
             "colorbar": {
              "outlinewidth": 0,
              "ticks": ""
             }
            },
            "type": "scattercarpet"
           }
          ],
          "scattergeo": [
           {
            "marker": {
             "colorbar": {
              "outlinewidth": 0,
              "ticks": ""
             }
            },
            "type": "scattergeo"
           }
          ],
          "scattergl": [
           {
            "marker": {
             "colorbar": {
              "outlinewidth": 0,
              "ticks": ""
             }
            },
            "type": "scattergl"
           }
          ],
          "scattermapbox": [
           {
            "marker": {
             "colorbar": {
              "outlinewidth": 0,
              "ticks": ""
             }
            },
            "type": "scattermapbox"
           }
          ],
          "scatterpolar": [
           {
            "marker": {
             "colorbar": {
              "outlinewidth": 0,
              "ticks": ""
             }
            },
            "type": "scatterpolar"
           }
          ],
          "scatterpolargl": [
           {
            "marker": {
             "colorbar": {
              "outlinewidth": 0,
              "ticks": ""
             }
            },
            "type": "scatterpolargl"
           }
          ],
          "scatterternary": [
           {
            "marker": {
             "colorbar": {
              "outlinewidth": 0,
              "ticks": ""
             }
            },
            "type": "scatterternary"
           }
          ],
          "surface": [
           {
            "colorbar": {
             "outlinewidth": 0,
             "ticks": ""
            },
            "colorscale": [
             [
              0,
              "#0d0887"
             ],
             [
              0.1111111111111111,
              "#46039f"
             ],
             [
              0.2222222222222222,
              "#7201a8"
             ],
             [
              0.3333333333333333,
              "#9c179e"
             ],
             [
              0.4444444444444444,
              "#bd3786"
             ],
             [
              0.5555555555555556,
              "#d8576b"
             ],
             [
              0.6666666666666666,
              "#ed7953"
             ],
             [
              0.7777777777777778,
              "#fb9f3a"
             ],
             [
              0.8888888888888888,
              "#fdca26"
             ],
             [
              1,
              "#f0f921"
             ]
            ],
            "type": "surface"
           }
          ],
          "table": [
           {
            "cells": {
             "fill": {
              "color": "#EBF0F8"
             },
             "line": {
              "color": "white"
             }
            },
            "header": {
             "fill": {
              "color": "#C8D4E3"
             },
             "line": {
              "color": "white"
             }
            },
            "type": "table"
           }
          ]
         },
         "layout": {
          "annotationdefaults": {
           "arrowcolor": "#2a3f5f",
           "arrowhead": 0,
           "arrowwidth": 1
          },
          "autotypenumbers": "strict",
          "coloraxis": {
           "colorbar": {
            "outlinewidth": 0,
            "ticks": ""
           }
          },
          "colorscale": {
           "diverging": [
            [
             0,
             "#8e0152"
            ],
            [
             0.1,
             "#c51b7d"
            ],
            [
             0.2,
             "#de77ae"
            ],
            [
             0.3,
             "#f1b6da"
            ],
            [
             0.4,
             "#fde0ef"
            ],
            [
             0.5,
             "#f7f7f7"
            ],
            [
             0.6,
             "#e6f5d0"
            ],
            [
             0.7,
             "#b8e186"
            ],
            [
             0.8,
             "#7fbc41"
            ],
            [
             0.9,
             "#4d9221"
            ],
            [
             1,
             "#276419"
            ]
           ],
           "sequential": [
            [
             0,
             "#0d0887"
            ],
            [
             0.1111111111111111,
             "#46039f"
            ],
            [
             0.2222222222222222,
             "#7201a8"
            ],
            [
             0.3333333333333333,
             "#9c179e"
            ],
            [
             0.4444444444444444,
             "#bd3786"
            ],
            [
             0.5555555555555556,
             "#d8576b"
            ],
            [
             0.6666666666666666,
             "#ed7953"
            ],
            [
             0.7777777777777778,
             "#fb9f3a"
            ],
            [
             0.8888888888888888,
             "#fdca26"
            ],
            [
             1,
             "#f0f921"
            ]
           ],
           "sequentialminus": [
            [
             0,
             "#0d0887"
            ],
            [
             0.1111111111111111,
             "#46039f"
            ],
            [
             0.2222222222222222,
             "#7201a8"
            ],
            [
             0.3333333333333333,
             "#9c179e"
            ],
            [
             0.4444444444444444,
             "#bd3786"
            ],
            [
             0.5555555555555556,
             "#d8576b"
            ],
            [
             0.6666666666666666,
             "#ed7953"
            ],
            [
             0.7777777777777778,
             "#fb9f3a"
            ],
            [
             0.8888888888888888,
             "#fdca26"
            ],
            [
             1,
             "#f0f921"
            ]
           ]
          },
          "colorway": [
           "#636efa",
           "#EF553B",
           "#00cc96",
           "#ab63fa",
           "#FFA15A",
           "#19d3f3",
           "#FF6692",
           "#B6E880",
           "#FF97FF",
           "#FECB52"
          ],
          "font": {
           "color": "#2a3f5f"
          },
          "geo": {
           "bgcolor": "white",
           "lakecolor": "white",
           "landcolor": "white",
           "showlakes": true,
           "showland": true,
           "subunitcolor": "#C8D4E3"
          },
          "hoverlabel": {
           "align": "left"
          },
          "hovermode": "closest",
          "mapbox": {
           "style": "light"
          },
          "paper_bgcolor": "white",
          "plot_bgcolor": "white",
          "polar": {
           "angularaxis": {
            "gridcolor": "#EBF0F8",
            "linecolor": "#EBF0F8",
            "ticks": ""
           },
           "bgcolor": "white",
           "radialaxis": {
            "gridcolor": "#EBF0F8",
            "linecolor": "#EBF0F8",
            "ticks": ""
           }
          },
          "scene": {
           "xaxis": {
            "backgroundcolor": "white",
            "gridcolor": "#DFE8F3",
            "gridwidth": 2,
            "linecolor": "#EBF0F8",
            "showbackground": true,
            "ticks": "",
            "zerolinecolor": "#EBF0F8"
           },
           "yaxis": {
            "backgroundcolor": "white",
            "gridcolor": "#DFE8F3",
            "gridwidth": 2,
            "linecolor": "#EBF0F8",
            "showbackground": true,
            "ticks": "",
            "zerolinecolor": "#EBF0F8"
           },
           "zaxis": {
            "backgroundcolor": "white",
            "gridcolor": "#DFE8F3",
            "gridwidth": 2,
            "linecolor": "#EBF0F8",
            "showbackground": true,
            "ticks": "",
            "zerolinecolor": "#EBF0F8"
           }
          },
          "shapedefaults": {
           "line": {
            "color": "#2a3f5f"
           }
          },
          "ternary": {
           "aaxis": {
            "gridcolor": "#DFE8F3",
            "linecolor": "#A2B1C6",
            "ticks": ""
           },
           "baxis": {
            "gridcolor": "#DFE8F3",
            "linecolor": "#A2B1C6",
            "ticks": ""
           },
           "bgcolor": "white",
           "caxis": {
            "gridcolor": "#DFE8F3",
            "linecolor": "#A2B1C6",
            "ticks": ""
           }
          },
          "title": {
           "x": 0.05
          },
          "xaxis": {
           "automargin": true,
           "gridcolor": "#EBF0F8",
           "linecolor": "#EBF0F8",
           "ticks": "",
           "title": {
            "standoff": 15
           },
           "zerolinecolor": "#EBF0F8",
           "zerolinewidth": 2
          },
          "yaxis": {
           "automargin": true,
           "gridcolor": "#EBF0F8",
           "linecolor": "#EBF0F8",
           "ticks": "",
           "title": {
            "standoff": 15
           },
           "zerolinecolor": "#EBF0F8",
           "zerolinewidth": 2
          }
         }
        },
        "title": {
         "font": {
          "size": 30
         },
         "text": "marginalFreq vs Exposure"
        },
        "updatemenus": [
         {
          "buttons": [
           {
            "args": [
             {
              "visible": [
               true,
               true,
               true,
               false,
               false,
               false
              ]
             },
             {
              "title": {
               "font": {
                "size": 30
               },
               "text": "marginalFreq vs Exposure"
              },
              "yaxis": {
               "title": {
                "side": "left",
                "text": "Exposicion"
               }
              },
              "yaxis2": {
               "overlaying": "y",
               "side": "right",
               "tickmode": "sync",
               "title": {
                "text": "marginalFreq"
               }
              }
             }
            ],
            "label": "marginalFreq",
            "method": "update"
           },
           {
            "args": [
             {
              "visible": [
               false,
               false,
               false,
               true,
               true,
               true
              ]
             },
             {
              "title": {
               "font": {
                "size": 30
               },
               "text": "marginalSeve vs Claim Number"
              },
              "yaxis": {
               "title": {
                "side": "left",
                "text": "Numero Siniestros"
               }
              },
              "yaxis2": {
               "overlaying": "y",
               "side": "right",
               "tickmode": "sync",
               "title": {
                "text": "marginalSeve"
               }
              }
             }
            ],
            "label": "marginalSeve",
            "method": "update"
           }
          ],
          "type": "buttons",
          "x": 1.4,
          "y": 0.5
         }
        ],
        "xaxis": {
         "anchor": "y",
         "domain": [
          0,
          0.94
         ]
        },
        "yaxis": {
         "anchor": "x",
         "domain": [
          0,
          1
         ],
         "side": "left",
         "title": {
          "text": "Exposicion"
         }
        },
        "yaxis2": {
         "anchor": "x",
         "overlaying": "y",
         "side": "right",
         "title": {
          "text": "marginalFreq"
         }
        }
       }
      }
     },
     "metadata": {},
     "output_type": "display_data"
    },
    {
     "data": {
      "application/vnd.plotly.v1+json": {
       "config": {
        "plotlyServerURL": "https://plot.ly"
       },
       "data": [
        {
         "name": "Exposicion",
         "type": "bar",
         "visible": true,
         "x": [
          null,
          2,
          3,
          4,
          5
         ],
         "xaxis": "x",
         "y": [
          1392,
          24,
          68,
          60,
          36
         ],
         "yaxis": "y"
        },
        {
         "name": "marginalFreq",
         "type": "scatter",
         "visible": true,
         "x": [
          null,
          2,
          3,
          4,
          5
         ],
         "xaxis": "x",
         "y": [
          0,
          1,
          1,
          1,
          1
         ],
         "yaxis": "y2"
        },
        {
         "name": "portFreq",
         "type": "scatter",
         "visible": true,
         "x": [
          null,
          2,
          3,
          4,
          5
         ],
         "xaxis": "x",
         "y": [
          0.1189873417721519,
          0.1189873417721519,
          0.1189873417721519,
          0.1189873417721519,
          0.1189873417721519
         ],
         "yaxis": "y2"
        },
        {
         "name": "Numero Siniestros",
         "type": "bar",
         "visible": false,
         "x": [
          null,
          2,
          3,
          4,
          5
         ],
         "xaxis": "x",
         "y": [
          0,
          24,
          68,
          60,
          36
         ],
         "yaxis": "y"
        },
        {
         "name": "marginalSeve",
         "type": "scatter",
         "visible": false,
         "x": [
          null,
          2,
          3,
          4,
          5
         ],
         "xaxis": "x",
         "y": [
          0,
          114166.66666666667,
          370735.29411764705,
          497166.6666666667,
          1363888.888888889
         ],
         "yaxis": "y2"
        },
        {
         "name": "portSeve",
         "type": "scatter",
         "visible": false,
         "x": [
          null,
          2,
          3,
          4,
          5
         ],
         "xaxis": "x",
         "y": [
          568510.6382978724,
          568510.6382978724,
          568510.6382978724,
          568510.6382978724,
          568510.6382978724
         ],
         "yaxis": "y2"
        }
       ],
       "layout": {
        "height": 400,
        "template": {
         "data": {
          "bar": [
           {
            "error_x": {
             "color": "#2a3f5f"
            },
            "error_y": {
             "color": "#2a3f5f"
            },
            "marker": {
             "line": {
              "color": "white",
              "width": 0.5
             },
             "pattern": {
              "fillmode": "overlay",
              "size": 10,
              "solidity": 0.2
             }
            },
            "type": "bar"
           }
          ],
          "barpolar": [
           {
            "marker": {
             "line": {
              "color": "white",
              "width": 0.5
             },
             "pattern": {
              "fillmode": "overlay",
              "size": 10,
              "solidity": 0.2
             }
            },
            "type": "barpolar"
           }
          ],
          "carpet": [
           {
            "aaxis": {
             "endlinecolor": "#2a3f5f",
             "gridcolor": "#C8D4E3",
             "linecolor": "#C8D4E3",
             "minorgridcolor": "#C8D4E3",
             "startlinecolor": "#2a3f5f"
            },
            "baxis": {
             "endlinecolor": "#2a3f5f",
             "gridcolor": "#C8D4E3",
             "linecolor": "#C8D4E3",
             "minorgridcolor": "#C8D4E3",
             "startlinecolor": "#2a3f5f"
            },
            "type": "carpet"
           }
          ],
          "choropleth": [
           {
            "colorbar": {
             "outlinewidth": 0,
             "ticks": ""
            },
            "type": "choropleth"
           }
          ],
          "contour": [
           {
            "colorbar": {
             "outlinewidth": 0,
             "ticks": ""
            },
            "colorscale": [
             [
              0,
              "#0d0887"
             ],
             [
              0.1111111111111111,
              "#46039f"
             ],
             [
              0.2222222222222222,
              "#7201a8"
             ],
             [
              0.3333333333333333,
              "#9c179e"
             ],
             [
              0.4444444444444444,
              "#bd3786"
             ],
             [
              0.5555555555555556,
              "#d8576b"
             ],
             [
              0.6666666666666666,
              "#ed7953"
             ],
             [
              0.7777777777777778,
              "#fb9f3a"
             ],
             [
              0.8888888888888888,
              "#fdca26"
             ],
             [
              1,
              "#f0f921"
             ]
            ],
            "type": "contour"
           }
          ],
          "contourcarpet": [
           {
            "colorbar": {
             "outlinewidth": 0,
             "ticks": ""
            },
            "type": "contourcarpet"
           }
          ],
          "heatmap": [
           {
            "colorbar": {
             "outlinewidth": 0,
             "ticks": ""
            },
            "colorscale": [
             [
              0,
              "#0d0887"
             ],
             [
              0.1111111111111111,
              "#46039f"
             ],
             [
              0.2222222222222222,
              "#7201a8"
             ],
             [
              0.3333333333333333,
              "#9c179e"
             ],
             [
              0.4444444444444444,
              "#bd3786"
             ],
             [
              0.5555555555555556,
              "#d8576b"
             ],
             [
              0.6666666666666666,
              "#ed7953"
             ],
             [
              0.7777777777777778,
              "#fb9f3a"
             ],
             [
              0.8888888888888888,
              "#fdca26"
             ],
             [
              1,
              "#f0f921"
             ]
            ],
            "type": "heatmap"
           }
          ],
          "heatmapgl": [
           {
            "colorbar": {
             "outlinewidth": 0,
             "ticks": ""
            },
            "colorscale": [
             [
              0,
              "#0d0887"
             ],
             [
              0.1111111111111111,
              "#46039f"
             ],
             [
              0.2222222222222222,
              "#7201a8"
             ],
             [
              0.3333333333333333,
              "#9c179e"
             ],
             [
              0.4444444444444444,
              "#bd3786"
             ],
             [
              0.5555555555555556,
              "#d8576b"
             ],
             [
              0.6666666666666666,
              "#ed7953"
             ],
             [
              0.7777777777777778,
              "#fb9f3a"
             ],
             [
              0.8888888888888888,
              "#fdca26"
             ],
             [
              1,
              "#f0f921"
             ]
            ],
            "type": "heatmapgl"
           }
          ],
          "histogram": [
           {
            "marker": {
             "pattern": {
              "fillmode": "overlay",
              "size": 10,
              "solidity": 0.2
             }
            },
            "type": "histogram"
           }
          ],
          "histogram2d": [
           {
            "colorbar": {
             "outlinewidth": 0,
             "ticks": ""
            },
            "colorscale": [
             [
              0,
              "#0d0887"
             ],
             [
              0.1111111111111111,
              "#46039f"
             ],
             [
              0.2222222222222222,
              "#7201a8"
             ],
             [
              0.3333333333333333,
              "#9c179e"
             ],
             [
              0.4444444444444444,
              "#bd3786"
             ],
             [
              0.5555555555555556,
              "#d8576b"
             ],
             [
              0.6666666666666666,
              "#ed7953"
             ],
             [
              0.7777777777777778,
              "#fb9f3a"
             ],
             [
              0.8888888888888888,
              "#fdca26"
             ],
             [
              1,
              "#f0f921"
             ]
            ],
            "type": "histogram2d"
           }
          ],
          "histogram2dcontour": [
           {
            "colorbar": {
             "outlinewidth": 0,
             "ticks": ""
            },
            "colorscale": [
             [
              0,
              "#0d0887"
             ],
             [
              0.1111111111111111,
              "#46039f"
             ],
             [
              0.2222222222222222,
              "#7201a8"
             ],
             [
              0.3333333333333333,
              "#9c179e"
             ],
             [
              0.4444444444444444,
              "#bd3786"
             ],
             [
              0.5555555555555556,
              "#d8576b"
             ],
             [
              0.6666666666666666,
              "#ed7953"
             ],
             [
              0.7777777777777778,
              "#fb9f3a"
             ],
             [
              0.8888888888888888,
              "#fdca26"
             ],
             [
              1,
              "#f0f921"
             ]
            ],
            "type": "histogram2dcontour"
           }
          ],
          "mesh3d": [
           {
            "colorbar": {
             "outlinewidth": 0,
             "ticks": ""
            },
            "type": "mesh3d"
           }
          ],
          "parcoords": [
           {
            "line": {
             "colorbar": {
              "outlinewidth": 0,
              "ticks": ""
             }
            },
            "type": "parcoords"
           }
          ],
          "pie": [
           {
            "automargin": true,
            "type": "pie"
           }
          ],
          "scatter": [
           {
            "fillpattern": {
             "fillmode": "overlay",
             "size": 10,
             "solidity": 0.2
            },
            "type": "scatter"
           }
          ],
          "scatter3d": [
           {
            "line": {
             "colorbar": {
              "outlinewidth": 0,
              "ticks": ""
             }
            },
            "marker": {
             "colorbar": {
              "outlinewidth": 0,
              "ticks": ""
             }
            },
            "type": "scatter3d"
           }
          ],
          "scattercarpet": [
           {
            "marker": {
             "colorbar": {
              "outlinewidth": 0,
              "ticks": ""
             }
            },
            "type": "scattercarpet"
           }
          ],
          "scattergeo": [
           {
            "marker": {
             "colorbar": {
              "outlinewidth": 0,
              "ticks": ""
             }
            },
            "type": "scattergeo"
           }
          ],
          "scattergl": [
           {
            "marker": {
             "colorbar": {
              "outlinewidth": 0,
              "ticks": ""
             }
            },
            "type": "scattergl"
           }
          ],
          "scattermapbox": [
           {
            "marker": {
             "colorbar": {
              "outlinewidth": 0,
              "ticks": ""
             }
            },
            "type": "scattermapbox"
           }
          ],
          "scatterpolar": [
           {
            "marker": {
             "colorbar": {
              "outlinewidth": 0,
              "ticks": ""
             }
            },
            "type": "scatterpolar"
           }
          ],
          "scatterpolargl": [
           {
            "marker": {
             "colorbar": {
              "outlinewidth": 0,
              "ticks": ""
             }
            },
            "type": "scatterpolargl"
           }
          ],
          "scatterternary": [
           {
            "marker": {
             "colorbar": {
              "outlinewidth": 0,
              "ticks": ""
             }
            },
            "type": "scatterternary"
           }
          ],
          "surface": [
           {
            "colorbar": {
             "outlinewidth": 0,
             "ticks": ""
            },
            "colorscale": [
             [
              0,
              "#0d0887"
             ],
             [
              0.1111111111111111,
              "#46039f"
             ],
             [
              0.2222222222222222,
              "#7201a8"
             ],
             [
              0.3333333333333333,
              "#9c179e"
             ],
             [
              0.4444444444444444,
              "#bd3786"
             ],
             [
              0.5555555555555556,
              "#d8576b"
             ],
             [
              0.6666666666666666,
              "#ed7953"
             ],
             [
              0.7777777777777778,
              "#fb9f3a"
             ],
             [
              0.8888888888888888,
              "#fdca26"
             ],
             [
              1,
              "#f0f921"
             ]
            ],
            "type": "surface"
           }
          ],
          "table": [
           {
            "cells": {
             "fill": {
              "color": "#EBF0F8"
             },
             "line": {
              "color": "white"
             }
            },
            "header": {
             "fill": {
              "color": "#C8D4E3"
             },
             "line": {
              "color": "white"
             }
            },
            "type": "table"
           }
          ]
         },
         "layout": {
          "annotationdefaults": {
           "arrowcolor": "#2a3f5f",
           "arrowhead": 0,
           "arrowwidth": 1
          },
          "autotypenumbers": "strict",
          "coloraxis": {
           "colorbar": {
            "outlinewidth": 0,
            "ticks": ""
           }
          },
          "colorscale": {
           "diverging": [
            [
             0,
             "#8e0152"
            ],
            [
             0.1,
             "#c51b7d"
            ],
            [
             0.2,
             "#de77ae"
            ],
            [
             0.3,
             "#f1b6da"
            ],
            [
             0.4,
             "#fde0ef"
            ],
            [
             0.5,
             "#f7f7f7"
            ],
            [
             0.6,
             "#e6f5d0"
            ],
            [
             0.7,
             "#b8e186"
            ],
            [
             0.8,
             "#7fbc41"
            ],
            [
             0.9,
             "#4d9221"
            ],
            [
             1,
             "#276419"
            ]
           ],
           "sequential": [
            [
             0,
             "#0d0887"
            ],
            [
             0.1111111111111111,
             "#46039f"
            ],
            [
             0.2222222222222222,
             "#7201a8"
            ],
            [
             0.3333333333333333,
             "#9c179e"
            ],
            [
             0.4444444444444444,
             "#bd3786"
            ],
            [
             0.5555555555555556,
             "#d8576b"
            ],
            [
             0.6666666666666666,
             "#ed7953"
            ],
            [
             0.7777777777777778,
             "#fb9f3a"
            ],
            [
             0.8888888888888888,
             "#fdca26"
            ],
            [
             1,
             "#f0f921"
            ]
           ],
           "sequentialminus": [
            [
             0,
             "#0d0887"
            ],
            [
             0.1111111111111111,
             "#46039f"
            ],
            [
             0.2222222222222222,
             "#7201a8"
            ],
            [
             0.3333333333333333,
             "#9c179e"
            ],
            [
             0.4444444444444444,
             "#bd3786"
            ],
            [
             0.5555555555555556,
             "#d8576b"
            ],
            [
             0.6666666666666666,
             "#ed7953"
            ],
            [
             0.7777777777777778,
             "#fb9f3a"
            ],
            [
             0.8888888888888888,
             "#fdca26"
            ],
            [
             1,
             "#f0f921"
            ]
           ]
          },
          "colorway": [
           "#636efa",
           "#EF553B",
           "#00cc96",
           "#ab63fa",
           "#FFA15A",
           "#19d3f3",
           "#FF6692",
           "#B6E880",
           "#FF97FF",
           "#FECB52"
          ],
          "font": {
           "color": "#2a3f5f"
          },
          "geo": {
           "bgcolor": "white",
           "lakecolor": "white",
           "landcolor": "white",
           "showlakes": true,
           "showland": true,
           "subunitcolor": "#C8D4E3"
          },
          "hoverlabel": {
           "align": "left"
          },
          "hovermode": "closest",
          "mapbox": {
           "style": "light"
          },
          "paper_bgcolor": "white",
          "plot_bgcolor": "white",
          "polar": {
           "angularaxis": {
            "gridcolor": "#EBF0F8",
            "linecolor": "#EBF0F8",
            "ticks": ""
           },
           "bgcolor": "white",
           "radialaxis": {
            "gridcolor": "#EBF0F8",
            "linecolor": "#EBF0F8",
            "ticks": ""
           }
          },
          "scene": {
           "xaxis": {
            "backgroundcolor": "white",
            "gridcolor": "#DFE8F3",
            "gridwidth": 2,
            "linecolor": "#EBF0F8",
            "showbackground": true,
            "ticks": "",
            "zerolinecolor": "#EBF0F8"
           },
           "yaxis": {
            "backgroundcolor": "white",
            "gridcolor": "#DFE8F3",
            "gridwidth": 2,
            "linecolor": "#EBF0F8",
            "showbackground": true,
            "ticks": "",
            "zerolinecolor": "#EBF0F8"
           },
           "zaxis": {
            "backgroundcolor": "white",
            "gridcolor": "#DFE8F3",
            "gridwidth": 2,
            "linecolor": "#EBF0F8",
            "showbackground": true,
            "ticks": "",
            "zerolinecolor": "#EBF0F8"
           }
          },
          "shapedefaults": {
           "line": {
            "color": "#2a3f5f"
           }
          },
          "ternary": {
           "aaxis": {
            "gridcolor": "#DFE8F3",
            "linecolor": "#A2B1C6",
            "ticks": ""
           },
           "baxis": {
            "gridcolor": "#DFE8F3",
            "linecolor": "#A2B1C6",
            "ticks": ""
           },
           "bgcolor": "white",
           "caxis": {
            "gridcolor": "#DFE8F3",
            "linecolor": "#A2B1C6",
            "ticks": ""
           }
          },
          "title": {
           "x": 0.05
          },
          "xaxis": {
           "automargin": true,
           "gridcolor": "#EBF0F8",
           "linecolor": "#EBF0F8",
           "ticks": "",
           "title": {
            "standoff": 15
           },
           "zerolinecolor": "#EBF0F8",
           "zerolinewidth": 2
          },
          "yaxis": {
           "automargin": true,
           "gridcolor": "#EBF0F8",
           "linecolor": "#EBF0F8",
           "ticks": "",
           "title": {
            "standoff": 15
           },
           "zerolinecolor": "#EBF0F8",
           "zerolinewidth": 2
          }
         }
        },
        "title": {
         "font": {
          "size": 30
         },
         "text": "marginalFreq vs Exposure"
        },
        "updatemenus": [
         {
          "buttons": [
           {
            "args": [
             {
              "visible": [
               true,
               true,
               true,
               false,
               false,
               false
              ]
             },
             {
              "title": {
               "font": {
                "size": 30
               },
               "text": "marginalFreq vs Exposure"
              },
              "yaxis": {
               "title": {
                "side": "left",
                "text": "Exposicion"
               }
              },
              "yaxis2": {
               "overlaying": "y",
               "side": "right",
               "tickmode": "sync",
               "title": {
                "text": "marginalFreq"
               }
              }
             }
            ],
            "label": "marginalFreq",
            "method": "update"
           },
           {
            "args": [
             {
              "visible": [
               false,
               false,
               false,
               true,
               true,
               true
              ]
             },
             {
              "title": {
               "font": {
                "size": 30
               },
               "text": "marginalSeve vs Claim Number"
              },
              "yaxis": {
               "title": {
                "side": "left",
                "text": "Numero Siniestros"
               }
              },
              "yaxis2": {
               "overlaying": "y",
               "side": "right",
               "tickmode": "sync",
               "title": {
                "text": "marginalSeve"
               }
              }
             }
            ],
            "label": "marginalSeve",
            "method": "update"
           }
          ],
          "type": "buttons",
          "x": 1.4,
          "y": 0.5
         }
        ],
        "xaxis": {
         "anchor": "y",
         "domain": [
          0,
          0.94
         ]
        },
        "yaxis": {
         "anchor": "x",
         "domain": [
          0,
          1
         ],
         "side": "left",
         "title": {
          "text": "Exposicion"
         }
        },
        "yaxis2": {
         "anchor": "x",
         "overlaying": "y",
         "side": "right",
         "title": {
          "text": "marginalFreq"
         }
        }
       }
      }
     },
     "metadata": {},
     "output_type": "display_data"
    },
    {
     "data": {
      "application/vnd.plotly.v1+json": {
       "config": {
        "plotlyServerURL": "https://plot.ly"
       },
       "data": [
        {
         "name": "Exposicion",
         "type": "bar",
         "visible": true,
         "x": [
          "Abuja",
          "Adelaide",
          "Amsterdam",
          "Auckland",
          "Barcelona",
          "Berlin",
          "Bogotá",
          "Bologna",
          "Brisbane City",
          "Buenos Aires",
          "Burnaby",
          "Canberra",
          "Cape Town",
          "City of Westminster",
          "Ciudad de México",
          "Concepción",
          "Córdoba",
          "Daerah Khusus ibukota Jakarta",
          "Dhaka",
          "Dongcheng",
          "El cairo",
          "Guadalajara",
          "Gurgaon",
          "Houston",
          "Lagos",
          "Lima Metropolitana",
          "Lo Barnechea",
          "London",
          "Lower Hutt",
          "Lyon",
          "Madrid",
          "Makati",
          "Maungakiekie-Tāmaki",
          "Melbourne",
          "Miami",
          "Mombasa",
          "Mumbai City",
          "Mumbai Suburban",
          "Nairobi",
          "New Orleans",
          "Old Toronto",
          "Osaka",
          "Paris",
          "Pasay",
          "Pekin",
          "Perth",
          "Perímetro Urbano Medellín",
          "Rio de Janeiro",
          "Roma",
          "Sandton",
          "Sheikh Zayed",
          "Surabaya",
          "Sydney",
          "São Paulo",
          "Tokio",
          "Toronto",
          "Tudor ward",
          "Upper Harbour",
          "Valparaíso",
          "Vancouver",
          "Viña del Mar",
          "Wellington",
          "Wuham",
          "Wuhan",
          "Yaguas",
          "Zapopan",
          "unknown",
          "Ōrākei"
         ],
         "xaxis": "x",
         "y": [
          30,
          30,
          30,
          10,
          20,
          30,
          30,
          10,
          10,
          40,
          10,
          10,
          20,
          10,
          30,
          10,
          30,
          20,
          30,
          20,
          20,
          20,
          10,
          20,
          10,
          20,
          10,
          20,
          10,
          30,
          30,
          10,
          10,
          20,
          10,
          20,
          10,
          30,
          40,
          20,
          10,
          20,
          20,
          10,
          20,
          10,
          20,
          40,
          40,
          10,
          10,
          30,
          20,
          30,
          20,
          20,
          10,
          10,
          10,
          20,
          10,
          30,
          10,
          20,
          10,
          20,
          290,
          10
         ],
         "yaxis": "y"
        },
        {
         "name": "marginalFreq",
         "type": "scatter",
         "visible": true,
         "x": [
          "Abuja",
          "Adelaide",
          "Amsterdam",
          "Auckland",
          "Barcelona",
          "Berlin",
          "Bogotá",
          "Bologna",
          "Brisbane City",
          "Buenos Aires",
          "Burnaby",
          "Canberra",
          "Cape Town",
          "City of Westminster",
          "Ciudad de México",
          "Concepción",
          "Córdoba",
          "Daerah Khusus ibukota Jakarta",
          "Dhaka",
          "Dongcheng",
          "El cairo",
          "Guadalajara",
          "Gurgaon",
          "Houston",
          "Lagos",
          "Lima Metropolitana",
          "Lo Barnechea",
          "London",
          "Lower Hutt",
          "Lyon",
          "Madrid",
          "Makati",
          "Maungakiekie-Tāmaki",
          "Melbourne",
          "Miami",
          "Mombasa",
          "Mumbai City",
          "Mumbai Suburban",
          "Nairobi",
          "New Orleans",
          "Old Toronto",
          "Osaka",
          "Paris",
          "Pasay",
          "Pekin",
          "Perth",
          "Perímetro Urbano Medellín",
          "Rio de Janeiro",
          "Roma",
          "Sandton",
          "Sheikh Zayed",
          "Surabaya",
          "Sydney",
          "São Paulo",
          "Tokio",
          "Toronto",
          "Tudor ward",
          "Upper Harbour",
          "Valparaíso",
          "Vancouver",
          "Viña del Mar",
          "Wellington",
          "Wuham",
          "Wuhan",
          "Yaguas",
          "Zapopan",
          "unknown",
          "Ōrākei"
         ],
         "xaxis": "x",
         "y": [
          0.1,
          0.1,
          0.1,
          0.1,
          0.1,
          0.2,
          0.1,
          0.1,
          0.1,
          0.1,
          0.1,
          0.1,
          0.1,
          0.1,
          0.1,
          0.1,
          0.1,
          0.1,
          0.1,
          0.1,
          0.1,
          0.1,
          0.1,
          0.2,
          0.2,
          0.2,
          0.1,
          0.1,
          0.1,
          0.1,
          0.1,
          0.1,
          0.1,
          0.2,
          0.2,
          0.2,
          0.1,
          0.1,
          0.2,
          0.1,
          0.2,
          0.1,
          0.1,
          0.1,
          0.1,
          0.2,
          0.1,
          0.1,
          0.1,
          0.1,
          0.1,
          0.1,
          0.1,
          0.1,
          0.1,
          0.2,
          0.2,
          0.1,
          0.1,
          0.1,
          0.1,
          0.1,
          0.1,
          0.1,
          0.1,
          0.1,
          0.12758620689655173,
          0.1
         ],
         "yaxis": "y2"
        },
        {
         "name": "portFreq",
         "type": "scatter",
         "visible": true,
         "x": [
          "Abuja",
          "Adelaide",
          "Amsterdam",
          "Auckland",
          "Barcelona",
          "Berlin",
          "Bogotá",
          "Bologna",
          "Brisbane City",
          "Buenos Aires",
          "Burnaby",
          "Canberra",
          "Cape Town",
          "City of Westminster",
          "Ciudad de México",
          "Concepción",
          "Córdoba",
          "Daerah Khusus ibukota Jakarta",
          "Dhaka",
          "Dongcheng",
          "El cairo",
          "Guadalajara",
          "Gurgaon",
          "Houston",
          "Lagos",
          "Lima Metropolitana",
          "Lo Barnechea",
          "London",
          "Lower Hutt",
          "Lyon",
          "Madrid",
          "Makati",
          "Maungakiekie-Tāmaki",
          "Melbourne",
          "Miami",
          "Mombasa",
          "Mumbai City",
          "Mumbai Suburban",
          "Nairobi",
          "New Orleans",
          "Old Toronto",
          "Osaka",
          "Paris",
          "Pasay",
          "Pekin",
          "Perth",
          "Perímetro Urbano Medellín",
          "Rio de Janeiro",
          "Roma",
          "Sandton",
          "Sheikh Zayed",
          "Surabaya",
          "Sydney",
          "São Paulo",
          "Tokio",
          "Toronto",
          "Tudor ward",
          "Upper Harbour",
          "Valparaíso",
          "Vancouver",
          "Viña del Mar",
          "Wellington",
          "Wuham",
          "Wuhan",
          "Yaguas",
          "Zapopan",
          "unknown",
          "Ōrākei"
         ],
         "xaxis": "x",
         "y": [
          0.1189873417721519,
          0.1189873417721519,
          0.1189873417721519,
          0.1189873417721519,
          0.1189873417721519,
          0.1189873417721519,
          0.1189873417721519,
          0.1189873417721519,
          0.1189873417721519,
          0.1189873417721519,
          0.1189873417721519,
          0.1189873417721519,
          0.1189873417721519,
          0.1189873417721519,
          0.1189873417721519,
          0.1189873417721519,
          0.1189873417721519,
          0.1189873417721519,
          0.1189873417721519,
          0.1189873417721519,
          0.1189873417721519,
          0.1189873417721519,
          0.1189873417721519,
          0.1189873417721519,
          0.1189873417721519,
          0.1189873417721519,
          0.1189873417721519,
          0.1189873417721519,
          0.1189873417721519,
          0.1189873417721519,
          0.1189873417721519,
          0.1189873417721519,
          0.1189873417721519,
          0.1189873417721519,
          0.1189873417721519,
          0.1189873417721519,
          0.1189873417721519,
          0.1189873417721519,
          0.1189873417721519,
          0.1189873417721519,
          0.1189873417721519,
          0.1189873417721519,
          0.1189873417721519,
          0.1189873417721519,
          0.1189873417721519,
          0.1189873417721519,
          0.1189873417721519,
          0.1189873417721519,
          0.1189873417721519,
          0.1189873417721519,
          0.1189873417721519,
          0.1189873417721519,
          0.1189873417721519,
          0.1189873417721519,
          0.1189873417721519,
          0.1189873417721519,
          0.1189873417721519,
          0.1189873417721519,
          0.1189873417721519,
          0.1189873417721519,
          0.1189873417721519,
          0.1189873417721519,
          0.1189873417721519,
          0.1189873417721519,
          0.1189873417721519,
          0.1189873417721519,
          0.1189873417721519,
          0.1189873417721519
         ],
         "yaxis": "y2"
        },
        {
         "name": "Numero Siniestros",
         "type": "bar",
         "visible": false,
         "x": [
          "Abuja",
          "Adelaide",
          "Amsterdam",
          "Auckland",
          "Barcelona",
          "Berlin",
          "Bogotá",
          "Bologna",
          "Brisbane City",
          "Buenos Aires",
          "Burnaby",
          "Canberra",
          "Cape Town",
          "City of Westminster",
          "Ciudad de México",
          "Concepción",
          "Córdoba",
          "Daerah Khusus ibukota Jakarta",
          "Dhaka",
          "Dongcheng",
          "El cairo",
          "Guadalajara",
          "Gurgaon",
          "Houston",
          "Lagos",
          "Lima Metropolitana",
          "Lo Barnechea",
          "London",
          "Lower Hutt",
          "Lyon",
          "Madrid",
          "Makati",
          "Maungakiekie-Tāmaki",
          "Melbourne",
          "Miami",
          "Mombasa",
          "Mumbai City",
          "Mumbai Suburban",
          "Nairobi",
          "New Orleans",
          "Old Toronto",
          "Osaka",
          "Paris",
          "Pasay",
          "Pekin",
          "Perth",
          "Perímetro Urbano Medellín",
          "Rio de Janeiro",
          "Roma",
          "Sandton",
          "Sheikh Zayed",
          "Surabaya",
          "Sydney",
          "São Paulo",
          "Tokio",
          "Toronto",
          "Tudor ward",
          "Upper Harbour",
          "Valparaíso",
          "Vancouver",
          "Viña del Mar",
          "Wellington",
          "Wuham",
          "Wuhan",
          "Yaguas",
          "Zapopan",
          "unknown",
          "Ōrākei"
         ],
         "xaxis": "x",
         "y": [
          3,
          3,
          3,
          1,
          2,
          6,
          3,
          1,
          1,
          4,
          1,
          1,
          2,
          1,
          3,
          1,
          3,
          2,
          3,
          2,
          2,
          2,
          1,
          4,
          2,
          4,
          1,
          2,
          1,
          3,
          3,
          1,
          1,
          4,
          2,
          4,
          1,
          3,
          8,
          2,
          2,
          2,
          2,
          1,
          2,
          2,
          2,
          4,
          4,
          1,
          1,
          3,
          2,
          3,
          2,
          4,
          2,
          1,
          1,
          2,
          1,
          3,
          1,
          2,
          1,
          2,
          37,
          1
         ],
         "yaxis": "y"
        },
        {
         "name": "marginalSeve",
         "type": "scatter",
         "visible": false,
         "x": [
          "Abuja",
          "Adelaide",
          "Amsterdam",
          "Auckland",
          "Barcelona",
          "Berlin",
          "Bogotá",
          "Bologna",
          "Brisbane City",
          "Buenos Aires",
          "Burnaby",
          "Canberra",
          "Cape Town",
          "City of Westminster",
          "Ciudad de México",
          "Concepción",
          "Córdoba",
          "Daerah Khusus ibukota Jakarta",
          "Dhaka",
          "Dongcheng",
          "El cairo",
          "Guadalajara",
          "Gurgaon",
          "Houston",
          "Lagos",
          "Lima Metropolitana",
          "Lo Barnechea",
          "London",
          "Lower Hutt",
          "Lyon",
          "Madrid",
          "Makati",
          "Maungakiekie-Tāmaki",
          "Melbourne",
          "Miami",
          "Mombasa",
          "Mumbai City",
          "Mumbai Suburban",
          "Nairobi",
          "New Orleans",
          "Old Toronto",
          "Osaka",
          "Paris",
          "Pasay",
          "Pekin",
          "Perth",
          "Perímetro Urbano Medellín",
          "Rio de Janeiro",
          "Roma",
          "Sandton",
          "Sheikh Zayed",
          "Surabaya",
          "Sydney",
          "São Paulo",
          "Tokio",
          "Toronto",
          "Tudor ward",
          "Upper Harbour",
          "Valparaíso",
          "Vancouver",
          "Viña del Mar",
          "Wellington",
          "Wuham",
          "Wuhan",
          "Yaguas",
          "Zapopan",
          "unknown",
          "Ōrākei"
         ],
         "xaxis": "x",
         "y": [
          370000,
          170000,
          453333.3333333333,
          470000,
          1000000,
          848333.3333333334,
          266666.6666666667,
          280000,
          290000,
          77500,
          600000,
          530000,
          300000,
          1540000,
          476666.6666666667,
          350000,
          306666.6666666667,
          2500000,
          1170000,
          1285000,
          185000,
          360000,
          2510000,
          600000,
          210000,
          400000,
          90000,
          735000,
          260000,
          376666.6666666667,
          480000,
          2150000,
          80000,
          762500,
          1150000,
          45000,
          900000,
          866666.6666666666,
          150000,
          285000,
          615000,
          2000000,
          375000,
          2350000,
          715000,
          100000,
          400000,
          200000,
          300000,
          70000,
          250000,
          1833333.3333333333,
          1000000,
          200000,
          1250000,
          545000,
          90000,
          200000,
          370000,
          600000,
          380000,
          190000,
          1010000,
          1240000,
          90000,
          340000,
          514864.86486486485,
          100000
         ],
         "yaxis": "y2"
        },
        {
         "name": "portSeve",
         "type": "scatter",
         "visible": false,
         "x": [
          "Abuja",
          "Adelaide",
          "Amsterdam",
          "Auckland",
          "Barcelona",
          "Berlin",
          "Bogotá",
          "Bologna",
          "Brisbane City",
          "Buenos Aires",
          "Burnaby",
          "Canberra",
          "Cape Town",
          "City of Westminster",
          "Ciudad de México",
          "Concepción",
          "Córdoba",
          "Daerah Khusus ibukota Jakarta",
          "Dhaka",
          "Dongcheng",
          "El cairo",
          "Guadalajara",
          "Gurgaon",
          "Houston",
          "Lagos",
          "Lima Metropolitana",
          "Lo Barnechea",
          "London",
          "Lower Hutt",
          "Lyon",
          "Madrid",
          "Makati",
          "Maungakiekie-Tāmaki",
          "Melbourne",
          "Miami",
          "Mombasa",
          "Mumbai City",
          "Mumbai Suburban",
          "Nairobi",
          "New Orleans",
          "Old Toronto",
          "Osaka",
          "Paris",
          "Pasay",
          "Pekin",
          "Perth",
          "Perímetro Urbano Medellín",
          "Rio de Janeiro",
          "Roma",
          "Sandton",
          "Sheikh Zayed",
          "Surabaya",
          "Sydney",
          "São Paulo",
          "Tokio",
          "Toronto",
          "Tudor ward",
          "Upper Harbour",
          "Valparaíso",
          "Vancouver",
          "Viña del Mar",
          "Wellington",
          "Wuham",
          "Wuhan",
          "Yaguas",
          "Zapopan",
          "unknown",
          "Ōrākei"
         ],
         "xaxis": "x",
         "y": [
          568510.6382978724,
          568510.6382978724,
          568510.6382978724,
          568510.6382978724,
          568510.6382978724,
          568510.6382978724,
          568510.6382978724,
          568510.6382978724,
          568510.6382978724,
          568510.6382978724,
          568510.6382978724,
          568510.6382978724,
          568510.6382978724,
          568510.6382978724,
          568510.6382978724,
          568510.6382978724,
          568510.6382978724,
          568510.6382978724,
          568510.6382978724,
          568510.6382978724,
          568510.6382978724,
          568510.6382978724,
          568510.6382978724,
          568510.6382978724,
          568510.6382978724,
          568510.6382978724,
          568510.6382978724,
          568510.6382978724,
          568510.6382978724,
          568510.6382978724,
          568510.6382978724,
          568510.6382978724,
          568510.6382978724,
          568510.6382978724,
          568510.6382978724,
          568510.6382978724,
          568510.6382978724,
          568510.6382978724,
          568510.6382978724,
          568510.6382978724,
          568510.6382978724,
          568510.6382978724,
          568510.6382978724,
          568510.6382978724,
          568510.6382978724,
          568510.6382978724,
          568510.6382978724,
          568510.6382978724,
          568510.6382978724,
          568510.6382978724,
          568510.6382978724,
          568510.6382978724,
          568510.6382978724,
          568510.6382978724,
          568510.6382978724,
          568510.6382978724,
          568510.6382978724,
          568510.6382978724,
          568510.6382978724,
          568510.6382978724,
          568510.6382978724,
          568510.6382978724,
          568510.6382978724,
          568510.6382978724,
          568510.6382978724,
          568510.6382978724,
          568510.6382978724,
          568510.6382978724
         ],
         "yaxis": "y2"
        }
       ],
       "layout": {
        "height": 400,
        "template": {
         "data": {
          "bar": [
           {
            "error_x": {
             "color": "#2a3f5f"
            },
            "error_y": {
             "color": "#2a3f5f"
            },
            "marker": {
             "line": {
              "color": "white",
              "width": 0.5
             },
             "pattern": {
              "fillmode": "overlay",
              "size": 10,
              "solidity": 0.2
             }
            },
            "type": "bar"
           }
          ],
          "barpolar": [
           {
            "marker": {
             "line": {
              "color": "white",
              "width": 0.5
             },
             "pattern": {
              "fillmode": "overlay",
              "size": 10,
              "solidity": 0.2
             }
            },
            "type": "barpolar"
           }
          ],
          "carpet": [
           {
            "aaxis": {
             "endlinecolor": "#2a3f5f",
             "gridcolor": "#C8D4E3",
             "linecolor": "#C8D4E3",
             "minorgridcolor": "#C8D4E3",
             "startlinecolor": "#2a3f5f"
            },
            "baxis": {
             "endlinecolor": "#2a3f5f",
             "gridcolor": "#C8D4E3",
             "linecolor": "#C8D4E3",
             "minorgridcolor": "#C8D4E3",
             "startlinecolor": "#2a3f5f"
            },
            "type": "carpet"
           }
          ],
          "choropleth": [
           {
            "colorbar": {
             "outlinewidth": 0,
             "ticks": ""
            },
            "type": "choropleth"
           }
          ],
          "contour": [
           {
            "colorbar": {
             "outlinewidth": 0,
             "ticks": ""
            },
            "colorscale": [
             [
              0,
              "#0d0887"
             ],
             [
              0.1111111111111111,
              "#46039f"
             ],
             [
              0.2222222222222222,
              "#7201a8"
             ],
             [
              0.3333333333333333,
              "#9c179e"
             ],
             [
              0.4444444444444444,
              "#bd3786"
             ],
             [
              0.5555555555555556,
              "#d8576b"
             ],
             [
              0.6666666666666666,
              "#ed7953"
             ],
             [
              0.7777777777777778,
              "#fb9f3a"
             ],
             [
              0.8888888888888888,
              "#fdca26"
             ],
             [
              1,
              "#f0f921"
             ]
            ],
            "type": "contour"
           }
          ],
          "contourcarpet": [
           {
            "colorbar": {
             "outlinewidth": 0,
             "ticks": ""
            },
            "type": "contourcarpet"
           }
          ],
          "heatmap": [
           {
            "colorbar": {
             "outlinewidth": 0,
             "ticks": ""
            },
            "colorscale": [
             [
              0,
              "#0d0887"
             ],
             [
              0.1111111111111111,
              "#46039f"
             ],
             [
              0.2222222222222222,
              "#7201a8"
             ],
             [
              0.3333333333333333,
              "#9c179e"
             ],
             [
              0.4444444444444444,
              "#bd3786"
             ],
             [
              0.5555555555555556,
              "#d8576b"
             ],
             [
              0.6666666666666666,
              "#ed7953"
             ],
             [
              0.7777777777777778,
              "#fb9f3a"
             ],
             [
              0.8888888888888888,
              "#fdca26"
             ],
             [
              1,
              "#f0f921"
             ]
            ],
            "type": "heatmap"
           }
          ],
          "heatmapgl": [
           {
            "colorbar": {
             "outlinewidth": 0,
             "ticks": ""
            },
            "colorscale": [
             [
              0,
              "#0d0887"
             ],
             [
              0.1111111111111111,
              "#46039f"
             ],
             [
              0.2222222222222222,
              "#7201a8"
             ],
             [
              0.3333333333333333,
              "#9c179e"
             ],
             [
              0.4444444444444444,
              "#bd3786"
             ],
             [
              0.5555555555555556,
              "#d8576b"
             ],
             [
              0.6666666666666666,
              "#ed7953"
             ],
             [
              0.7777777777777778,
              "#fb9f3a"
             ],
             [
              0.8888888888888888,
              "#fdca26"
             ],
             [
              1,
              "#f0f921"
             ]
            ],
            "type": "heatmapgl"
           }
          ],
          "histogram": [
           {
            "marker": {
             "pattern": {
              "fillmode": "overlay",
              "size": 10,
              "solidity": 0.2
             }
            },
            "type": "histogram"
           }
          ],
          "histogram2d": [
           {
            "colorbar": {
             "outlinewidth": 0,
             "ticks": ""
            },
            "colorscale": [
             [
              0,
              "#0d0887"
             ],
             [
              0.1111111111111111,
              "#46039f"
             ],
             [
              0.2222222222222222,
              "#7201a8"
             ],
             [
              0.3333333333333333,
              "#9c179e"
             ],
             [
              0.4444444444444444,
              "#bd3786"
             ],
             [
              0.5555555555555556,
              "#d8576b"
             ],
             [
              0.6666666666666666,
              "#ed7953"
             ],
             [
              0.7777777777777778,
              "#fb9f3a"
             ],
             [
              0.8888888888888888,
              "#fdca26"
             ],
             [
              1,
              "#f0f921"
             ]
            ],
            "type": "histogram2d"
           }
          ],
          "histogram2dcontour": [
           {
            "colorbar": {
             "outlinewidth": 0,
             "ticks": ""
            },
            "colorscale": [
             [
              0,
              "#0d0887"
             ],
             [
              0.1111111111111111,
              "#46039f"
             ],
             [
              0.2222222222222222,
              "#7201a8"
             ],
             [
              0.3333333333333333,
              "#9c179e"
             ],
             [
              0.4444444444444444,
              "#bd3786"
             ],
             [
              0.5555555555555556,
              "#d8576b"
             ],
             [
              0.6666666666666666,
              "#ed7953"
             ],
             [
              0.7777777777777778,
              "#fb9f3a"
             ],
             [
              0.8888888888888888,
              "#fdca26"
             ],
             [
              1,
              "#f0f921"
             ]
            ],
            "type": "histogram2dcontour"
           }
          ],
          "mesh3d": [
           {
            "colorbar": {
             "outlinewidth": 0,
             "ticks": ""
            },
            "type": "mesh3d"
           }
          ],
          "parcoords": [
           {
            "line": {
             "colorbar": {
              "outlinewidth": 0,
              "ticks": ""
             }
            },
            "type": "parcoords"
           }
          ],
          "pie": [
           {
            "automargin": true,
            "type": "pie"
           }
          ],
          "scatter": [
           {
            "fillpattern": {
             "fillmode": "overlay",
             "size": 10,
             "solidity": 0.2
            },
            "type": "scatter"
           }
          ],
          "scatter3d": [
           {
            "line": {
             "colorbar": {
              "outlinewidth": 0,
              "ticks": ""
             }
            },
            "marker": {
             "colorbar": {
              "outlinewidth": 0,
              "ticks": ""
             }
            },
            "type": "scatter3d"
           }
          ],
          "scattercarpet": [
           {
            "marker": {
             "colorbar": {
              "outlinewidth": 0,
              "ticks": ""
             }
            },
            "type": "scattercarpet"
           }
          ],
          "scattergeo": [
           {
            "marker": {
             "colorbar": {
              "outlinewidth": 0,
              "ticks": ""
             }
            },
            "type": "scattergeo"
           }
          ],
          "scattergl": [
           {
            "marker": {
             "colorbar": {
              "outlinewidth": 0,
              "ticks": ""
             }
            },
            "type": "scattergl"
           }
          ],
          "scattermapbox": [
           {
            "marker": {
             "colorbar": {
              "outlinewidth": 0,
              "ticks": ""
             }
            },
            "type": "scattermapbox"
           }
          ],
          "scatterpolar": [
           {
            "marker": {
             "colorbar": {
              "outlinewidth": 0,
              "ticks": ""
             }
            },
            "type": "scatterpolar"
           }
          ],
          "scatterpolargl": [
           {
            "marker": {
             "colorbar": {
              "outlinewidth": 0,
              "ticks": ""
             }
            },
            "type": "scatterpolargl"
           }
          ],
          "scatterternary": [
           {
            "marker": {
             "colorbar": {
              "outlinewidth": 0,
              "ticks": ""
             }
            },
            "type": "scatterternary"
           }
          ],
          "surface": [
           {
            "colorbar": {
             "outlinewidth": 0,
             "ticks": ""
            },
            "colorscale": [
             [
              0,
              "#0d0887"
             ],
             [
              0.1111111111111111,
              "#46039f"
             ],
             [
              0.2222222222222222,
              "#7201a8"
             ],
             [
              0.3333333333333333,
              "#9c179e"
             ],
             [
              0.4444444444444444,
              "#bd3786"
             ],
             [
              0.5555555555555556,
              "#d8576b"
             ],
             [
              0.6666666666666666,
              "#ed7953"
             ],
             [
              0.7777777777777778,
              "#fb9f3a"
             ],
             [
              0.8888888888888888,
              "#fdca26"
             ],
             [
              1,
              "#f0f921"
             ]
            ],
            "type": "surface"
           }
          ],
          "table": [
           {
            "cells": {
             "fill": {
              "color": "#EBF0F8"
             },
             "line": {
              "color": "white"
             }
            },
            "header": {
             "fill": {
              "color": "#C8D4E3"
             },
             "line": {
              "color": "white"
             }
            },
            "type": "table"
           }
          ]
         },
         "layout": {
          "annotationdefaults": {
           "arrowcolor": "#2a3f5f",
           "arrowhead": 0,
           "arrowwidth": 1
          },
          "autotypenumbers": "strict",
          "coloraxis": {
           "colorbar": {
            "outlinewidth": 0,
            "ticks": ""
           }
          },
          "colorscale": {
           "diverging": [
            [
             0,
             "#8e0152"
            ],
            [
             0.1,
             "#c51b7d"
            ],
            [
             0.2,
             "#de77ae"
            ],
            [
             0.3,
             "#f1b6da"
            ],
            [
             0.4,
             "#fde0ef"
            ],
            [
             0.5,
             "#f7f7f7"
            ],
            [
             0.6,
             "#e6f5d0"
            ],
            [
             0.7,
             "#b8e186"
            ],
            [
             0.8,
             "#7fbc41"
            ],
            [
             0.9,
             "#4d9221"
            ],
            [
             1,
             "#276419"
            ]
           ],
           "sequential": [
            [
             0,
             "#0d0887"
            ],
            [
             0.1111111111111111,
             "#46039f"
            ],
            [
             0.2222222222222222,
             "#7201a8"
            ],
            [
             0.3333333333333333,
             "#9c179e"
            ],
            [
             0.4444444444444444,
             "#bd3786"
            ],
            [
             0.5555555555555556,
             "#d8576b"
            ],
            [
             0.6666666666666666,
             "#ed7953"
            ],
            [
             0.7777777777777778,
             "#fb9f3a"
            ],
            [
             0.8888888888888888,
             "#fdca26"
            ],
            [
             1,
             "#f0f921"
            ]
           ],
           "sequentialminus": [
            [
             0,
             "#0d0887"
            ],
            [
             0.1111111111111111,
             "#46039f"
            ],
            [
             0.2222222222222222,
             "#7201a8"
            ],
            [
             0.3333333333333333,
             "#9c179e"
            ],
            [
             0.4444444444444444,
             "#bd3786"
            ],
            [
             0.5555555555555556,
             "#d8576b"
            ],
            [
             0.6666666666666666,
             "#ed7953"
            ],
            [
             0.7777777777777778,
             "#fb9f3a"
            ],
            [
             0.8888888888888888,
             "#fdca26"
            ],
            [
             1,
             "#f0f921"
            ]
           ]
          },
          "colorway": [
           "#636efa",
           "#EF553B",
           "#00cc96",
           "#ab63fa",
           "#FFA15A",
           "#19d3f3",
           "#FF6692",
           "#B6E880",
           "#FF97FF",
           "#FECB52"
          ],
          "font": {
           "color": "#2a3f5f"
          },
          "geo": {
           "bgcolor": "white",
           "lakecolor": "white",
           "landcolor": "white",
           "showlakes": true,
           "showland": true,
           "subunitcolor": "#C8D4E3"
          },
          "hoverlabel": {
           "align": "left"
          },
          "hovermode": "closest",
          "mapbox": {
           "style": "light"
          },
          "paper_bgcolor": "white",
          "plot_bgcolor": "white",
          "polar": {
           "angularaxis": {
            "gridcolor": "#EBF0F8",
            "linecolor": "#EBF0F8",
            "ticks": ""
           },
           "bgcolor": "white",
           "radialaxis": {
            "gridcolor": "#EBF0F8",
            "linecolor": "#EBF0F8",
            "ticks": ""
           }
          },
          "scene": {
           "xaxis": {
            "backgroundcolor": "white",
            "gridcolor": "#DFE8F3",
            "gridwidth": 2,
            "linecolor": "#EBF0F8",
            "showbackground": true,
            "ticks": "",
            "zerolinecolor": "#EBF0F8"
           },
           "yaxis": {
            "backgroundcolor": "white",
            "gridcolor": "#DFE8F3",
            "gridwidth": 2,
            "linecolor": "#EBF0F8",
            "showbackground": true,
            "ticks": "",
            "zerolinecolor": "#EBF0F8"
           },
           "zaxis": {
            "backgroundcolor": "white",
            "gridcolor": "#DFE8F3",
            "gridwidth": 2,
            "linecolor": "#EBF0F8",
            "showbackground": true,
            "ticks": "",
            "zerolinecolor": "#EBF0F8"
           }
          },
          "shapedefaults": {
           "line": {
            "color": "#2a3f5f"
           }
          },
          "ternary": {
           "aaxis": {
            "gridcolor": "#DFE8F3",
            "linecolor": "#A2B1C6",
            "ticks": ""
           },
           "baxis": {
            "gridcolor": "#DFE8F3",
            "linecolor": "#A2B1C6",
            "ticks": ""
           },
           "bgcolor": "white",
           "caxis": {
            "gridcolor": "#DFE8F3",
            "linecolor": "#A2B1C6",
            "ticks": ""
           }
          },
          "title": {
           "x": 0.05
          },
          "xaxis": {
           "automargin": true,
           "gridcolor": "#EBF0F8",
           "linecolor": "#EBF0F8",
           "ticks": "",
           "title": {
            "standoff": 15
           },
           "zerolinecolor": "#EBF0F8",
           "zerolinewidth": 2
          },
          "yaxis": {
           "automargin": true,
           "gridcolor": "#EBF0F8",
           "linecolor": "#EBF0F8",
           "ticks": "",
           "title": {
            "standoff": 15
           },
           "zerolinecolor": "#EBF0F8",
           "zerolinewidth": 2
          }
         }
        },
        "title": {
         "font": {
          "size": 30
         },
         "text": "marginalFreq vs Exposure"
        },
        "updatemenus": [
         {
          "buttons": [
           {
            "args": [
             {
              "visible": [
               true,
               true,
               true,
               false,
               false,
               false
              ]
             },
             {
              "title": {
               "font": {
                "size": 30
               },
               "text": "marginalFreq vs Exposure"
              },
              "yaxis": {
               "title": {
                "side": "left",
                "text": "Exposicion"
               }
              },
              "yaxis2": {
               "overlaying": "y",
               "side": "right",
               "tickmode": "sync",
               "title": {
                "text": "marginalFreq"
               }
              }
             }
            ],
            "label": "marginalFreq",
            "method": "update"
           },
           {
            "args": [
             {
              "visible": [
               false,
               false,
               false,
               true,
               true,
               true
              ]
             },
             {
              "title": {
               "font": {
                "size": 30
               },
               "text": "marginalSeve vs Claim Number"
              },
              "yaxis": {
               "title": {
                "side": "left",
                "text": "Numero Siniestros"
               }
              },
              "yaxis2": {
               "overlaying": "y",
               "side": "right",
               "tickmode": "sync",
               "title": {
                "text": "marginalSeve"
               }
              }
             }
            ],
            "label": "marginalSeve",
            "method": "update"
           }
          ],
          "type": "buttons",
          "x": 1.4,
          "y": 0.5
         }
        ],
        "xaxis": {
         "anchor": "y",
         "domain": [
          0,
          0.94
         ]
        },
        "yaxis": {
         "anchor": "x",
         "domain": [
          0,
          1
         ],
         "side": "left",
         "title": {
          "text": "Exposicion"
         }
        },
        "yaxis2": {
         "anchor": "x",
         "overlaying": "y",
         "side": "right",
         "title": {
          "text": "marginalFreq"
         }
        }
       }
      }
     },
     "metadata": {},
     "output_type": "display_data"
    }
   ],
   "source": [
    "eda = FreqSevEDA(df, exposure=\"Exposicion\", claimNb=\"Numero Siniestros\", claimAmount=\"Monto de siniestro\")\n",
    "eda.interactive_graph()"
   ]
  },
  {
   "cell_type": "markdown",
   "metadata": {},
   "source": [
    "# Description by columns\n",
    "\n",
    "- We have negative values for TIV (Is this a mistake?) how should we deal with those values? We have only one location with negative TIV loc068. In this case we will take absolute value of the TIV column, in that way we don't lose information.\n",
    "- Information between years 2014 and 2023\n",
    "- Is premium in USD dolars?\n",
    "- Duration floods between 4 and 10 days\n",
    "- Severity value between 2 and 5. Why we don't have value 1?\n",
    "- Precipitation between 100 mm and 310 mm\n",
    "- Raising of river between 1.2 M and 4.5 M"
   ]
  },
  {
   "cell_type": "code",
   "execution_count": 7,
   "metadata": {},
   "outputs": [
    {
     "name": "stdout",
     "output_type": "stream",
     "text": [
      "shape: (9, 22)\n",
      "| statistic  | Loc ID | Año Póliza | Exposicion | Suma Asegurada    | Prima          | Evento ID | Numero Siniestros | Mes       | Duración de la inundación (día… | Severidad de la inundación (es… | Precipitación (mm) | Incremento del Nivel del Río (… | Monto de siniestro | Latitud   | Longitud  | Ciudad | Pais      | Codigo pais | Continente | Sub continente            | Continente intermedio |\n",
      "|------------|--------|------------|------------|-------------------|----------------|-----------|-------------------|-----------|---------------------------------|---------------------------------|--------------------|---------------------------------|--------------------|-----------|-----------|--------|-----------|-------------|------------|---------------------------|-----------------------|\n",
      "| count      | 1580   | 1,580.000  | 1,580.000  | 1,580.000         | 1,580.000      | 188.000   | 1,580.000         | 188.000   | 188.000                         | 188.000                         | 188.000            | 188.000                         | 1,580.000          | 1,580.000 | 1,580.000 | 1580   | 1580      | 1580        | 1560       | 1560                      | 560                   |\n",
      "| null_count | 0      | 0.000      | 0.000      | 0.000             | 0.000          | 1,392.000 | 0.000             | 1,392.000 | 1,392.000                       | 1,392.000                       | 1,392.000          | 1,392.000                       | 0.000              | 0.000     | 0.000     | 0      | 0         | 0           | 20         | 20                        | 1020                  |\n",
      "| mean       | null   | 2,018.500  | 1.000      | 216,218,402.083   | 1,345,975.013  | 30.324    | 0.119             | 6.952     | 6.356                           | 3.574                           | 189.521            | 2.472                           | 67,645.570         | 7.085     | 22.769    | null   | null      | null        | null       | null                      | null                  |\n",
      "| std        | null   | 2.873      | 0.000      | 250,190,300.868   | 1,748,856.293  | 17.172    | 0.324             | 3.644     | 1.729                           | 0.942                           | 47.643             | 0.804                           | 280,162.625        | 32.044    | 85.942    | null   | null      | null        | null       | null                      | null                  |\n",
      "| min        | loc001 | 2,014.000  | 1.000      | -10,982,380.000   | 50,984.000     | 1.000     | 0.000             | 1.000     | 4.000                           | 2.000                           | 100.000            | 1.200                           | 0.000              | -41.295   | -123.131  | Abuja  | Argentina | ARG         | Africa     | Australia and New Zealand | Central America       |\n",
      "| 25%        | null   | 2,016.000  | 1.000      | 54,090,060.000    | 339,730.000    | 16.000    | 0.000             | 3.000     | 5.000                           | 3.000                           | 150.000            | 1.900                           | 0.000              | -27.500   | -58.413   | null   | null      | null        | null       | null                      | null                  |\n",
      "| 50%        | null   | 2,019.000  | 1.000      | 121,573,530.000   | 769,800.000    | 30.000    | 0.000             | 7.000     | 6.000                           | 4.000                           | 190.000            | 2.400                           | 0.000              | 14.535    | 12.483    | null   | null      | null        | null       | null                      | null                  |\n",
      "| 75%        | null   | 2,021.000  | 1.000      | 288,763,580.000   | 1,678,180.000  | 45.000    | 0.000             | 11.000    | 8.000                           | 4.000                           | 220.000            | 2.900                           | 0.000              | 39.679    | 112.643   | null   | null      | null        | null       | null                      | null                  |\n",
      "| max        | loc200 | 2,023.000  | 1.000      | 1,820,998,510.000 | 16,860,910.000 | 60.000    | 1.000             | 12.000    | 10.000                          | 5.000                           | 310.000            | 4.500                           | 4,280,000.000      | 52.523    | 174.883   | Ōrākei | unknown   | unknown     | Oceania    | Western Europe            | Western Africa        |\n"
     ]
    }
   ],
   "source": [
    "with config():\n",
    "    print(df.describe())\n",
    "\n",
    "#lets fix TIV values \n",
    "\n",
    "df = df.with_columns(pl.col(\"Suma Asegurada\").abs())\n"
   ]
  },
  {
   "cell_type": "markdown",
   "metadata": {},
   "source": [
    "# Information against Año Póliza\n",
    "\n",
    "- Precipitación Promedio per years tends to increase"
   ]
  },
  {
   "cell_type": "code",
   "execution_count": 15,
   "metadata": {},
   "outputs": [
    {
     "data": {
      "text/html": [
       "<div><style>\n",
       ".dataframe > thead > tr,\n",
       ".dataframe > tbody > tr {\n",
       "  text-align: right;\n",
       "  white-space: pre-wrap;\n",
       "}\n",
       "</style>\n",
       "<small>shape: (27, 18)</small><table border=\"1\" class=\"dataframe\"><thead><tr><th>Pais</th><th>Exposicion</th><th>Suma Asegurada</th><th>Prima Ganada</th><th>Número Eventos</th><th>Numero Siniestros</th><th>Duración Promedio</th><th>Magnitud Inundaciones Promedio</th><th>Precipitación Promedio</th><th>Incremento Promedio</th><th>Incurrido</th><th>Indice de Siniestralidad</th><th>Tasa por Mil</th><th>TPR</th><th>Frecuencia</th><th>Severidad</th><th>Prima Pura</th><th>proportion</th></tr><tr><td>str</td><td>i64</td><td>i64</td><td>i64</td><td>u32</td><td>i64</td><td>f64</td><td>f64</td><td>f64</td><td>f64</td><td>i64</td><td>f64</td><td>f64</td><td>f64</td><td>f64</td><td>f64</td><td>f64</td><td>f64</td></tr></thead><tbody><tr><td>&quot;Argentina&quot;</td><td>70</td><td>5444474010</td><td>40719191</td><td>2</td><td>7</td><td>5.428571</td><td>2.857143</td><td>147.142857</td><td>2.1</td><td>1230000</td><td>0.030207</td><td>7.478994</td><td>0.000226</td><td>0.1</td><td>175714.285714</td><td>17571.428571</td><td>0.000432</td></tr><tr><td>&quot;Brazil&quot;</td><td>70</td><td>10707066620</td><td>66963252</td><td>2</td><td>7</td><td>4.571429</td><td>2.571429</td><td>151.428571</td><td>1.871429</td><td>1400000</td><td>0.020907</td><td>6.254117</td><td>0.000131</td><td>0.1</td><td>200000.0</td><td>20000.0</td><td>0.000299</td></tr><tr><td>&quot;South Africa&quot;</td><td>80</td><td>6805602900</td><td>58991325</td><td>2</td><td>8</td><td>7.0</td><td>4.0</td><td>170.0</td><td>2.3</td><td>1660000</td><td>0.02814</td><td>8.668053</td><td>0.000244</td><td>0.1</td><td>207500.0</td><td>20750.0</td><td>0.000352</td></tr><tr><td>&quot;New Zealand&quot;</td><td>80</td><td>8436502580</td><td>80166073</td><td>2</td><td>8</td><td>5.0</td><td>3.0</td><td>155.0</td><td>1.8</td><td>1680000</td><td>0.020956</td><td>9.502287</td><td>0.000199</td><td>0.1</td><td>210000.0</td><td>21000.0</td><td>0.000262</td></tr><tr><td>&quot;Chile&quot;</td><td>60</td><td>5048979620</td><td>22885281</td><td>2</td><td>6</td><td>5.0</td><td>2.5</td><td>145.0</td><td>1.75</td><td>1320000</td><td>0.057679</td><td>4.532655</td><td>0.000261</td><td>0.1</td><td>220000.0</td><td>22000.0</td><td>0.000961</td></tr><tr><td>&hellip;</td><td>&hellip;</td><td>&hellip;</td><td>&hellip;</td><td>&hellip;</td><td>&hellip;</td><td>&hellip;</td><td>&hellip;</td><td>&hellip;</td><td>&hellip;</td><td>&hellip;</td><td>&hellip;</td><td>&hellip;</td><td>&hellip;</td><td>&hellip;</td><td>&hellip;</td><td>&hellip;</td><td>&hellip;</td></tr><tr><td>&quot;India&quot;</td><td>60</td><td>22292004080</td><td>162439295</td><td>2</td><td>6</td><td>8.666667</td><td>5.0</td><td>256.666667</td><td>4.0</td><td>8500000</td><td>0.052327</td><td>7.286886</td><td>0.000381</td><td>0.1</td><td>1.4167e6</td><td>141666.666667</td><td>0.000872</td></tr><tr><td>&quot;Japan&quot;</td><td>40</td><td>15972841700</td><td>115625035</td><td>2</td><td>4</td><td>8.0</td><td>4.5</td><td>230.0</td><td>3.0</td><td>6500000</td><td>0.056216</td><td>7.238852</td><td>0.000407</td><td>0.1</td><td>1.625e6</td><td>162500.0</td><td>0.001405</td></tr><tr><td>&quot;Germany&quot;</td><td>30</td><td>9245259740</td><td>86489322</td><td>2</td><td>6</td><td>9.0</td><td>5.0</td><td>210.0</td><td>3.0</td><td>5090000</td><td>0.058851</td><td>9.354991</td><td>0.000551</td><td>0.2</td><td>848333.333333</td><td>169666.666667</td><td>0.001962</td></tr><tr><td>&quot;Indonesia&quot;</td><td>50</td><td>25781744720</td><td>148689033</td><td>2</td><td>5</td><td>9.4</td><td>5.0</td><td>306.0</td><td>4.26</td><td>10500000</td><td>0.070617</td><td>5.767222</td><td>0.000407</td><td>0.1</td><td>2.1e6</td><td>210000.0</td><td>0.001412</td></tr><tr><td>&quot;Philippines&quot;</td><td>20</td><td>7405617120</td><td>73022626</td><td>1</td><td>2</td><td>8.0</td><td>5.0</td><td>260.0</td><td>3.6</td><td>4500000</td><td>0.061625</td><td>9.860438</td><td>0.000608</td><td>0.1</td><td>2.25e6</td><td>225000.0</td><td>0.003081</td></tr></tbody></table></div>"
      ],
      "text/plain": [
       "shape: (27, 18)\n",
       "┌───────────┬───────────┬───────────┬───────────┬───┬───────────┬───────────┬───────────┬──────────┐\n",
       "│ Pais      ┆ Exposicio ┆ Suma      ┆ Prima     ┆ … ┆ Frecuenci ┆ Severidad ┆ Prima     ┆ proporti │\n",
       "│ ---       ┆ n         ┆ Asegurada ┆ Ganada    ┆   ┆ a         ┆ ---       ┆ Pura      ┆ on       │\n",
       "│ str       ┆ ---       ┆ ---       ┆ ---       ┆   ┆ ---       ┆ f64       ┆ ---       ┆ ---      │\n",
       "│           ┆ i64       ┆ i64       ┆ i64       ┆   ┆ f64       ┆           ┆ f64       ┆ f64      │\n",
       "╞═══════════╪═══════════╪═══════════╪═══════════╪═══╪═══════════╪═══════════╪═══════════╪══════════╡\n",
       "│ Argentina ┆ 70        ┆ 544447401 ┆ 40719191  ┆ … ┆ 0.1       ┆ 175714.28 ┆ 17571.428 ┆ 0.000432 │\n",
       "│           ┆           ┆ 0         ┆           ┆   ┆           ┆ 5714      ┆ 571       ┆          │\n",
       "│ Brazil    ┆ 70        ┆ 107070666 ┆ 66963252  ┆ … ┆ 0.1       ┆ 200000.0  ┆ 20000.0   ┆ 0.000299 │\n",
       "│           ┆           ┆ 20        ┆           ┆   ┆           ┆           ┆           ┆          │\n",
       "│ South     ┆ 80        ┆ 680560290 ┆ 58991325  ┆ … ┆ 0.1       ┆ 207500.0  ┆ 20750.0   ┆ 0.000352 │\n",
       "│ Africa    ┆           ┆ 0         ┆           ┆   ┆           ┆           ┆           ┆          │\n",
       "│ New       ┆ 80        ┆ 843650258 ┆ 80166073  ┆ … ┆ 0.1       ┆ 210000.0  ┆ 21000.0   ┆ 0.000262 │\n",
       "│ Zealand   ┆           ┆ 0         ┆           ┆   ┆           ┆           ┆           ┆          │\n",
       "│ Chile     ┆ 60        ┆ 504897962 ┆ 22885281  ┆ … ┆ 0.1       ┆ 220000.0  ┆ 22000.0   ┆ 0.000961 │\n",
       "│           ┆           ┆ 0         ┆           ┆   ┆           ┆           ┆           ┆          │\n",
       "│ …         ┆ …         ┆ …         ┆ …         ┆ … ┆ …         ┆ …         ┆ …         ┆ …        │\n",
       "│ India     ┆ 60        ┆ 222920040 ┆ 162439295 ┆ … ┆ 0.1       ┆ 1.4167e6  ┆ 141666.66 ┆ 0.000872 │\n",
       "│           ┆           ┆ 80        ┆           ┆   ┆           ┆           ┆ 6667      ┆          │\n",
       "│ Japan     ┆ 40        ┆ 159728417 ┆ 115625035 ┆ … ┆ 0.1       ┆ 1.625e6   ┆ 162500.0  ┆ 0.001405 │\n",
       "│           ┆           ┆ 00        ┆           ┆   ┆           ┆           ┆           ┆          │\n",
       "│ Germany   ┆ 30        ┆ 924525974 ┆ 86489322  ┆ … ┆ 0.2       ┆ 848333.33 ┆ 169666.66 ┆ 0.001962 │\n",
       "│           ┆           ┆ 0         ┆           ┆   ┆           ┆ 3333      ┆ 6667      ┆          │\n",
       "│ Indonesia ┆ 50        ┆ 257817447 ┆ 148689033 ┆ … ┆ 0.1       ┆ 2.1e6     ┆ 210000.0  ┆ 0.001412 │\n",
       "│           ┆           ┆ 20        ┆           ┆   ┆           ┆           ┆           ┆          │\n",
       "│ Philippin ┆ 20        ┆ 740561712 ┆ 73022626  ┆ … ┆ 0.1       ┆ 2.25e6    ┆ 225000.0  ┆ 0.003081 │\n",
       "│ es        ┆           ┆ 0         ┆           ┆   ┆           ┆           ┆           ┆          │\n",
       "└───────────┴───────────┴───────────┴───────────┴───┴───────────┴───────────┴───────────┴──────────┘"
      ]
     },
     "execution_count": 15,
     "metadata": {},
     "output_type": "execute_result"
    }
   ],
   "source": [
    "(df.group_by(\"Pais\").agg(pl.col(\"Exposicion\").sum().alias(\"Exposicion\"),\n",
    "                              pl.col(\"Suma Asegurada\").sum(),\n",
    "                              pl.col(\"Prima\").sum().alias(\"Prima Ganada\"),\n",
    "                              pl.col(\"Evento ID\").drop_nulls().n_unique().alias(\"Número Eventos\"),\n",
    "                              pl.col(\"Numero Siniestros\").sum(),\n",
    "                              pl.col(\"Duración de la inundación (días)\").mean().alias(\"Duración Promedio\"),\n",
    "                              pl.col(\"Severidad de la inundación (escala 1-5)\").mean().alias(\"Magnitud Inundaciones Promedio\"),\n",
    "                              pl.col(\"Precipitación (mm)\").mean().alias(\"Precipitación Promedio\"),\n",
    "                              pl.col(\"Incremento del Nivel del Río (m)\").mean().alias(\"Incremento Promedio\"),\n",
    "                              pl.col(\"Monto de siniestro\").sum().alias(\"Incurrido\"))\n",
    "                         .with_columns((pl.col(\"Incurrido\")/pl.col(\"Prima Ganada\")).alias(\"Indice de Siniestralidad\"),\n",
    "                                       (pl.col(\"Prima Ganada\")/pl.col(\"Suma Asegurada\")*1000).alias(\"Tasa por Mil\"),\n",
    "                                       (pl.col(\"Incurrido\")/pl.col(\"Suma Asegurada\")).alias(\"TPR\"),\n",
    "                                       (pl.col(\"Numero Siniestros\")/pl.col(\"Exposicion\")).alias(\"Frecuencia\"),\n",
    "                                       (pl.col(\"Incurrido\")/pl.col(\"Numero Siniestros\")).alias(\"Severidad\"))\n",
    "                         .with_columns((pl.col(\"Frecuencia\")*pl.col(\"Severidad\")).alias(\"Prima Pura\"))\n",
    "                         .with_columns((pl.col(\"Prima Pura\")/pl.col(\"Prima Ganada\")).alias(\"proportion\"))\n",
    "                         .sort(by = \"Prima Pura\", descending=False))\n"
   ]
  },
  {
   "cell_type": "markdown",
   "metadata": {},
   "source": []
  }
 ],
 "metadata": {
  "kernelspec": {
   "display_name": "base",
   "language": "python",
   "name": "python3"
  },
  "language_info": {
   "codemirror_mode": {
    "name": "ipython",
    "version": 3
   },
   "file_extension": ".py",
   "mimetype": "text/x-python",
   "name": "python",
   "nbconvert_exporter": "python",
   "pygments_lexer": "ipython3",
   "version": "3.11.5"
  }
 },
 "nbformat": 4,
 "nbformat_minor": 2
}
